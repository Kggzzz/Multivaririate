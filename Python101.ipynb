{
  "nbformat": 4,
  "nbformat_minor": 0,
  "metadata": {
    "colab": {
      "name": "Python101.ipynb",
      "provenance": [],
      "authorship_tag": "ABX9TyM/YKkdDT14KhaW0bjkrXt+",
      "include_colab_link": true
    },
    "kernelspec": {
      "name": "python3",
      "display_name": "Python 3"
    }
  },
  "cells": [
    {
      "cell_type": "markdown",
      "metadata": {
        "id": "view-in-github",
        "colab_type": "text"
      },
      "source": [
        "<a href=\"https://colab.research.google.com/github/Kggzzz/Multivaririate/blob/main/Python101.ipynb\" target=\"_parent\"><img src=\"https://colab.research.google.com/assets/colab-badge.svg\" alt=\"Open In Colab\"/></a>"
      ]
    },
    {
      "cell_type": "markdown",
      "metadata": {
        "id": "imA77yU6LzVe"
      },
      "source": [
        "#Variable ตัวแปร \r\n",
        "\r\n",
        "###ตัวแปรเปรียบเสมือนกล่อง เพื่อนำไปแทนค่าว่าตัวแปรนี้มีค่าว่าอะไร \r\n",
        "\r\n",
        "###หลักการตั้งชื่อตัวแปรเบื้องต้น\r\n",
        "\r\n",
        "1. ตั้งให้สื่อ\r\n",
        "2. ต้องเป็นภาษาอังกฤษ \r\n",
        "3. ใช้ตัวเลขได้แต่ห้ามขึ้นต้นด้วยตัวเลข \r\n",
        "4. ห้ามเว้นวรรค\r\n",
        "5. ตัวเล็กหับตัวใหญ่ มีค่าต่างกัน ไม่เหมือนกัน "
      ]
    },
    {
      "cell_type": "code",
      "metadata": {
        "colab": {
          "base_uri": "https://localhost:8080/"
        },
        "id": "kgje8Nz5KmOW",
        "outputId": "463eba9e-beff-4109-fbfd-4587a94f58a6"
      },
      "source": [
        "3.14159 # hashtag หรือ sharp คือ comment >>>อันนี้คือ output ที่ออกในหน้าจอ"
      ],
      "execution_count": null,
      "outputs": [
        {
          "output_type": "execute_result",
          "data": {
            "text/plain": [
              "3.14159"
            ]
          },
          "metadata": {
            "tags": []
          },
          "execution_count": 1
        }
      ]
    },
    {
      "cell_type": "code",
      "metadata": {
        "colab": {
          "base_uri": "https://localhost:8080/"
        },
        "id": "TucbOsRBL92N",
        "outputId": "11869070-20bf-43e5-faba-e852c69dfbcb"
      },
      "source": [
        "Pi = 3.14159 #pi คือตัวแปรที่เราให้แทนค่าของ 3.14159 เป็น output ที่อยู่ในตัวแปร\r\n",
        "Pi"
      ],
      "execution_count": null,
      "outputs": [
        {
          "output_type": "execute_result",
          "data": {
            "text/plain": [
              "3.14159"
            ]
          },
          "metadata": {
            "tags": []
          },
          "execution_count": 3
        }
      ]
    },
    {
      "cell_type": "code",
      "metadata": {
        "colab": {
          "base_uri": "https://localhost:8080/"
        },
        "id": "K0QADMbXNUJl",
        "outputId": "ba1c3b14-ed2d-43e9-c6a0-0bde86106887"
      },
      "source": [
        "a = 1234567\r\n",
        "print(a)"
      ],
      "execution_count": null,
      "outputs": [
        {
          "output_type": "stream",
          "text": [
            "1234567\n"
          ],
          "name": "stdout"
        }
      ]
    },
    {
      "cell_type": "markdown",
      "metadata": {
        "id": "2pHlWWL7Mrlu"
      },
      "source": [
        "##ชนิดของตัวแปร มี 3 ชนิด\r\n"
      ]
    },
    {
      "cell_type": "markdown",
      "metadata": {
        "id": "PAlJ1iepOyn2"
      },
      "source": [
        "###จำนวนเต็ม (integer, int)"
      ]
    },
    {
      "cell_type": "code",
      "metadata": {
        "colab": {
          "base_uri": "https://localhost:8080/"
        },
        "id": "2pZCnUacO6Uz",
        "outputId": "dcf7227c-fe30-42a2-f8dc-f0bb3dea87c6"
      },
      "source": [
        "aaa = 1092\r\n",
        "aaa"
      ],
      "execution_count": null,
      "outputs": [
        {
          "output_type": "execute_result",
          "data": {
            "text/plain": [
              "1092"
            ]
          },
          "metadata": {
            "tags": []
          },
          "execution_count": 5
        }
      ]
    },
    {
      "cell_type": "markdown",
      "metadata": {
        "id": "8IMyoRB0O0ge"
      },
      "source": [
        "###จำนวนจริง (float)"
      ]
    },
    {
      "cell_type": "code",
      "metadata": {
        "colab": {
          "base_uri": "https://localhost:8080/"
        },
        "id": "ozJwwV4zPGO-",
        "outputId": "b68216d7-f0f1-49ec-bb6f-78e6af70adc0"
      },
      "source": [
        "bbb = 11.\r\n",
        "bbb"
      ],
      "execution_count": null,
      "outputs": [
        {
          "output_type": "execute_result",
          "data": {
            "text/plain": [
              "11.0"
            ]
          },
          "metadata": {
            "tags": []
          },
          "execution_count": 6
        }
      ]
    },
    {
      "cell_type": "markdown",
      "metadata": {
        "id": "leJBq5WyO1XV"
      },
      "source": [
        "###ตัวอักษร หรือ ข้อความ (character และ text,string)"
      ]
    },
    {
      "cell_type": "code",
      "metadata": {
        "colab": {
          "base_uri": "https://localhost:8080/",
          "height": 35
        },
        "id": "ZujOfWW9PYi2",
        "outputId": "a2a91c1f-b5d2-468e-b2d2-b725e43e102e"
      },
      "source": [
        "ccc = '123456' #การสร้างตัวแปรที่เป็นตัวอักษรจะต้องใช้ quote ในการสร้าง ทั่ง single , double โดยจะล้อมรอบตัวหนังสือไว้ เพื่อระบุว่าเป็น character \r\n",
        "ccc"
      ],
      "execution_count": null,
      "outputs": [
        {
          "output_type": "execute_result",
          "data": {
            "application/vnd.google.colaboratory.intrinsic+json": {
              "type": "string"
            },
            "text/plain": [
              "'123456'"
            ]
          },
          "metadata": {
            "tags": []
          },
          "execution_count": 7
        }
      ]
    },
    {
      "cell_type": "code",
      "metadata": {
        "colab": {
          "base_uri": "https://localhost:8080/"
        },
        "id": "Wcp_BNEDP29p",
        "outputId": "4d5de746-5719-40e0-9c76-014c8a654c6e"
      },
      "source": [
        "aaa + bbb #float + int = float"
      ],
      "execution_count": null,
      "outputs": [
        {
          "output_type": "execute_result",
          "data": {
            "text/plain": [
              "1103.0"
            ]
          },
          "metadata": {
            "tags": []
          },
          "execution_count": 8
        }
      ]
    },
    {
      "cell_type": "code",
      "metadata": {
        "id": "c8ZNF5WfbhUK"
      },
      "source": [
        "bbb + ccc #เราไม่สามารถนำ str + float หรือ int ได้ \r\n",
        "#ถ้าต้องการให้บวกกันได้ เราจะต้องเปลี่ยนชนิดของตัวแปรก่อน "
      ],
      "execution_count": null,
      "outputs": []
    },
    {
      "cell_type": "code",
      "metadata": {
        "colab": {
          "base_uri": "https://localhost:8080/",
          "height": 35
        },
        "id": "0kvwLFVhQkZP",
        "outputId": "8a59e345-47af-47f0-9c90-5a2b3f148016"
      },
      "source": [
        "ddd = 'รัฐพร'\r\n",
        "ddd"
      ],
      "execution_count": null,
      "outputs": [
        {
          "output_type": "execute_result",
          "data": {
            "application/vnd.google.colaboratory.intrinsic+json": {
              "type": "string"
            },
            "text/plain": [
              "'รัฐพร'"
            ]
          },
          "metadata": {
            "tags": []
          },
          "execution_count": 10
        }
      ]
    },
    {
      "cell_type": "markdown",
      "metadata": {
        "id": "ZSwPxRYbRCsa"
      },
      "source": [
        "##การเปลี่ยนชนิดของตัวแปร Variable casting\r\n",
        "\r\n",
        "เป็นการเปลี่ยนชนิดตัวแปรให้เหมือนกัน \r\n",
        "\r\n",
        "โดยส่วนใหญ่จะใช้เมื่อการที่เรานำไฟล์จากข้างนอกมา ตัวแปรในไฟล์ต่างๆจะมีชนิดที่ไม่เหมือนกัน "
      ]
    },
    {
      "cell_type": "code",
      "metadata": {
        "colab": {
          "base_uri": "https://localhost:8080/"
        },
        "id": "vLmm3SoKRmiG",
        "outputId": "d974766b-5b72-4fc6-c96c-b5db8ee9e525"
      },
      "source": [
        "bbb + int(ccc)"
      ],
      "execution_count": null,
      "outputs": [
        {
          "output_type": "execute_result",
          "data": {
            "text/plain": [
              "123467.0"
            ]
          },
          "metadata": {
            "tags": []
          },
          "execution_count": 11
        }
      ]
    },
    {
      "cell_type": "code",
      "metadata": {
        "colab": {
          "base_uri": "https://localhost:8080/"
        },
        "id": "lRFvdA5yRpPF",
        "outputId": "b9dfd1f4-f181-4ba6-d432-f6493a598f8a"
      },
      "source": [
        "aaa + int(ccc)"
      ],
      "execution_count": null,
      "outputs": [
        {
          "output_type": "execute_result",
          "data": {
            "text/plain": [
              "124548"
            ]
          },
          "metadata": {
            "tags": []
          },
          "execution_count": 12
        }
      ]
    },
    {
      "cell_type": "code",
      "metadata": {
        "colab": {
          "base_uri": "https://localhost:8080/"
        },
        "id": "LfmX3m2xR7oy",
        "outputId": "07fdeffd-a3af-4296-fa49-4db50042a1d7"
      },
      "source": [
        "aaa + float(ccc)"
      ],
      "execution_count": null,
      "outputs": [
        {
          "output_type": "execute_result",
          "data": {
            "text/plain": [
              "124548.0"
            ]
          },
          "metadata": {
            "tags": []
          },
          "execution_count": 14
        }
      ]
    },
    {
      "cell_type": "code",
      "metadata": {
        "colab": {
          "base_uri": "https://localhost:8080/",
          "height": 35
        },
        "id": "_EW8QoOQR-cE",
        "outputId": "da79025c-13c3-46fd-f716-74d36b2cff88"
      },
      "source": [
        "str(aaa)"
      ],
      "execution_count": null,
      "outputs": [
        {
          "output_type": "execute_result",
          "data": {
            "application/vnd.google.colaboratory.intrinsic+json": {
              "type": "string"
            },
            "text/plain": [
              "'1092'"
            ]
          },
          "metadata": {
            "tags": []
          },
          "execution_count": 15
        }
      ]
    },
    {
      "cell_type": "markdown",
      "metadata": {
        "id": "-0XHzoIbSgqY"
      },
      "source": [
        "##การดำเนินการ Operation (Operator +,-,*,/,%)"
      ]
    },
    {
      "cell_type": "code",
      "metadata": {
        "colab": {
          "base_uri": "https://localhost:8080/"
        },
        "id": "pOUm-JBXSBgc",
        "outputId": "5950d727-947a-4995-8564-3cbf5952ba3e"
      },
      "source": [
        "aaa + bbb"
      ],
      "execution_count": null,
      "outputs": [
        {
          "output_type": "execute_result",
          "data": {
            "text/plain": [
              "1103.0"
            ]
          },
          "metadata": {
            "tags": []
          },
          "execution_count": 16
        }
      ]
    },
    {
      "cell_type": "code",
      "metadata": {
        "colab": {
          "base_uri": "https://localhost:8080/"
        },
        "id": "niZr8pjbS-iI",
        "outputId": "b2fd7eee-ef18-49f6-bafb-e9aae17fd8d2"
      },
      "source": [
        "ab = aaa*bbb\r\n",
        "ab"
      ],
      "execution_count": null,
      "outputs": [
        {
          "output_type": "execute_result",
          "data": {
            "text/plain": [
              "12012.0"
            ]
          },
          "metadata": {
            "tags": []
          },
          "execution_count": 17
        }
      ]
    },
    {
      "cell_type": "markdown",
      "metadata": {
        "id": "RdlShE9XTFtO"
      },
      "source": [
        "% หมายถึง modulo "
      ]
    },
    {
      "cell_type": "code",
      "metadata": {
        "colab": {
          "base_uri": "https://localhost:8080/"
        },
        "id": "hNcAh5r2TEUS",
        "outputId": "7fd64341-ad47-4f9a-921c-155429afea41"
      },
      "source": [
        "5%3"
      ],
      "execution_count": null,
      "outputs": [
        {
          "output_type": "execute_result",
          "data": {
            "text/plain": [
              "2"
            ]
          },
          "metadata": {
            "tags": []
          },
          "execution_count": 18
        }
      ]
    },
    {
      "cell_type": "code",
      "metadata": {
        "colab": {
          "base_uri": "https://localhost:8080/"
        },
        "id": "j3RackJYTT9B",
        "outputId": "a3228d5b-ff18-4404-fdb9-e329504d59f8"
      },
      "source": [
        "7%3"
      ],
      "execution_count": null,
      "outputs": [
        {
          "output_type": "execute_result",
          "data": {
            "text/plain": [
              "1"
            ]
          },
          "metadata": {
            "tags": []
          },
          "execution_count": 19
        }
      ]
    },
    {
      "cell_type": "markdown",
      "metadata": {
        "id": "CKMxLQlAU25p"
      },
      "source": [
        "###คำสั่ง print แบบพิเศษ (การ format string)"
      ]
    },
    {
      "cell_type": "code",
      "metadata": {
        "colab": {
          "base_uri": "https://localhost:8080/"
        },
        "id": "CeUOs-QtTnWs",
        "outputId": "c2aded5f-ac65-4ca9-ab63-04818fee9eea"
      },
      "source": [
        "print('ตัวแปร') #สิ่งที่อยู่ข้างในวงเล็บคือ ตัวแปร และ string"
      ],
      "execution_count": null,
      "outputs": [
        {
          "output_type": "stream",
          "text": [
            "ตัวแปร\n"
          ],
          "name": "stdout"
        }
      ]
    },
    {
      "cell_type": "code",
      "metadata": {
        "colab": {
          "base_uri": "https://localhost:8080/"
        },
        "id": "auQO_niFU9-6",
        "outputId": "46ab16ed-4c20-4fe8-e503-cb429beec9b6"
      },
      "source": [
        "print(f'% คือการหารเอาเศษ เช่น 7%3 = {7%3}') \r\n",
        "#เพิ่ม f หน้า 'string' และใช้ {} ใส่ code"
      ],
      "execution_count": null,
      "outputs": [
        {
          "output_type": "stream",
          "text": [
            "% คือการหารเอาเศษ เช่น 7%3 = 1\n"
          ],
          "name": "stdout"
        }
      ]
    },
    {
      "cell_type": "code",
      "metadata": {
        "colab": {
          "base_uri": "https://localhost:8080/"
        },
        "id": "pdjRNoShVDHb",
        "outputId": "433809f3-4d49-4350-d8a9-b32bbfac1893"
      },
      "source": [
        "print(f'% คือการหารเอาเศษ เช่น 7%3 = {7%3} \\\r\n",
        "แต่ \\n/ คือการหารปกติ เช่น 7/3 = {7/3} \\\r\n",
        "\\n// คือการหารเอาส่วน เช่น 7//3 = {7//3} หรือ \\\r\n",
        "\\n/ คือการหารเอาส่วนแบบให้int เช่น int(7/3) = {int(7/3)}')\r\n",
        "#\\n คือการขึ้นบรรทัดใหม่ ใช้ในการตัด code แต่คอมจะไม่เห็น "
      ],
      "execution_count": null,
      "outputs": [
        {
          "output_type": "stream",
          "text": [
            "% คือการหารเอาเศษ เช่น 7%3 = 1 แต่ \n",
            "/ คือการหารปกติ เช่น 7/3 = 2.3333333333333335 \n",
            "// คือการหารเอาส่วน เช่น 7//3 = 2 หรือ \n",
            "/ คือการหารเอาส่วนแบบให้int เช่น int(7/3) = 2\n"
          ],
          "name": "stdout"
        }
      ]
    },
    {
      "cell_type": "markdown",
      "metadata": {
        "id": "JfRAd3N9Xjg1"
      },
      "source": [
        "#DATA STRUCTURE (โครงสร้างข้อมูล)\r\n",
        "\r\n",
        "###List คือ การเอาตัวแปรหลายๆตัวมาเรียงกัน\r\n",
        "\r\n",
        "####list สามารถสร้างได้ 2 แบบ"
      ]
    },
    {
      "cell_type": "markdown",
      "metadata": {
        "id": "rm6iEYDiXpIv"
      },
      "source": [
        "แบบที่ 1 square bucket"
      ]
    },
    {
      "cell_type": "code",
      "metadata": {
        "id": "4AmVi7vxX3_W"
      },
      "source": [
        "list_a = []"
      ],
      "execution_count": 3,
      "outputs": []
    },
    {
      "cell_type": "code",
      "metadata": {
        "id": "Ycm5oU_hX7dX"
      },
      "source": [
        "list_d = [1,5,'v'] #ลำดับของตัวแปรใน list จะมีความสำคัญ"
      ],
      "execution_count": 4,
      "outputs": []
    },
    {
      "cell_type": "markdown",
      "metadata": {
        "id": "cEl5rv7OXphP"
      },
      "source": [
        "ลำดับใน list มีความสำคัญ (ลำดับใน list เริ่มจาก 0,1,2,...)"
      ]
    },
    {
      "cell_type": "code",
      "metadata": {
        "colab": {
          "base_uri": "https://localhost:8080/",
          "height": 34
        },
        "id": "Vobn9ZDiYM9Z",
        "outputId": "a2b9326f-6744-468d-91e0-2595fd327bf6"
      },
      "source": [
        "list_d[2]"
      ],
      "execution_count": 5,
      "outputs": [
        {
          "output_type": "execute_result",
          "data": {
            "application/vnd.google.colaboratory.intrinsic+json": {
              "type": "string"
            },
            "text/plain": [
              "'v'"
            ]
          },
          "metadata": {
            "tags": []
          },
          "execution_count": 5
        }
      ]
    },
    {
      "cell_type": "markdown",
      "metadata": {
        "id": "Hzu6GWcMYVW3"
      },
      "source": [
        "แบบที่ 2 "
      ]
    },
    {
      "cell_type": "code",
      "metadata": {
        "id": "iGt47qGQYTy4",
        "outputId": "e04f534a-5538-4ac0-9e5f-6b2f1bb11c96",
        "colab": {
          "base_uri": "https://localhost:8080/"
        }
      },
      "source": [
        "list_c = list()\r\n",
        "list_c"
      ],
      "execution_count": 6,
      "outputs": [
        {
          "output_type": "execute_result",
          "data": {
            "text/plain": [
              "[]"
            ]
          },
          "metadata": {
            "tags": []
          },
          "execution_count": 6
        }
      ]
    },
    {
      "cell_type": "code",
      "metadata": {
        "id": "qBCPingbXuuV"
      },
      "source": [
        "list_b = [111,'c','งง','1092']"
      ],
      "execution_count": 7,
      "outputs": []
    },
    {
      "cell_type": "markdown",
      "metadata": {
        "id": "h_R7faFFYylf"
      },
      "source": [
        "###append() เพิ่มสมาชิกใน list"
      ]
    },
    {
      "cell_type": "code",
      "metadata": {
        "colab": {
          "base_uri": "https://localhost:8080/"
        },
        "id": "wmYFNXVwY4SB",
        "outputId": "d66a235a-8fe2-4b74-ed6b-76e06ccecbb1"
      },
      "source": [
        "list_b.append('u')\r\n",
        "list_b"
      ],
      "execution_count": 8,
      "outputs": [
        {
          "output_type": "execute_result",
          "data": {
            "text/plain": [
              "[111, 'c', 'งง', '1092', 'u']"
            ]
          },
          "metadata": {
            "tags": []
          },
          "execution_count": 8
        }
      ]
    },
    {
      "cell_type": "code",
      "metadata": {
        "colab": {
          "base_uri": "https://localhost:8080/",
          "height": 34
        },
        "id": "AvvyeMabZHuR",
        "outputId": "107e8709-330c-4afc-e7db-a3b2833fd480"
      },
      "source": [
        "list_b[-1] # เป้นการบอกลำดับตัวที่อยู่ใน list นั้นๆ โดย -1 คือการเรียงลำดับจากตัวสุดท้ายใน list"
      ],
      "execution_count": 9,
      "outputs": [
        {
          "output_type": "execute_result",
          "data": {
            "application/vnd.google.colaboratory.intrinsic+json": {
              "type": "string"
            },
            "text/plain": [
              "'u'"
            ]
          },
          "metadata": {
            "tags": []
          },
          "execution_count": 9
        }
      ]
    },
    {
      "cell_type": "markdown",
      "metadata": {
        "id": "mfcG5n9qZrJH"
      },
      "source": [
        "###String > list of characters"
      ]
    },
    {
      "cell_type": "code",
      "metadata": {
        "colab": {
          "base_uri": "https://localhost:8080/",
          "height": 34
        },
        "id": "ctyN44sfZ8tn",
        "outputId": "d2e1b96c-dc4d-4826-b94e-a21f546e77b5"
      },
      "source": [
        "t = 'python is easy'\r\n",
        "t"
      ],
      "execution_count": 1,
      "outputs": [
        {
          "output_type": "execute_result",
          "data": {
            "application/vnd.google.colaboratory.intrinsic+json": {
              "type": "string"
            },
            "text/plain": [
              "'python is easy'"
            ]
          },
          "metadata": {
            "tags": []
          },
          "execution_count": 1
        }
      ]
    },
    {
      "cell_type": "code",
      "metadata": {
        "colab": {
          "base_uri": "https://localhost:8080/",
          "height": 34
        },
        "id": "zaOpJy1daA7u",
        "outputId": "a96fe307-a875-4094-9c24-dc8b0442e7a6"
      },
      "source": [
        "t[1]"
      ],
      "execution_count": 10,
      "outputs": [
        {
          "output_type": "execute_result",
          "data": {
            "application/vnd.google.colaboratory.intrinsic+json": {
              "type": "string"
            },
            "text/plain": [
              "'y'"
            ]
          },
          "metadata": {
            "tags": []
          },
          "execution_count": 10
        }
      ]
    },
    {
      "cell_type": "code",
      "metadata": {
        "colab": {
          "base_uri": "https://localhost:8080/",
          "height": 34
        },
        "id": "LMbza_lxaCYH",
        "outputId": "52d4a85c-272d-4fa7-a53f-a8a02905fa28"
      },
      "source": [
        "t[-4]"
      ],
      "execution_count": 11,
      "outputs": [
        {
          "output_type": "execute_result",
          "data": {
            "application/vnd.google.colaboratory.intrinsic+json": {
              "type": "string"
            },
            "text/plain": [
              "'e'"
            ]
          },
          "metadata": {
            "tags": []
          },
          "execution_count": 11
        }
      ]
    },
    {
      "cell_type": "code",
      "metadata": {
        "colab": {
          "base_uri": "https://localhost:8080/",
          "height": 34
        },
        "id": "q99AGr6aaHSz",
        "outputId": "0f0e6428-70a1-4009-cbb7-2d7fc5846254"
      },
      "source": [
        "t[6]"
      ],
      "execution_count": 12,
      "outputs": [
        {
          "output_type": "execute_result",
          "data": {
            "application/vnd.google.colaboratory.intrinsic+json": {
              "type": "string"
            },
            "text/plain": [
              "' '"
            ]
          },
          "metadata": {
            "tags": []
          },
          "execution_count": 12
        }
      ]
    },
    {
      "cell_type": "markdown",
      "metadata": {
        "id": "rMf1N6RmhfGi"
      },
      "source": [
        "คำสั่งใน list \r\n",
        "\r\n",
        "Len คือการนับว่าใน list มีสมาชิกกี่ตัว(จำนวนสมาชิก) มีความยาวเท่าไหร่"
      ]
    },
    {
      "cell_type": "code",
      "metadata": {
        "id": "dacsX7frhfxN",
        "outputId": "f2c87f97-fae0-4f78-b3a0-5a56aa152ab1",
        "colab": {
          "base_uri": "https://localhost:8080/"
        }
      },
      "source": [
        "len(t)"
      ],
      "execution_count": 2,
      "outputs": [
        {
          "output_type": "execute_result",
          "data": {
            "text/plain": [
              "14"
            ]
          },
          "metadata": {
            "tags": []
          },
          "execution_count": 2
        }
      ]
    },
    {
      "cell_type": "code",
      "metadata": {
        "id": "xsZxk9X1jRfb",
        "outputId": "355f0b1a-5347-4a74-c1e2-e00a767cd01a",
        "colab": {
          "base_uri": "https://localhost:8080/"
        }
      },
      "source": [
        "len(list_b) #ตรวจสอบความยาวของลิสนี้ ว่ามีสมาชิกกี่ตัว"
      ],
      "execution_count": 13,
      "outputs": [
        {
          "output_type": "execute_result",
          "data": {
            "text/plain": [
              "5"
            ]
          },
          "metadata": {
            "tags": []
          },
          "execution_count": 13
        }
      ]
    },
    {
      "cell_type": "code",
      "metadata": {
        "id": "Y6RFvxLHlRSN",
        "outputId": "c55454ff-d7a6-48d0-b6ff-ce5bd5ba32e0",
        "colab": {
          "base_uri": "https://localhost:8080/"
        }
      },
      "source": [
        "#การสร้างลิสสามารถใส่อะไรลงไปในลิสก็ได้ รวมถึงตัวลิสด้วย\r\n",
        "list_b.append(t)\r\n",
        "list_b"
      ],
      "execution_count": 14,
      "outputs": [
        {
          "output_type": "execute_result",
          "data": {
            "text/plain": [
              "[111, 'c', 'งง', '1092', 'u', 'python is easy']"
            ]
          },
          "metadata": {
            "tags": []
          },
          "execution_count": 14
        }
      ]
    },
    {
      "cell_type": "markdown",
      "metadata": {
        "id": "V5ixI12hl-1I"
      },
      "source": [
        "####list slicing ใช้สัญญาลักษณ์ colon : \r\n",
        "\r\n",
        "เป็นการตัดส่วนนึงของ list ออกมา โดยสามารถระบุได้ว่าจะตัวตัวที่เท่าไหร่ถึงตัวที่เท่าไหร่ "
      ]
    },
    {
      "cell_type": "code",
      "metadata": {
        "id": "z6U5QBVHlfoJ",
        "outputId": "4fe1ea7f-4eff-4d2e-94d8-505c5b5f7fc1",
        "colab": {
          "base_uri": "https://localhost:8080/"
        }
      },
      "source": [
        "print(t)\r\n",
        "print(t[7:9])\r\n",
        "print(len(t[7:9]))"
      ],
      "execution_count": 18,
      "outputs": [
        {
          "output_type": "stream",
          "text": [
            "python is easy\n",
            "is\n",
            "2\n"
          ],
          "name": "stdout"
        }
      ]
    },
    {
      "cell_type": "code",
      "metadata": {
        "id": "643T6ZnWmP8j",
        "outputId": "a2f59c7f-4c6b-4499-e4c1-a8cc13a6eef0",
        "colab": {
          "base_uri": "https://localhost:8080/",
          "height": 34
        }
      },
      "source": [
        "t[0:14:2]"
      ],
      "execution_count": 19,
      "outputs": [
        {
          "output_type": "execute_result",
          "data": {
            "application/vnd.google.colaboratory.intrinsic+json": {
              "type": "string"
            },
            "text/plain": [
              "'pto ses'"
            ]
          },
          "metadata": {
            "tags": []
          },
          "execution_count": 19
        }
      ]
    },
    {
      "cell_type": "code",
      "metadata": {
        "id": "4ssVjlY9ohUy"
      },
      "source": [
        "Z = [1,2,3,4,5,6,7,8,9,10]"
      ],
      "execution_count": 22,
      "outputs": []
    },
    {
      "cell_type": "markdown",
      "metadata": {
        "id": "DIZPfwdBolq3"
      },
      "source": [
        "###quiz \r\n",
        "ให้ใช้ list slicing เลือกมาเฉพาะเลขคู่"
      ]
    },
    {
      "cell_type": "code",
      "metadata": {
        "id": "JZqRkoJGotso",
        "outputId": "6d56020f-3e32-4cb2-f0c4-1d1d8377ed12",
        "colab": {
          "base_uri": "https://localhost:8080/"
        }
      },
      "source": [
        "print(Z[1:10:2]) #เริ่มนับสมาชิกตั้งแต่ตัวที่1ถึง10 แล้วนับตัวระหว่างเป็นเลขคู่ เพิ่มที่ละ2 "
      ],
      "execution_count": 23,
      "outputs": [
        {
          "output_type": "stream",
          "text": [
            "[2, 4, 6, 8, 10]\n"
          ],
          "name": "stdout"
        }
      ]
    },
    {
      "cell_type": "markdown",
      "metadata": {
        "id": "3VXOtKHopoz_"
      },
      "source": [
        "ถ้าเว้นว่างหน้า : หมายความว่าเริ่มตั้งแต่ตัวแรก (0)\r\n",
        "ถ้าเว้นว่างหลัง : หมายความว่า ไปจนถึงตัวสุดท้าย (len(list))"
      ]
    },
    {
      "cell_type": "code",
      "metadata": {
        "id": "XBYlTRzOp4MR",
        "outputId": "1363d1f2-92eb-4a23-f16e-04ad96e35895",
        "colab": {
          "base_uri": "https://localhost:8080/"
        }
      },
      "source": [
        "print(t)\r\n",
        "print(t[:6])\r\n",
        "print(t[10:])\r\n",
        "print(t[-4:])\r\n",
        "print(t[:])"
      ],
      "execution_count": 24,
      "outputs": [
        {
          "output_type": "stream",
          "text": [
            "python is easy\n",
            "python\n",
            "easy\n",
            "easy\n",
            "python is easy\n"
          ],
          "name": "stdout"
        }
      ]
    },
    {
      "cell_type": "code",
      "metadata": {
        "id": "rqJul11tqF5u",
        "outputId": "e1e6893c-1dd0-4d4d-a24e-36fe1109526d",
        "colab": {
          "base_uri": "https://localhost:8080/"
        }
      },
      "source": [
        "print(Z[::2]) #คือนับตั้งแต่ตัวที่ 0 ถึง ตัวสุดท้าย และเอาตัวที่เพิ่มที่ละ2 "
      ],
      "execution_count": 25,
      "outputs": [
        {
          "output_type": "stream",
          "text": [
            "[1, 3, 5, 7, 9]\n"
          ],
          "name": "stdout"
        }
      ]
    },
    {
      "cell_type": "markdown",
      "metadata": {
        "id": "IYdTw7XUt2Lf"
      },
      "source": [
        "การแบ่ง string ตามสัญลักษณ์ที่กำหนด -> spilt string"
      ]
    },
    {
      "cell_type": "code",
      "metadata": {
        "id": "mqvQoT7Ot50c",
        "outputId": "4f669a04-6790-4a8f-a034-652182c5df8e",
        "colab": {
          "base_uri": "https://localhost:8080/",
          "height": 34
        }
      },
      "source": [
        "t"
      ],
      "execution_count": 26,
      "outputs": [
        {
          "output_type": "execute_result",
          "data": {
            "application/vnd.google.colaboratory.intrinsic+json": {
              "type": "string"
            },
            "text/plain": [
              "'python is easy'"
            ]
          },
          "metadata": {
            "tags": []
          },
          "execution_count": 26
        }
      ]
    },
    {
      "cell_type": "code",
      "metadata": {
        "id": "e8oXh9C6uFu_",
        "outputId": "a7787ab3-e82a-4c1a-976d-f7e17e532c0e",
        "colab": {
          "base_uri": "https://localhost:8080/"
        }
      },
      "source": [
        "t.split(' ')  #เป็นการแบ่งตัว text ที่เรามีอยู่ โดยสามารถระบุได้ว่าจะแบ่งด้วยสัญลักษณ์อะไร "
      ],
      "execution_count": 27,
      "outputs": [
        {
          "output_type": "execute_result",
          "data": {
            "text/plain": [
              "['python', 'is', 'easy']"
            ]
          },
          "metadata": {
            "tags": []
          },
          "execution_count": 27
        }
      ]
    },
    {
      "cell_type": "code",
      "metadata": {
        "id": "CRFd9Z4-uJrw"
      },
      "source": [
        "time = '12:30:15'"
      ],
      "execution_count": 28,
      "outputs": []
    },
    {
      "cell_type": "code",
      "metadata": {
        "id": "8guhKFrtu3Iz"
      },
      "source": [
        "t_sp = time.split(':')"
      ],
      "execution_count": 30,
      "outputs": []
    },
    {
      "cell_type": "code",
      "metadata": {
        "id": "RyP6fEXSwRdf",
        "outputId": "ebe06053-6214-4867-ed9c-44903fa5eda0",
        "colab": {
          "base_uri": "https://localhost:8080/"
        }
      },
      "source": [
        "#วิธีรวมกลับ \r\n",
        "print(':'.join(t_sp))"
      ],
      "execution_count": 31,
      "outputs": [
        {
          "output_type": "stream",
          "text": [
            "12:30:15\n"
          ],
          "name": "stdout"
        }
      ]
    },
    {
      "cell_type": "markdown",
      "metadata": {
        "id": "csqeQVJ_wcg_"
      },
      "source": [
        "#HW คำนวณเวลาเป็นวินาที่ของเวลาต่อไปนี้โดยใช้คำสั่ง split() ช่วย (print ออกมาสวยงาม)"
      ]
    }
  ]
}