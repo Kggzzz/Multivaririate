{
  "nbformat": 4,
  "nbformat_minor": 0,
  "metadata": {
    "colab": {
      "name": "MVA001.ipynb",
      "provenance": [],
      "authorship_tag": "ABX9TyOvutKzfLnEJG1WBlZJzQNq",
      "include_colab_link": true
    },
    "kernelspec": {
      "name": "python3",
      "display_name": "Python 3"
    }
  },
  "cells": [
    {
      "cell_type": "markdown",
      "metadata": {
        "id": "view-in-github",
        "colab_type": "text"
      },
      "source": [
        "<a href=\"https://colab.research.google.com/github/Kggzzz/Multivaririate/blob/main/MVA001.ipynb\" target=\"_parent\"><img src=\"https://colab.research.google.com/assets/colab-badge.svg\" alt=\"Open In Colab\"/></a>"
      ]
    },
    {
      "cell_type": "markdown",
      "metadata": {
        "id": "9ReFtdwUVUTX"
      },
      "source": [
        "#Scalar Vector and Matrix"
      ]
    },
    {
      "cell_type": "code",
      "metadata": {
        "id": "D-pB2Ku0VmA_"
      },
      "source": [
        "import numpy as np"
      ],
      "execution_count": 1,
      "outputs": []
    },
    {
      "cell_type": "markdown",
      "metadata": {
        "id": "kYu0ia4zZwLH"
      },
      "source": [
        "##Salar"
      ]
    },
    {
      "cell_type": "code",
      "metadata": {
        "colab": {
          "base_uri": "https://localhost:8080/"
        },
        "id": "Vz6S-oZ-Vps-",
        "outputId": "1b352b1c-6a3b-4b94-8b26-1b9ab6dcd3f4"
      },
      "source": [
        "scalar_a = 10 #เป็นค่าคงที่ มีแค่ขนาดเท่านั้น \r\n",
        "scalar_a"
      ],
      "execution_count": 2,
      "outputs": [
        {
          "output_type": "execute_result",
          "data": {
            "text/plain": [
              "10"
            ]
          },
          "metadata": {
            "tags": []
          },
          "execution_count": 2
        }
      ]
    },
    {
      "cell_type": "markdown",
      "metadata": {
        "id": "xeCjHpt4ZyFR"
      },
      "source": [
        "##Vector"
      ]
    },
    {
      "cell_type": "code",
      "metadata": {
        "colab": {
          "base_uri": "https://localhost:8080/"
        },
        "id": "4ua_U7r0WFaU",
        "outputId": "30aa980f-23de-4566-a02d-ca9399ad3edb"
      },
      "source": [
        "vector_b = np.zeros([2,1]) #จะมีทั้งขนาดและปริมาณ มีทิศทาง\r\n",
        "vector_b[0,0] = 1\r\n",
        "vector_b[1,0] = 3\r\n",
        "print(vector_b)\r\n",
        "print(vector_b.shape)"
      ],
      "execution_count": 3,
      "outputs": [
        {
          "output_type": "stream",
          "text": [
            "[[1.]\n",
            " [3.]]\n",
            "(2, 1)\n"
          ],
          "name": "stdout"
        }
      ]
    },
    {
      "cell_type": "code",
      "metadata": {
        "colab": {
          "base_uri": "https://localhost:8080/"
        },
        "id": "mGMQdrf7VE3k",
        "outputId": "578b551d-573e-4053-e233-fbb039cf68c9"
      },
      "source": [
        "vector_c = np.array([[1],[3]])\r\n",
        "print(vector_c)\r\n",
        "print(vector_c.shape)"
      ],
      "execution_count": 4,
      "outputs": [
        {
          "output_type": "stream",
          "text": [
            "[[1]\n",
            " [3]]\n",
            "(2, 1)\n"
          ],
          "name": "stdout"
        }
      ]
    },
    {
      "cell_type": "code",
      "metadata": {
        "id": "cndIehq3VSWP"
      },
      "source": [
        "from  matplotlib import pyplot as plt"
      ],
      "execution_count": 5,
      "outputs": []
    },
    {
      "cell_type": "code",
      "metadata": {
        "colab": {
          "base_uri": "https://localhost:8080/",
          "height": 282
        },
        "id": "5V-6ldrKW2v6",
        "outputId": "09f2e11f-b040-4b0e-da11-5bb6b6611402"
      },
      "source": [
        "plt.plot(vector_b[0,0],vector_b[1,0],'ro') #เป็นการ plot จุด บนแกน X,Y ว่าจะอยู่ในตำแหน่งไหน "
      ],
      "execution_count": 6,
      "outputs": [
        {
          "output_type": "execute_result",
          "data": {
            "text/plain": [
              "[<matplotlib.lines.Line2D at 0x7fc6754b2b00>]"
            ]
          },
          "metadata": {
            "tags": []
          },
          "execution_count": 6
        },
        {
          "output_type": "display_data",
          "data": {
            "image/png": "[encoded data removed]",
            "text/plain": [
              "<Figure size 432x288 with 1 Axes>"
            ]
          },
          "metadata": {
            "tags": [],
            "needs_background": "light"
          }
        }
      ]
    },
    {
      "cell_type": "code",
      "metadata": {
        "colab": {
          "base_uri": "https://localhost:8080/",
          "height": 282
        },
        "id": "Tb8pYM1DZB3R",
        "outputId": "486d23fb-32ff-4a17-f1ad-30e937b45368"
      },
      "source": [
        "plt.quiver(0,0,vector_b[0,0],vector_b[1,0])"
      ],
      "execution_count": 7,
      "outputs": [
        {
          "output_type": "execute_result",
          "data": {
            "text/plain": [
              "<matplotlib.quiver.Quiver at 0x7fc674fea1d0>"
            ]
          },
          "metadata": {
            "tags": []
          },
          "execution_count": 7
        },
        {
          "output_type": "display_data",
          "data": {
            "image/png": "[encoded data removed]",
            "text/plain": [
              "<Figure size 432x288 with 1 Axes>"
            ]
          },
          "metadata": {
            "tags": [],
            "needs_background": "light"
          }
        }
      ]
    },
    {
      "cell_type": "markdown",
      "metadata": {
        "id": "vams2ajHYCHZ"
      },
      "source": [
        "## ขนาดของ Vector คำนวณได้โดยใช้ ปิทากอรัส \r\n",
        "\r\n",
        "ปิทากอรัส \r\n",
        "C^2 = A^2 + B^2"
      ]
    },
    {
      "cell_type": "code",
      "metadata": {
        "colab": {
          "base_uri": "https://localhost:8080/"
        },
        "id": "23e6OLHHVyeO",
        "outputId": "8cfb0a17-f169-4be5-834f-84b5ef3faea7"
      },
      "source": [
        "vector_b_size = ((vector_b[0,0]**2) + (vector_b[1,0])**2)**0.5\r\n",
        "vector_b_size"
      ],
      "execution_count": 8,
      "outputs": [
        {
          "output_type": "execute_result",
          "data": {
            "text/plain": [
              "3.1622776601683795"
            ]
          },
          "metadata": {
            "tags": []
          },
          "execution_count": 8
        }
      ]
    },
    {
      "cell_type": "markdown",
      "metadata": {
        "id": "pUkzs25WZljw"
      },
      "source": [
        "##Matrix "
      ]
    },
    {
      "cell_type": "code",
      "metadata": {
        "colab": {
          "base_uri": "https://localhost:8080/"
        },
        "id": "8VAQiiPEXOtu",
        "outputId": "c8593d22-1184-410b-ab86-e73696d61499"
      },
      "source": [
        "matrix_d = np.array([[2,3],[1,4],[-1,1]])\r\n",
        "matrix_d"
      ],
      "execution_count": 9,
      "outputs": [
        {
          "output_type": "execute_result",
          "data": {
            "text/plain": [
              "array([[ 2,  3],\n",
              "       [ 1,  4],\n",
              "       [-1,  1]])"
            ]
          },
          "metadata": {
            "tags": []
          },
          "execution_count": 9
        }
      ]
    },
    {
      "cell_type": "code",
      "metadata": {
        "colab": {
          "base_uri": "https://localhost:8080/"
        },
        "id": "QynELhPwcu3x",
        "outputId": "b843ecbe-766f-4845-a59b-8542de5f9f7c"
      },
      "source": [
        "matrix_d = matrix_d.T\r\n",
        "matrix_d"
      ],
      "execution_count": 10,
      "outputs": [
        {
          "output_type": "execute_result",
          "data": {
            "text/plain": [
              "array([[ 2,  1, -1],\n",
              "       [ 3,  4,  1]])"
            ]
          },
          "metadata": {
            "tags": []
          },
          "execution_count": 10
        }
      ]
    },
    {
      "cell_type": "code",
      "metadata": {
        "colab": {
          "base_uri": "https://localhost:8080/"
        },
        "id": "Y1UB_9Kuc4Eb",
        "outputId": "a488e946-82d9-447a-e0e1-aaa97c6a8093"
      },
      "source": [
        "matrix_d[0,:]"
      ],
      "execution_count": 11,
      "outputs": [
        {
          "output_type": "execute_result",
          "data": {
            "text/plain": [
              "array([ 2,  1, -1])"
            ]
          },
          "metadata": {
            "tags": []
          },
          "execution_count": 11
        }
      ]
    },
    {
      "cell_type": "markdown",
      "metadata": {
        "id": "vFduSVsscSKI"
      },
      "source": [
        "###การ plot จะใช้ .plot(ค่าX,ค่าY,หน้าตาของจุด) \r\n",
        "\r\n",
        "โดยค่า x และ y ไม่จำเป็นต้องมีค่าเดียว\r\n"
      ]
    },
    {
      "cell_type": "code",
      "metadata": {
        "colab": {
          "base_uri": "https://localhost:8080/",
          "height": 282
        },
        "id": "MDpeyrfdaw8_",
        "outputId": "79086e58-8636-48fe-ab0e-abedf925dd3b"
      },
      "source": [
        "plt.plot(matrix_d[0,:],matrix_d[1,:],'ro') #เป็นการ plot ของค่าจาก 0 ในทุกๆ low และจาก 1 ในทุกๆ low\r\n",
        "plt.plot(0,0,'.b') #plot (ค่าX,ค่าY,หน้าตาของจุด) \r\n",
        "plt.plot([0,0],[-1,5],'^:k') #จะดูจุดที่ plot จะต้องดูว่ามี x,y ทั้งหมดกี่ตัว เช่น แถวนี้มี x 2 ตัวและ y 2 ตัว \r\n",
        "#โดย 1 จุด จะประกอบด้วย x,y อย่างละ 1 ตัว\r\n",
        "plt.plot([-1.5,2.5],[0,0],'>:k') "
      ],
      "execution_count": 12,
      "outputs": [
        {
          "output_type": "execute_result",
          "data": {
            "text/plain": [
              "[<matplotlib.lines.Line2D at 0x7fc66c76e9b0>]"
            ]
          },
          "metadata": {
            "tags": []
          },
          "execution_count": 12
        },
        {
          "output_type": "display_data",
          "data": {
            "image/png": "[encoded data removed]",
            "text/plain": [
              "<Figure size 432x288 with 1 Axes>"
            ]
          },
          "metadata": {
            "tags": [],
            "needs_background": "light"
          }
        }
      ]
    },
    {
      "cell_type": "markdown",
      "metadata": {
        "id": "0WJ2185EkKjS"
      },
      "source": [
        "###Transpose \r\n",
        "\r\n",
        "ใช้เมื่อเราจะคูณ matrix ให้แถวกับหลักมาคูณกันได้ "
      ]
    },
    {
      "cell_type": "code",
      "metadata": {
        "colab": {
          "base_uri": "https://localhost:8080/"
        },
        "id": "g7zeAPjsgQc9",
        "outputId": "3da49fec-d653-45c8-c181-8797be188ba2"
      },
      "source": [
        "A = np.array([[3,-1,2],[1,5,4]])\r\n",
        "A"
      ],
      "execution_count": 13,
      "outputs": [
        {
          "output_type": "execute_result",
          "data": {
            "text/plain": [
              "array([[ 3, -1,  2],\n",
              "       [ 1,  5,  4]])"
            ]
          },
          "metadata": {
            "tags": []
          },
          "execution_count": 13
        }
      ]
    },
    {
      "cell_type": "markdown",
      "metadata": {
        "id": "XwUbpDr2mUeK"
      },
      "source": [
        "###Matrix Multiply"
      ]
    },
    {
      "cell_type": "code",
      "metadata": {
        "colab": {
          "base_uri": "https://localhost:8080/"
        },
        "id": "euO6tA_8klYS",
        "outputId": "b8f7cf5f-175d-4a10-d6a8-c725df2b0631"
      },
      "source": [
        "B = np.dot(A,A.T)\r\n",
        "B"
      ],
      "execution_count": 14,
      "outputs": [
        {
          "output_type": "execute_result",
          "data": {
            "text/plain": [
              "array([[14,  6],\n",
              "       [ 6, 42]])"
            ]
          },
          "metadata": {
            "tags": []
          },
          "execution_count": 14
        }
      ]
    },
    {
      "cell_type": "markdown",
      "metadata": {
        "id": "0zWLnRZGmYiR"
      },
      "source": [
        "###Determinant"
      ]
    },
    {
      "cell_type": "code",
      "metadata": {
        "colab": {
          "base_uri": "https://localhost:8080/"
        },
        "id": "88xpO5kpmSab",
        "outputId": "9edcfa4f-3c5c-421b-eb44-a51bc254d11a"
      },
      "source": [
        "np.linalg.det(B)"
      ],
      "execution_count": 15,
      "outputs": [
        {
          "output_type": "execute_result",
          "data": {
            "text/plain": [
              "551.9999999999998"
            ]
          },
          "metadata": {
            "tags": []
          },
          "execution_count": 15
        }
      ]
    },
    {
      "cell_type": "markdown",
      "metadata": {
        "id": "aamxjnw6tsRV"
      },
      "source": [
        "$DET(B)$"
      ]
    },
    {
      "cell_type": "code",
      "metadata": {
        "id": "26nejyN1tvOI",
        "outputId": "a13d7591-ad25-4d65-fe53-44437d21b97c",
        "colab": {
          "base_uri": "https://localhost:8080/",
          "height": 282
        }
      },
      "source": [
        "plt.plot([0,1],[0,1],'-r')\r\n",
        "plt.plot(0,0,'.b')\r\n",
        "plt.plot([0,0],[-1,5],'^:k')\r\n",
        "plt.plot([-1.5,2.5],[0,0],'>:k')"
      ],
      "execution_count": 16,
      "outputs": [
        {
          "output_type": "execute_result",
          "data": {
            "text/plain": [
              "[<matplotlib.lines.Line2D at 0x7fc66c6ee550>]"
            ]
          },
          "metadata": {
            "tags": []
          },
          "execution_count": 16
        },
        {
          "output_type": "display_data",
          "data": {
            "image/png": "[encoded data removed]",
            "text/plain": [
              "<Figure size 432x288 with 1 Axes>"
            ]
          },
          "metadata": {
            "tags": [],
            "needs_background": "light"
          }
        }
      ]
    },
    {
      "cell_type": "code",
      "metadata": {
        "id": "w-iS7hu4us2y",
        "outputId": "e1c5eec8-d0cd-4107-9e2f-19e5135a79d2",
        "colab": {
          "base_uri": "https://localhost:8080/"
        }
      },
      "source": [
        "B = np.array([[1,2],[3,4]])\r\n",
        "B"
      ],
      "execution_count": 18,
      "outputs": [
        {
          "output_type": "execute_result",
          "data": {
            "text/plain": [
              "array([[1, 2],\n",
              "       [3, 4]])"
            ]
          },
          "metadata": {
            "tags": []
          },
          "execution_count": 18
        }
      ]
    },
    {
      "cell_type": "markdown",
      "metadata": {
        "id": "GeGCqWAqvwZb"
      },
      "source": [
        "Matrix multiplication $B.v$ คือ linear transformation "
      ]
    },
    {
      "cell_type": "code",
      "metadata": {
        "id": "hdlC6patu38j",
        "outputId": "25c98383-7d8f-4525-9cbd-a6578b58375c",
        "colab": {
          "base_uri": "https://localhost:8080/"
        }
      },
      "source": [
        "Bv = np.dot(B,np.array([[1],[1]]))\r\n",
        "Bv"
      ],
      "execution_count": 19,
      "outputs": [
        {
          "output_type": "execute_result",
          "data": {
            "text/plain": [
              "array([[3],\n",
              "       [7]])"
            ]
          },
          "metadata": {
            "tags": []
          },
          "execution_count": 19
        }
      ]
    },
    {
      "cell_type": "code",
      "metadata": {
        "id": "a1d9tlpNvjgP",
        "outputId": "d8b5d99d-8761-4c61-9c22-caf06c47afc6",
        "colab": {
          "base_uri": "https://localhost:8080/",
          "height": 282
        }
      },
      "source": [
        "plt.plot([0,Bv[0,0]],[0,Bv[1,0]],'-g') # vector Bv\r\n",
        "plt.plot([0,1],[0,1],'-r') #vector v ([1,1])\r\n",
        "plt.plot(0,0,'.b')\r\n",
        "plt.plot([0,0],[-1,5],'^:k')\r\n",
        "plt.plot([-1.5,2.5],[0,0],'>:k')"
      ],
      "execution_count": 24,
      "outputs": [
        {
          "output_type": "execute_result",
          "data": {
            "text/plain": [
              "[<matplotlib.lines.Line2D at 0x7fc66414b668>]"
            ]
          },
          "metadata": {
            "tags": []
          },
          "execution_count": 24
        },
        {
          "output_type": "display_data",
          "data": {
            "image/png": "[encoded data removed]",
            "text/plain": [
              "<Figure size 432x288 with 1 Axes>"
            ]
          },
          "metadata": {
            "tags": [],
            "needs_background": "light"
          }
        }
      ]
    },
    {
      "cell_type": "markdown",
      "metadata": {
        "id": "J7RE2TGpwHir"
      },
      "source": [
        "Determinant ของ Matrix $Det(B)$ คือ พื้นที่ของ unit vector ที่ถูกเปลี่ยนไปโดย Matrix นั้นๆ "
      ]
    },
    {
      "cell_type": "code",
      "metadata": {
        "id": "Xx3rYys6wFxF",
        "outputId": "cb702a9e-b7e3-4aab-8226-c6ff30ec5fb0",
        "colab": {
          "base_uri": "https://localhost:8080/",
          "height": 282
        }
      },
      "source": [
        "plt.plot([0,Bv[0,0]],[0,Bv[1,0]],'-g') # vector Bv\r\n",
        "plt.plot([1,1],[1,0],':g') #วาดจุดไข่ปลา พื้นที่ของ Bv\r\n",
        "plt.plot([0,1],[0,1],'-r') #vector v ([1,1])\r\n",
        "plt.plot(0,0,'.b')\r\n",
        "plt.plot([0,0],[-1,5],'^:k')\r\n",
        "plt.plot([-1.5,2.5],[0,0],'>:k')"
      ],
      "execution_count": 23,
      "outputs": [
        {
          "output_type": "execute_result",
          "data": {
            "text/plain": [
              "[<matplotlib.lines.Line2D at 0x7fc66415f710>]"
            ]
          },
          "metadata": {
            "tags": []
          },
          "execution_count": 23
        },
        {
          "output_type": "display_data",
          "data": {
            "image/png": "[encoded data removed]",
            "text/plain": [
              "<Figure size 432x288 with 1 Axes>"
            ]
          },
          "metadata": {
            "tags": [],
            "needs_background": "light"
          }
        }
      ]
    },
    {
      "cell_type": "code",
      "metadata": {
        "id": "v7es6Z5yyoQe",
        "outputId": "9fcb5d00-fae5-4daf-f088-87d7d06a4493",
        "colab": {
          "base_uri": "https://localhost:8080/",
          "height": 282
        }
      },
      "source": [
        "plt.plot([0,Bv[0,0]],[0,Bv[1,0]],'-g') # vector Bv\r\n",
        "plt.plot([1,1],[1,0],':g') #วาดจุดไข่ปลา พื้นที่ของ Bv\r\n",
        "plt.plot([1,0],[1,1],':g') #วาดจุดไข่ปลา พื้นที่ของ Bv\r\n",
        "plt.plot([0,1],[0,1],'-r') #vector v ([1,1])\r\n",
        "plt.plot(0,0,'.b')\r\n",
        "plt.plot([0,0],[-1,5],'^:k')\r\n",
        "plt.plot([-1.5,2.5],[0,0],'>:k')"
      ],
      "execution_count": 26,
      "outputs": [
        {
          "output_type": "execute_result",
          "data": {
            "text/plain": [
              "[<matplotlib.lines.Line2D at 0x7fc66402ceb8>]"
            ]
          },
          "metadata": {
            "tags": []
          },
          "execution_count": 26
        },
        {
          "output_type": "display_data",
          "data": {
            "image/png": "[encoded data removed]",
            "text/plain": [
              "<Figure size 432x288 with 1 Axes>"
            ]
          },
          "metadata": {
            "tags": [],
            "needs_background": "light"
          }
        }
      ]
    },
    {
      "cell_type": "code",
      "metadata": {
        "id": "UdDvG_KHy_w4",
        "outputId": "389c5024-facb-4e20-cd7d-4d2ce3e79ed4",
        "colab": {
          "base_uri": "https://localhost:8080/",
          "height": 282
        }
      },
      "source": [
        "plt.plot([0,Bv[0,0]],[0,Bv[1,0]],'-g') # vector Bv\r\n",
        "plt.plot([1,1],[1,0],':r') #วาดจุดไข่ปลา พื้นที่ของ Bv\r\n",
        "plt.plot([1,0],[1,1],':r') #วาดจุดไข่ปลา พื้นที่ของ Bv\r\n",
        "plt.plot([3,3],[7,0],':g') #วาดจุดไข่ปลา พื้นที่ของ v\r\n",
        "plt.plot([0,3],[7,7],':g') #วาดจุดไข่ปลา พื้นที่ของ v\r\n",
        "plt.plot([0,1],[0,1],'-r') #vector v ([1,1])\r\n",
        "plt.plot(0,0,'.b')\r\n",
        "plt.plot([0,0],[-1,5],'^:k')\r\n",
        "plt.plot([-1.5,2.5],[0,0],'>:k')"
      ],
      "execution_count": 35,
      "outputs": [
        {
          "output_type": "execute_result",
          "data": {
            "text/plain": [
              "[<matplotlib.lines.Line2D at 0x7fc663c5a2b0>]"
            ]
          },
          "metadata": {
            "tags": []
          },
          "execution_count": 35
        },
        {
          "output_type": "display_data",
          "data": {
            "image/png": "[encoded data removed]",
            "text/plain": [
              "<Figure size 432x288 with 1 Axes>"
            ]
          },
          "metadata": {
            "tags": [],
            "needs_background": "light"
          }
        }
      ]
    }
  ]
}