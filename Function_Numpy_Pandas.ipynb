{
  "nbformat": 4,
  "nbformat_minor": 0,
  "metadata": {
    "colab": {
      "name": "Function_Numpy_Pandas.ipynb",
      "provenance": [],
      "authorship_tag": "ABX9TyPvJq7Ia2Lruq3F/xvlxRzg"
    },
    "kernelspec": {
      "name": "python3",
      "display_name": "Python 3"
    }
  },
  "cells": [
    {
      "cell_type": "markdown",
      "metadata": {
        "id": "-8Ck5apWScF6"
      },
      "source": [
        "#Function "
      ]
    },
    {
      "cell_type": "markdown",
      "metadata": {
        "id": "ox52rQ_UfQ00"
      },
      "source": [
        "![identity-function-graph.png](data:image/png;base64,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)"
      ]
    },
    {
      "cell_type": "markdown",
      "metadata": {
        "id": "vtAZtspcfoAd"
      },
      "source": [
        "```python\r\n",
        "def function_name(_Input_):\r\n",
        "    do_something with _Input_ to produce _Output_\r\n",
        "    return _Output_\r\n",
        "```"
      ]
    },
    {
      "cell_type": "markdown",
      "metadata": {
        "id": "fWhsl7mIfskM"
      },
      "source": [
        "```backtick จะทำให้มอง text เป็นโค้ด "
      ]
    },
    {
      "cell_type": "markdown",
      "metadata": {
        "id": "Ly7Ss7AMTkly"
      },
      "source": [
        "##Function จะแบ่งออกเป็น 4 ส่วน \r\n",
        "\r\n",
        "    1. บอก python ว่าเราจะเขียนฟังค์ชัน ชื่ออะไร def function_name() : (ขาดไม่ได้) ถ้าไม่ใส่ : ฟังก์ชันจะใช้งานไม่ได้\r\n",
        "    2. กำหนดตัวแปรที่จะเป็น _input_ (ขาดได้)\r\n",
        "    3. ส่วนประมวลผล do_something with _input_ to get _output_ (ขาดไม่ได้)\r\n",
        "    4. ส่วน output return _output_ (ขาดไม่ได้)"
      ]
    },
    {
      "cell_type": "code",
      "metadata": {
        "id": "5uYKj9-3U3ux"
      },
      "source": [
        "def print_name(name,surname,ID):\r\n",
        "    st = f'ชื่อ {name} นามสกุล {surname} ID {ID}'\r\n",
        "    return st\r\n",
        "print(_outside_function_)"
      ],
      "execution_count": null,
      "outputs": []
    },
    {
      "cell_type": "code",
      "metadata": {
        "colab": {
          "base_uri": "https://localhost:8080/",
          "height": 34
        },
        "id": "dm40PQDGVWdi",
        "outputId": "3d36376b-1f94-40dd-d8a5-fc929d1cecae"
      },
      "source": [
        "print_name('แพรวา','ณิชาภัทร','820510562-4')"
      ],
      "execution_count": null,
      "outputs": [
        {
          "output_type": "execute_result",
          "data": {
            "application/vnd.google.colaboratory.intrinsic+json": {
              "type": "string"
            },
            "text/plain": [
              "'ชื่อ แพรวา นามสกุล ณิชาภัทร ID 820510562-4'"
            ]
          },
          "metadata": {
            "tags": []
          },
          "execution_count": 4
        }
      ]
    },
    {
      "cell_type": "markdown",
      "metadata": {
        "id": "qazyG8K0Xu4b"
      },
      "source": [
        "###function ไม่จำเป็นต้องมี _output_"
      ]
    },
    {
      "cell_type": "code",
      "metadata": {
        "id": "cricg7qHX0jL"
      },
      "source": [
        "def print_name2(surname,ID,name):\r\n",
        "    st = f'ชื่อ {name} นามสกุล {surname} ID {ID}'\r\n",
        "    print(st)"
      ],
      "execution_count": null,
      "outputs": []
    },
    {
      "cell_type": "code",
      "metadata": {
        "colab": {
          "base_uri": "https://localhost:8080/"
        },
        "id": "AfshwGHVYA_r",
        "outputId": "13e3e3f3-c3d4-4f7f-9c45-c21f0a4d216c"
      },
      "source": [
        "print_name2('แพรวา','ณิชาภัทร','820510562-4') #เมื่อสมาชิกในลิสไม่เรียงตามแพทเทิลของfunction ที่กำหนดไว้ ทำให้ผลออกมาไม่ถูกต้อง "
      ],
      "execution_count": null,
      "outputs": [
        {
          "output_type": "stream",
          "text": [
            "ชื่อ 820510562-4 นามสกุล แพรวา ID ณิชาภัทร\n"
          ],
          "name": "stdout"
        }
      ]
    },
    {
      "cell_type": "code",
      "metadata": {
        "colab": {
          "base_uri": "https://localhost:8080/"
        },
        "id": "4PPoOjRrYfiz",
        "outputId": "cf16d6cc-d2ca-4fb3-a606-7efa63ea8e9c"
      },
      "source": [
        "op2 = print_name2('แพรวา','ณิชาภัทร','820510562-4')"
      ],
      "execution_count": null,
      "outputs": [
        {
          "output_type": "stream",
          "text": [
            "ชื่อ 820510562-4 นามสกุล แพรวา ID ณิชาภัทร\n"
          ],
          "name": "stdout"
        }
      ]
    },
    {
      "cell_type": "code",
      "metadata": {
        "colab": {
          "base_uri": "https://localhost:8080/"
        },
        "id": "BAifj4E2Y6Hv",
        "outputId": "96d09464-7614-41c6-afea-adcab2a49d73"
      },
      "source": [
        "print(op2)"
      ],
      "execution_count": null,
      "outputs": [
        {
          "output_type": "stream",
          "text": [
            "None\n"
          ],
          "name": "stdout"
        }
      ]
    },
    {
      "cell_type": "markdown",
      "metadata": {
        "id": "yL7ULIfaZMWm"
      },
      "source": [
        "###function ไม่จำเป็นต้องมี _input_ ก็ได้ "
      ]
    },
    {
      "cell_type": "code",
      "metadata": {
        "id": "Gfqp9azdZVie"
      },
      "source": [
        "def Pi() : \r\n",
        "   return 3.14159265359"
      ],
      "execution_count": null,
      "outputs": []
    },
    {
      "cell_type": "code",
      "metadata": {
        "colab": {
          "base_uri": "https://localhost:8080/"
        },
        "id": "T4JN--SrZgUq",
        "outputId": "0e518426-e783-4fac-d190-292ca810ea38"
      },
      "source": [
        "#ตัวอย่าง ต้องการคำนวณพื้นที่วงกลมที่มีขนาดเส้นผ่าศูนย์กลางเท่ากับ 3 \r\n",
        "Pi()*(1.5**2) #ยกกำลังใน python คือใช้ **"
      ],
      "execution_count": null,
      "outputs": [
        {
          "output_type": "execute_result",
          "data": {
            "text/plain": [
              "7.0685834705775"
            ]
          },
          "metadata": {
            "tags": []
          },
          "execution_count": 14
        }
      ]
    },
    {
      "cell_type": "code",
      "metadata": {
        "id": "WTHF7cZqZ8dD"
      },
      "source": [
        "def print_my_name() : \r\n",
        "    print('ratta lee ID613021020-4')"
      ],
      "execution_count": null,
      "outputs": []
    },
    {
      "cell_type": "code",
      "metadata": {
        "colab": {
          "base_uri": "https://localhost:8080/"
        },
        "id": "Wafoa5WmaM0j",
        "outputId": "e3874798-600d-41e4-aaa6-f78ba82efd6a"
      },
      "source": [
        "print_my_name()"
      ],
      "execution_count": null,
      "outputs": [
        {
          "output_type": "stream",
          "text": [
            "ratta lee ID613021020-4\n"
          ],
          "name": "stdout"
        }
      ]
    },
    {
      "cell_type": "markdown",
      "metadata": {
        "id": "R5vt6jzUbBbk"
      },
      "source": [
        "input ของ function ใน 1python มีสองแบบ input ที่จำเป็นต้องใส่ กับ input ที่ไม่จำเป็นต้องใส่ (มีค่า defualt) \r\n",
        "\r\n",
        "เราต้องเรียง input ที่จำเป็นต้องใส่ขึ้นก่อน "
      ]
    },
    {
      "cell_type": "code",
      "metadata": {
        "id": "Lr4DXtMBbaZl"
      },
      "source": [
        "def print_2lines_default(name,surname,ID,grade='F') :\r\n",
        "    st1 = f'ชื่อ {name} นามสกุล {surname} รหัส {ID}'\r\n",
        "    print(st1)\r\n",
        "    st2 = f'เกรดวิชา Multivariate >>> {grade}'\r\n",
        "    print(st2)"
      ],
      "execution_count": null,
      "outputs": []
    },
    {
      "cell_type": "code",
      "metadata": {
        "colab": {
          "base_uri": "https://localhost:8080/"
        },
        "id": "b0-Fbal7b0a0",
        "outputId": "c92e2bce-d16d-49de-f6bb-9824e288d4b2"
      },
      "source": [
        "print_2lines_default('แพรวา','ณิชาภัทร','820510562-4')"
      ],
      "execution_count": null,
      "outputs": [
        {
          "output_type": "stream",
          "text": [
            "ชื่อ แพรวา นามสกุล ณิชาภัทร รหัส 820510562-4\n",
            "เกรดวิชา Multivariate >>> F\n"
          ],
          "name": "stdout"
        }
      ]
    },
    {
      "cell_type": "code",
      "metadata": {
        "colab": {
          "base_uri": "https://localhost:8080/"
        },
        "id": "1V8EcdrDcmzn",
        "outputId": "6e83018f-7fda-4e88-d695-ee21649adab2"
      },
      "source": [
        "print_2lines_default('แพรวา','ณิชาภัทร','820510562-4','A')"
      ],
      "execution_count": null,
      "outputs": [
        {
          "output_type": "stream",
          "text": [
            "ชื่อ แพรวา นามสกุล ณิชาภัทร รหัส 820510562-4\n",
            "เกรดวิชา Multivariate >>> A\n"
          ],
          "name": "stdout"
        }
      ]
    },
    {
      "cell_type": "markdown",
      "metadata": {
        "id": "1jCCLMATesy0"
      },
      "source": [
        "เราสามารถเรียกฟังก์ชั่นโดยใช้ชื่อตัวแปรของฟังก์ชั่นช่วยได้"
      ]
    },
    {
      "cell_type": "code",
      "metadata": {
        "colab": {
          "base_uri": "https://localhost:8080/"
        },
        "id": "juaOhe4PesAK",
        "outputId": "2c93f5a4-5b95-4250-9c06-cfcb3d22059e"
      },
      "source": [
        "print_name2(name='กิตติมา', surname='อุปสุข', ID='623021040-9')"
      ],
      "execution_count": null,
      "outputs": [
        {
          "output_type": "stream",
          "text": [
            "ชื่อ กิตติมา นามสกุล อุปสุข ID 623021040-9\n"
          ],
          "name": "stdout"
        }
      ]
    },
    {
      "cell_type": "markdown",
      "metadata": {
        "id": "xS9VLtw7cqKG"
      },
      "source": [
        "#HW3 ให้เขียน function คำนวณจำนวณวินาที เวลาต่อไปนี้ \r\n",
        "\r\n",
        "'14-15-31'\r\n",
        "\r\n",
        "'13-00-01'\r\n",
        "\r\n",
        "'05-49-44'\r\n",
        "\r\n",
        "'00-00-16'\r\n",
        "\r\n",
        "และ print ให้สวยงาม"
      ]
    },
    {
      "cell_type": "code",
      "metadata": {
        "colab": {
          "base_uri": "https://localhost:8080/"
        },
        "id": "xMh8TpLdkIGG",
        "outputId": "d9c8d3e4-375b-4a18-e2fe-24d112976605"
      },
      "source": [
        "#ทดสอบ ดูค่า\r\n",
        "p_1 = '14-15-31'\r\n",
        "p = p_1.split('-')\r\n",
        "p\r\n",
        "t_1 = (int(p[0])*3600) + (int(p[1])*60) + (int(p[2]))\r\n",
        "print(f'เวลา {p_1} เมื่อนำมาคำนวณให้เป็นวินาทีมีค่าเท่ากับ {t_1} วินาที')"
      ],
      "execution_count": null,
      "outputs": [
        {
          "output_type": "stream",
          "text": [
            "เวลา 14-15-31 เมื่อนำมาคำนวณให้เป็นวินาทีมีค่าเท่ากับ 51331 วินาที\n"
          ],
          "name": "stdout"
        }
      ]
    },
    {
      "cell_type": "markdown",
      "metadata": {
        "id": "5bFbHBx3k9N9"
      },
      "source": [
        "###เริ่มทำโดยใช้ function "
      ]
    },
    {
      "cell_type": "code",
      "metadata": {
        "id": "GsuRLUCFgkos"
      },
      "source": [
        "def Sum_time(t) :#เตือนความจำ ใช้ def ต้องมี : ด้วยโค้ดถึงจะรันได้ \r\n",
        "    list_t = t.split('-') #ทำการแยกสมาชิกโดยใช้ - เป็นการแบ่ง \r\n",
        "    time = (int(list_t[0])*3600) + (int(list_t[1])*60) + (int(list_t[2]))\r\n",
        "    #เปลี่ยนค่า t ที่เป็น string ให้เป็น int เพื่อที่จะสามารถคำนวณได้\r\n",
        "    #โดยค่าที่จะนับเป็นตัวที่0,1,2 > ชม,นาที,วินาที ตามลำดับ  \r\n",
        "    Sum_time = f'เวลา {t} เมื่อนำมาคำนวณให้เป็นวินาทีมีค่าเท่ากับ {time} วินาที' \r\n",
        "    print(Sum_time)  #ต้อง print ออกมาด้วยเพื่อเวลาเรียกใช้ฟังค์ชันจะมีค่าขึ้น "
      ],
      "execution_count": null,
      "outputs": []
    },
    {
      "cell_type": "code",
      "metadata": {
        "colab": {
          "base_uri": "https://localhost:8080/"
        },
        "id": "p0ja2wJyjZYn",
        "outputId": "12d07c17-52a2-44aa-dc9b-91224374e348"
      },
      "source": [
        "#ข้อที่ 1 >> '14-15-31'\r\n",
        "Sum_time('14-15-31')\r\n",
        "#ข้อที่ 2 >> '13-00-01'\r\n",
        "Sum_time('13-00-01')\r\n",
        "#ข้อที่ 3 >> '05-49-44'\r\n",
        "Sum_time('05-49-44')\r\n",
        "#ข้อที่ 4 >> '00-00-16'\r\n",
        "Sum_time('00-00-16')"
      ],
      "execution_count": null,
      "outputs": [
        {
          "output_type": "stream",
          "text": [
            "เวลา 14-15-31 เมื่อนำมาคำนวณให้เป็นวินาทีมีค่าเท่ากับ 51331 วินาที\n",
            "เวลา 13-00-01 เมื่อนำมาคำนวณให้เป็นวินาทีมีค่าเท่ากับ 46801 วินาที\n",
            "เวลา 05-49-44 เมื่อนำมาคำนวณให้เป็นวินาทีมีค่าเท่ากับ 20984 วินาที\n",
            "เวลา 00-00-16 เมื่อนำมาคำนวณให้เป็นวินาทีมีค่าเท่ากับ 16 วินาที\n"
          ],
          "name": "stdout"
        }
      ]
    },
    {
      "cell_type": "markdown",
      "metadata": {
        "id": "tNljrubcT3rQ"
      },
      "source": [
        "#Numpy (Number of python)"
      ]
    },
    {
      "cell_type": "markdown",
      "metadata": {
        "id": "KdTKXGdzVAu9"
      },
      "source": [
        "สร้าง  array (numpy array)"
      ]
    },
    {
      "cell_type": "code",
      "metadata": {
        "id": "d-6oZth7U5jP"
      },
      "source": [
        "import numpy as np\r\n"
      ],
      "execution_count": 2,
      "outputs": []
    },
    {
      "cell_type": "code",
      "metadata": {
        "id": "lDQwkgpqUqKE",
        "outputId": "97b49277-57e1-48d5-e54d-89c2be4ea8f5",
        "colab": {
          "base_uri": "https://localhost:8080/"
        }
      },
      "source": [
        "mat_ex1 = np.array([[5.2,3.0,4.5],[9.1,0.1,0.3]])\r\n",
        "mat_ex1"
      ],
      "execution_count": 3,
      "outputs": [
        {
          "output_type": "execute_result",
          "data": {
            "text/plain": [
              "array([[5.2, 3. , 4.5],\n",
              "       [9.1, 0.1, 0.3]])"
            ]
          },
          "metadata": {
            "tags": []
          },
          "execution_count": 3
        }
      ]
    },
    {
      "cell_type": "markdown",
      "metadata": {
        "id": "ypRpxe0fVF79"
      },
      "source": [
        "ชี้ค่าใน numpy array"
      ]
    },
    {
      "cell_type": "code",
      "metadata": {
        "id": "eVSPleoZT8ie",
        "outputId": "9c6b61ab-b8cb-4e9e-91a6-14ee467fbfcb",
        "colab": {
          "base_uri": "https://localhost:8080/"
        }
      },
      "source": [
        "mat_ex1[1,1] #[แถว,หลัก]"
      ],
      "execution_count": 5,
      "outputs": [
        {
          "output_type": "execute_result",
          "data": {
            "text/plain": [
              "0.1"
            ]
          },
          "metadata": {
            "tags": []
          },
          "execution_count": 5
        }
      ]
    },
    {
      "cell_type": "markdown",
      "metadata": {
        "id": "qSmrD_mbWgww"
      },
      "source": [
        "ถ้าไม่มี numpy array"
      ]
    },
    {
      "cell_type": "code",
      "metadata": {
        "id": "CJYt6GXwWdHU",
        "outputId": "2a605ad3-282c-4c59-eb1c-56c52e4623eb",
        "colab": {
          "base_uri": "https://localhost:8080/"
        }
      },
      "source": [
        "list_ex1 = [[5.2,3.0,4.5],[9.1,0.1,0.3]]\r\n",
        "list_ex1"
      ],
      "execution_count": 6,
      "outputs": [
        {
          "output_type": "execute_result",
          "data": {
            "text/plain": [
              "[[5.2, 3.0, 4.5], [9.1, 0.1, 0.3]]"
            ]
          },
          "metadata": {
            "tags": []
          },
          "execution_count": 6
        }
      ]
    },
    {
      "cell_type": "code",
      "metadata": {
        "id": "R6R-ka0OWvtq",
        "outputId": "716504ce-ee10-4f18-b704-5ea1dd0b1ee2",
        "colab": {
          "base_uri": "https://localhost:8080/"
        }
      },
      "source": [
        "list_ex1[1][1]"
      ],
      "execution_count": 8,
      "outputs": [
        {
          "output_type": "execute_result",
          "data": {
            "text/plain": [
              "0.1"
            ]
          },
          "metadata": {
            "tags": []
          },
          "execution_count": 8
        }
      ]
    },
    {
      "cell_type": "code",
      "metadata": {
        "id": "67gQMQngW8bd",
        "outputId": "7c03135d-15cf-4756-cdac-abc61fe2199a",
        "colab": {
          "base_uri": "https://localhost:8080/"
        }
      },
      "source": [
        "print(list_ex1)\r\n",
        "a = list_ex1[1]\r\n",
        "print(a)\r\n",
        "print(a[1])"
      ],
      "execution_count": 9,
      "outputs": [
        {
          "output_type": "stream",
          "text": [
            "[[5.2, 3.0, 4.5], [9.1, 0.1, 0.3]]\n",
            "[9.1, 0.1, 0.3]\n",
            "0.1\n"
          ],
          "name": "stdout"
        }
      ]
    },
    {
      "cell_type": "markdown",
      "metadata": {
        "id": "sV_ZMpZWYKVP"
      },
      "source": [
        "##Matrix Operations\r\n",
        "\r\n",
        "data 2 แบบ -> matrix (2D array), scalar (ตัวเลขค่าคงที่)"
      ]
    },
    {
      "cell_type": "code",
      "metadata": {
        "id": "YYpUp-sSYJLt",
        "outputId": "51482280-067a-4e71-e2d1-4d57fb5c5995",
        "colab": {
          "base_uri": "https://localhost:8080/"
        }
      },
      "source": [
        "mat_ex1 = np.array([[5.2,3.0,4.5],[9.1,0.1,0.3]])\r\n",
        "print(mat_ex1)\r\n",
        "mat_ex2 = np.array([[2,3.7,5.9],[91,1.5,7.3]])\r\n",
        "print(mat_ex2)"
      ],
      "execution_count": 10,
      "outputs": [
        {
          "output_type": "stream",
          "text": [
            "[[5.2 3.  4.5]\n",
            " [9.1 0.1 0.3]]\n",
            "[[ 2.   3.7  5.9]\n",
            " [91.   1.5  7.3]]\n"
          ],
          "name": "stdout"
        }
      ]
    },
    {
      "cell_type": "markdown",
      "metadata": {
        "id": "1gxdDHpyZhsH"
      },
      "source": [
        "บวกกับลบ matrix เอาตัวเลขตำแหน่งเดียวกันมาบวกหรือลบกัน\r\n",
        "โดยจะต้องมีมิติที่เท่ากันในการ บวก ลบ "
      ]
    },
    {
      "cell_type": "code",
      "metadata": {
        "id": "-cD98_YoZAkY",
        "outputId": "25e65bf1-d68b-4bc7-f261-17e0ae45c58a",
        "colab": {
          "base_uri": "https://localhost:8080/"
        }
      },
      "source": [
        "mat_ex3 = mat_ex1 + mat_ex2 #นำตัวเลขที่อยู่ในตำแหน่งเดียวกันมา บวก ลบ กันได้\r\n",
        "print(mat_ex3)\r\n",
        "mat_ex4 = mat_ex1 - mat_ex2\r\n",
        "print(mat_ex4)"
      ],
      "execution_count": 13,
      "outputs": [
        {
          "output_type": "stream",
          "text": [
            "[[  7.2   6.7  10.4]\n",
            " [100.1   1.6   7.6]]\n",
            "[[  3.2  -0.7  -1.4]\n",
            " [-81.9  -1.4  -7. ]]\n"
          ],
          "name": "stdout"
        }
      ]
    },
    {
      "cell_type": "markdown",
      "metadata": {
        "id": "srHHDv3QaSrm"
      },
      "source": [
        "การตรวจสอบขนาดของ matrix "
      ]
    },
    {
      "cell_type": "code",
      "metadata": {
        "id": "_dzOHvmxZGcB",
        "outputId": "1cc3b310-bb86-4804-f984-d4e8a5de0fc0",
        "colab": {
          "base_uri": "https://localhost:8080/"
        }
      },
      "source": [
        "mat_ex3.shape"
      ],
      "execution_count": 14,
      "outputs": [
        {
          "output_type": "execute_result",
          "data": {
            "text/plain": [
              "(2, 3)"
            ]
          },
          "metadata": {
            "tags": []
          },
          "execution_count": 14
        }
      ]
    },
    {
      "cell_type": "code",
      "metadata": {
        "id": "YhvpaDaZauvi",
        "outputId": "4dbb7b2b-692d-4a94-b0ee-1643402fea5c",
        "colab": {
          "base_uri": "https://localhost:8080/"
        }
      },
      "source": [
        "mat_ex3.shape[0]"
      ],
      "execution_count": 15,
      "outputs": [
        {
          "output_type": "execute_result",
          "data": {
            "text/plain": [
              "2"
            ]
          },
          "metadata": {
            "tags": []
          },
          "execution_count": 15
        }
      ]
    },
    {
      "cell_type": "markdown",
      "metadata": {
        "id": "KlYFKwnhbwFh"
      },
      "source": [
        "การคูณ matrix"
      ]
    },
    {
      "cell_type": "code",
      "metadata": {
        "id": "xPXZgovra3Y-",
        "outputId": "a1121c36-15b8-4693-cb08-6cf02db470ef",
        "colab": {
          "base_uri": "https://localhost:8080/"
        }
      },
      "source": [
        "#คูณะรรมดาไม่ได้ \r\n",
        "mat_ex1 * mat_ex2"
      ],
      "execution_count": 16,
      "outputs": [
        {
          "output_type": "execute_result",
          "data": {
            "text/plain": [
              "array([[1.040e+01, 1.110e+01, 2.655e+01],\n",
              "       [8.281e+02, 1.500e-01, 2.190e+00]])"
            ]
          },
          "metadata": {
            "tags": []
          },
          "execution_count": 16
        }
      ]
    },
    {
      "cell_type": "markdown",
      "metadata": {
        "id": "67RCZ4a3gJN3"
      },
      "source": [
        "เงื่อนไขการคูณ matrix ตัวข้างหน้าต้องเท่ากับแถวของตัวข้างหลัง\r\n",
        "\r\n",
        "dot product (AAA,x) (x,ZZZ) = (AAA,ZZZ)"
      ]
    },
    {
      "cell_type": "code",
      "metadata": {
        "id": "9PcfuU5ccOcV",
        "outputId": "92629ea7-e3d0-4892-ec27-e573161f13e8",
        "colab": {
          "base_uri": "https://localhost:8080/"
        }
      },
      "source": [
        "#transpose กลับแถวเป็นหลัก กลับหลักเป็นแถว\r\n",
        "np.dot(mat_ex1,mat_ex2.T) #(2,3).(3,2)\r\n"
      ],
      "execution_count": 17,
      "outputs": [
        {
          "output_type": "execute_result",
          "data": {
            "text/plain": [
              "array([[ 48.05, 510.55],\n",
              "       [ 20.34, 830.44]])"
            ]
          },
          "metadata": {
            "tags": []
          },
          "execution_count": 17
        }
      ]
    },
    {
      "cell_type": "code",
      "metadata": {
        "id": "RhYUCwjxgfwQ",
        "outputId": "a7485497-c66b-4ee9-d711-0cbf4c95239c",
        "colab": {
          "base_uri": "https://localhost:8080/"
        }
      },
      "source": [
        "np.dot(mat_ex1.T,mat_ex2)"
      ],
      "execution_count": 18,
      "outputs": [
        {
          "output_type": "execute_result",
          "data": {
            "text/plain": [
              "array([[838.5 ,  32.89,  97.11],\n",
              "       [ 15.1 ,  11.25,  18.43],\n",
              "       [ 36.3 ,  17.1 ,  28.74]])"
            ]
          },
          "metadata": {
            "tags": []
          },
          "execution_count": 18
        }
      ]
    },
    {
      "cell_type": "markdown",
      "metadata": {
        "id": "ENbifRBgjIkv"
      },
      "source": [
        "#HW4 อธิบายการหา Determinant และ In"
      ]
    },
    {
      "cell_type": "code",
      "metadata": {
        "id": "9-3YbZACiATo"
      },
      "source": [
        ""
      ],
      "execution_count": null,
      "outputs": []
    }
  ]
}