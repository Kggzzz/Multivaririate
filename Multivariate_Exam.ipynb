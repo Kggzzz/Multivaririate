{
  "nbformat": 4,
  "nbformat_minor": 0,
  "metadata": {
    "colab": {
      "name": "Multivariate-Exam.ipynb",
      "provenance": [],
      "include_colab_link": true
    },
    "kernelspec": {
      "name": "python3",
      "display_name": "Python 3"
    },
    "language_info": {
      "name": "python"
    }
  },
  "cells": [
    {
      "cell_type": "markdown",
      "metadata": {
        "id": "view-in-github",
        "colab_type": "text"
      },
      "source": [
        "<a href=\"https://colab.research.google.com/github/Kggzzz/Multivaririate/blob/main/Multivariate_Exam.ipynb\" target=\"_parent\"><img src=\"https://colab.research.google.com/assets/colab-badge.svg\" alt=\"Open In Colab\"/></a>"
      ]
    },
    {
      "cell_type": "markdown",
      "metadata": {
        "id": "JZxiNADfaDtv"
      },
      "source": [
        "ให้นักศึกษาทำข้อสอบใน Colab Notebook นี้โดยกรอกข้อมูลของตัวเองใน cell ที่ 2 แล้วรัน cell ที่ 1 - 5 และเริ่มทำข้อสอบใน cell ที่ 6 เป็นต้นไป\n",
        "\n",
        "โดยโจทย์คือ\n",
        "1. ข้อมูลโจทย์ อยู่ใน ตัวแปร ```Data```\n",
        "2. ทำ clustering แล้วทำ visualize ข้อมูลแบบ 2 มิติ\n",
        "3. ลด Dimension ของข้อมูลเหลือ 2 มิติ แล้วทำ clustering แล้ว visualize ข้อมูลแบบ 2 มิติ\n",
        "4. เปรียบเทียบความแตกต่างของผลข้อ 2. กับ ข้อ 3.\n",
        "5. เขียน comments อธิบายทุกขั้นตอน\n",
        "6. อัด video อธิบาย code ทุกๆขั้นตอนรวมถึงผลแล้วอัพลง youtube ในรูปแบบ unlist \n",
        "7. commit โดยใช้ชื่อ commit เป็น link youtube ที่อธิบาย code ในข้อ 6.\n",
        "\n",
        "กำหนดส่งวันที่ 2 พฤษภาคม 2564 (โดยให้มากรอกวันที่ commit ครั้งสุดท้ายใน sheet: https://docs.google.com/spreadsheets/d/1_qJwLDJVtOW1HxBcf_FHVc6UT4J_SOonuR6o3EEnVzw/edit?usp=sharing ช่อง Final)"
      ]
    },
    {
      "cell_type": "code",
      "metadata": {
        "id": "cWl2x1bPGtQl"
      },
      "source": [
        "from sklearn.datasets import make_blobs\n",
        "import random,math\n",
        "import numpy as np\n",
        "import pandas\n",
        "from matplotlib import pyplot as plt"
      ],
      "execution_count": 7,
      "outputs": []
    },
    {
      "cell_type": "code",
      "metadata": {
        "id": "gZfzuiHsZksh"
      },
      "source": [
        "Name = 'รัฐพร ลีนาราชรุ่งเรือง'\n",
        "ID = '6130210204'"
      ],
      "execution_count": 8,
      "outputs": []
    },
    {
      "cell_type": "code",
      "metadata": {
        "id": "8hFQXkF5aAiA"
      },
      "source": [
        "def DataGenerator(name,id):\n",
        "    random.seed(int(id[3:6]))\n",
        "    numfeat = random.randint(20,30)\n",
        "    ct = random.randint(len(name)-6,len(name))\n",
        "    \n",
        "    X, y = make_blobs(n_samples=10000, centers=ct, n_features=numfeat , random_state=int(id[3:6]))\n",
        "\n",
        "    print(f'{id[3:6]}:{numfeat}:{ct}')\n",
        "    X_t = (X[:,1]*2)+int(id[3])\n",
        "    X_t2 = (X[:,-1]*5)+int(id[4])\n",
        "\n",
        "    DT = np.append(X,X_t.reshape([10000,1]),axis=1)\n",
        "    DT = np.append(DT,X_t2.reshape([10000,1]),axis=1)\n",
        "    \n",
        "    return pandas.DataFrame(DT)"
      ],
      "execution_count": 9,
      "outputs": []
    },
    {
      "cell_type": "code",
      "metadata": {
        "colab": {
          "base_uri": "https://localhost:8080/"
        },
        "id": "hbXlxumSBX9i",
        "outputId": "c5163810-aa8f-4f5b-c1a5-ff43b9fbf3fb"
      },
      "source": [
        "Data = DataGenerator(Name,ID)"
      ],
      "execution_count": 10,
      "outputs": [
        {
          "output_type": "stream",
          "text": [
            "021:22:19\n"
          ],
          "name": "stdout"
        }
      ]
    },
    {
      "cell_type": "code",
      "metadata": {
        "colab": {
          "base_uri": "https://localhost:8080/",
          "height": 437
        },
        "id": "pQcCySXvBdN-",
        "outputId": "422105bd-6bef-4285-bfa1-9fc2a69dbb13"
      },
      "source": [
        "Data"
      ],
      "execution_count": 11,
      "outputs": [
        {
          "output_type": "execute_result",
          "data": {
            "text/html": [
              "<div>\n",
              "<style scoped>\n",
              "    .dataframe tbody tr th:only-of-type {\n",
              "        vertical-align: middle;\n",
              "    }\n",
              "\n",
              "    .dataframe tbody tr th {\n",
              "        vertical-align: top;\n",
              "    }\n",
              "\n",
              "    .dataframe thead th {\n",
              "        text-align: right;\n",
              "    }\n",
              "</style>\n",
              "<table border=\"1\" class=\"dataframe\">\n",
              "  <thead>\n",
              "    <tr style=\"text-align: right;\">\n",
              "      <th></th>\n",
              "      <th>0</th>\n",
              "      <th>1</th>\n",
              "      <th>2</th>\n",
              "      <th>3</th>\n",
              "      <th>4</th>\n",
              "      <th>5</th>\n",
              "      <th>6</th>\n",
              "      <th>7</th>\n",
              "      <th>8</th>\n",
              "      <th>9</th>\n",
              "      <th>10</th>\n",
              "      <th>11</th>\n",
              "      <th>12</th>\n",
              "      <th>13</th>\n",
              "      <th>14</th>\n",
              "      <th>15</th>\n",
              "      <th>16</th>\n",
              "      <th>17</th>\n",
              "      <th>18</th>\n",
              "      <th>19</th>\n",
              "      <th>20</th>\n",
              "      <th>21</th>\n",
              "      <th>22</th>\n",
              "      <th>23</th>\n",
              "    </tr>\n",
              "  </thead>\n",
              "  <tbody>\n",
              "    <tr>\n",
              "      <th>0</th>\n",
              "      <td>6.998573</td>\n",
              "      <td>9.408469</td>\n",
              "      <td>2.532186</td>\n",
              "      <td>-8.431070</td>\n",
              "      <td>-8.143690</td>\n",
              "      <td>-4.183724</td>\n",
              "      <td>-6.978903</td>\n",
              "      <td>0.551976</td>\n",
              "      <td>-5.264983</td>\n",
              "      <td>-8.393296</td>\n",
              "      <td>-4.300683</td>\n",
              "      <td>-1.958555</td>\n",
              "      <td>2.920012</td>\n",
              "      <td>-3.306722</td>\n",
              "      <td>1.790339</td>\n",
              "      <td>-4.060140</td>\n",
              "      <td>-7.391625</td>\n",
              "      <td>-9.224140</td>\n",
              "      <td>-4.908863</td>\n",
              "      <td>-5.676293</td>\n",
              "      <td>-8.491590</td>\n",
              "      <td>6.623749</td>\n",
              "      <td>18.816939</td>\n",
              "      <td>35.118746</td>\n",
              "    </tr>\n",
              "    <tr>\n",
              "      <th>1</th>\n",
              "      <td>4.793187</td>\n",
              "      <td>-10.486679</td>\n",
              "      <td>-11.349761</td>\n",
              "      <td>-1.199810</td>\n",
              "      <td>7.699211</td>\n",
              "      <td>-0.448901</td>\n",
              "      <td>8.037399</td>\n",
              "      <td>-4.052600</td>\n",
              "      <td>-4.742263</td>\n",
              "      <td>7.565513</td>\n",
              "      <td>-0.992729</td>\n",
              "      <td>0.916247</td>\n",
              "      <td>6.230184</td>\n",
              "      <td>-3.126671</td>\n",
              "      <td>-8.486790</td>\n",
              "      <td>3.047311</td>\n",
              "      <td>-2.881562</td>\n",
              "      <td>-1.499004</td>\n",
              "      <td>-5.051019</td>\n",
              "      <td>3.580666</td>\n",
              "      <td>-0.262859</td>\n",
              "      <td>7.287736</td>\n",
              "      <td>-20.973358</td>\n",
              "      <td>38.438682</td>\n",
              "    </tr>\n",
              "    <tr>\n",
              "      <th>2</th>\n",
              "      <td>6.868155</td>\n",
              "      <td>8.609617</td>\n",
              "      <td>1.871433</td>\n",
              "      <td>-7.423131</td>\n",
              "      <td>-5.201634</td>\n",
              "      <td>-2.139696</td>\n",
              "      <td>-8.653000</td>\n",
              "      <td>-0.492976</td>\n",
              "      <td>-4.859249</td>\n",
              "      <td>-6.213616</td>\n",
              "      <td>-7.360273</td>\n",
              "      <td>-3.566184</td>\n",
              "      <td>3.883799</td>\n",
              "      <td>-5.042229</td>\n",
              "      <td>0.804977</td>\n",
              "      <td>-4.970622</td>\n",
              "      <td>-7.574512</td>\n",
              "      <td>-9.900526</td>\n",
              "      <td>-4.340172</td>\n",
              "      <td>-5.954579</td>\n",
              "      <td>-7.940610</td>\n",
              "      <td>6.969959</td>\n",
              "      <td>17.219235</td>\n",
              "      <td>36.849794</td>\n",
              "    </tr>\n",
              "    <tr>\n",
              "      <th>3</th>\n",
              "      <td>-0.799462</td>\n",
              "      <td>1.689073</td>\n",
              "      <td>-4.370141</td>\n",
              "      <td>0.726486</td>\n",
              "      <td>8.118532</td>\n",
              "      <td>8.753459</td>\n",
              "      <td>4.033157</td>\n",
              "      <td>9.700902</td>\n",
              "      <td>-8.339233</td>\n",
              "      <td>-1.875282</td>\n",
              "      <td>-6.949858</td>\n",
              "      <td>-8.679964</td>\n",
              "      <td>1.534346</td>\n",
              "      <td>3.048216</td>\n",
              "      <td>-4.838816</td>\n",
              "      <td>0.842730</td>\n",
              "      <td>7.680817</td>\n",
              "      <td>6.593378</td>\n",
              "      <td>-0.033904</td>\n",
              "      <td>3.243168</td>\n",
              "      <td>-3.415298</td>\n",
              "      <td>3.079304</td>\n",
              "      <td>3.378146</td>\n",
              "      <td>17.396518</td>\n",
              "    </tr>\n",
              "    <tr>\n",
              "      <th>4</th>\n",
              "      <td>-3.387209</td>\n",
              "      <td>5.545563</td>\n",
              "      <td>-1.587408</td>\n",
              "      <td>4.467429</td>\n",
              "      <td>-5.267274</td>\n",
              "      <td>-5.848685</td>\n",
              "      <td>9.866669</td>\n",
              "      <td>8.965117</td>\n",
              "      <td>3.145881</td>\n",
              "      <td>9.799044</td>\n",
              "      <td>9.268282</td>\n",
              "      <td>8.572958</td>\n",
              "      <td>-0.531562</td>\n",
              "      <td>-7.867665</td>\n",
              "      <td>3.826176</td>\n",
              "      <td>9.256155</td>\n",
              "      <td>-1.291767</td>\n",
              "      <td>0.404302</td>\n",
              "      <td>-7.259650</td>\n",
              "      <td>-3.967976</td>\n",
              "      <td>-8.853880</td>\n",
              "      <td>9.119730</td>\n",
              "      <td>11.091127</td>\n",
              "      <td>47.598652</td>\n",
              "    </tr>\n",
              "    <tr>\n",
              "      <th>...</th>\n",
              "      <td>...</td>\n",
              "      <td>...</td>\n",
              "      <td>...</td>\n",
              "      <td>...</td>\n",
              "      <td>...</td>\n",
              "      <td>...</td>\n",
              "      <td>...</td>\n",
              "      <td>...</td>\n",
              "      <td>...</td>\n",
              "      <td>...</td>\n",
              "      <td>...</td>\n",
              "      <td>...</td>\n",
              "      <td>...</td>\n",
              "      <td>...</td>\n",
              "      <td>...</td>\n",
              "      <td>...</td>\n",
              "      <td>...</td>\n",
              "      <td>...</td>\n",
              "      <td>...</td>\n",
              "      <td>...</td>\n",
              "      <td>...</td>\n",
              "      <td>...</td>\n",
              "      <td>...</td>\n",
              "      <td>...</td>\n",
              "    </tr>\n",
              "    <tr>\n",
              "      <th>9995</th>\n",
              "      <td>7.494563</td>\n",
              "      <td>-5.074564</td>\n",
              "      <td>-4.711338</td>\n",
              "      <td>7.934581</td>\n",
              "      <td>-3.270472</td>\n",
              "      <td>3.546957</td>\n",
              "      <td>7.996760</td>\n",
              "      <td>-8.082516</td>\n",
              "      <td>7.863600</td>\n",
              "      <td>-8.708209</td>\n",
              "      <td>-1.818010</td>\n",
              "      <td>-1.969718</td>\n",
              "      <td>3.059984</td>\n",
              "      <td>5.762773</td>\n",
              "      <td>-7.941723</td>\n",
              "      <td>-7.505039</td>\n",
              "      <td>1.692035</td>\n",
              "      <td>5.830330</td>\n",
              "      <td>-4.594614</td>\n",
              "      <td>1.553950</td>\n",
              "      <td>-6.002820</td>\n",
              "      <td>-1.256688</td>\n",
              "      <td>-10.149128</td>\n",
              "      <td>-4.283439</td>\n",
              "    </tr>\n",
              "    <tr>\n",
              "      <th>9996</th>\n",
              "      <td>4.880187</td>\n",
              "      <td>-0.106195</td>\n",
              "      <td>6.322375</td>\n",
              "      <td>3.648013</td>\n",
              "      <td>-6.886901</td>\n",
              "      <td>-7.088115</td>\n",
              "      <td>4.059726</td>\n",
              "      <td>-4.205167</td>\n",
              "      <td>-2.500681</td>\n",
              "      <td>-8.251794</td>\n",
              "      <td>3.141042</td>\n",
              "      <td>6.743491</td>\n",
              "      <td>7.649316</td>\n",
              "      <td>-5.707326</td>\n",
              "      <td>7.010957</td>\n",
              "      <td>-7.595744</td>\n",
              "      <td>-1.489179</td>\n",
              "      <td>-1.734962</td>\n",
              "      <td>1.578287</td>\n",
              "      <td>-0.358273</td>\n",
              "      <td>0.896843</td>\n",
              "      <td>-0.598492</td>\n",
              "      <td>-0.212391</td>\n",
              "      <td>-0.992460</td>\n",
              "    </tr>\n",
              "    <tr>\n",
              "      <th>9997</th>\n",
              "      <td>0.232640</td>\n",
              "      <td>-3.743657</td>\n",
              "      <td>-2.696358</td>\n",
              "      <td>-5.457263</td>\n",
              "      <td>-10.410667</td>\n",
              "      <td>4.964825</td>\n",
              "      <td>6.449131</td>\n",
              "      <td>-9.378586</td>\n",
              "      <td>-4.319468</td>\n",
              "      <td>-4.918942</td>\n",
              "      <td>4.178273</td>\n",
              "      <td>-0.944115</td>\n",
              "      <td>-1.622405</td>\n",
              "      <td>-3.984385</td>\n",
              "      <td>1.462354</td>\n",
              "      <td>7.379106</td>\n",
              "      <td>9.868613</td>\n",
              "      <td>-9.469114</td>\n",
              "      <td>0.780065</td>\n",
              "      <td>-8.655670</td>\n",
              "      <td>6.122351</td>\n",
              "      <td>2.756798</td>\n",
              "      <td>-7.487315</td>\n",
              "      <td>15.783988</td>\n",
              "    </tr>\n",
              "    <tr>\n",
              "      <th>9998</th>\n",
              "      <td>8.295326</td>\n",
              "      <td>6.859333</td>\n",
              "      <td>2.417073</td>\n",
              "      <td>0.090296</td>\n",
              "      <td>7.000321</td>\n",
              "      <td>5.771287</td>\n",
              "      <td>-9.733212</td>\n",
              "      <td>5.350132</td>\n",
              "      <td>0.210878</td>\n",
              "      <td>-1.327423</td>\n",
              "      <td>-2.407195</td>\n",
              "      <td>-0.484176</td>\n",
              "      <td>-4.077871</td>\n",
              "      <td>5.578387</td>\n",
              "      <td>4.684578</td>\n",
              "      <td>-8.031806</td>\n",
              "      <td>3.940529</td>\n",
              "      <td>6.444920</td>\n",
              "      <td>3.227489</td>\n",
              "      <td>-3.910154</td>\n",
              "      <td>-4.691817</td>\n",
              "      <td>-3.643433</td>\n",
              "      <td>13.718667</td>\n",
              "      <td>-16.217167</td>\n",
              "    </tr>\n",
              "    <tr>\n",
              "      <th>9999</th>\n",
              "      <td>-1.901190</td>\n",
              "      <td>8.776796</td>\n",
              "      <td>-3.670040</td>\n",
              "      <td>6.938841</td>\n",
              "      <td>11.227721</td>\n",
              "      <td>3.464183</td>\n",
              "      <td>-3.644097</td>\n",
              "      <td>10.000124</td>\n",
              "      <td>-3.026736</td>\n",
              "      <td>8.767167</td>\n",
              "      <td>-7.663503</td>\n",
              "      <td>8.306330</td>\n",
              "      <td>5.812670</td>\n",
              "      <td>-8.141203</td>\n",
              "      <td>3.301537</td>\n",
              "      <td>-5.728930</td>\n",
              "      <td>-0.412929</td>\n",
              "      <td>0.392734</td>\n",
              "      <td>-7.123418</td>\n",
              "      <td>7.041607</td>\n",
              "      <td>8.837354</td>\n",
              "      <td>2.715356</td>\n",
              "      <td>17.553593</td>\n",
              "      <td>15.576779</td>\n",
              "    </tr>\n",
              "  </tbody>\n",
              "</table>\n",
              "<p>10000 rows × 24 columns</p>\n",
              "</div>"
            ],
            "text/plain": [
              "            0          1          2   ...        21         22         23\n",
              "0     6.998573   9.408469   2.532186  ...  6.623749  18.816939  35.118746\n",
              "1     4.793187 -10.486679 -11.349761  ...  7.287736 -20.973358  38.438682\n",
              "2     6.868155   8.609617   1.871433  ...  6.969959  17.219235  36.849794\n",
              "3    -0.799462   1.689073  -4.370141  ...  3.079304   3.378146  17.396518\n",
              "4    -3.387209   5.545563  -1.587408  ...  9.119730  11.091127  47.598652\n",
              "...        ...        ...        ...  ...       ...        ...        ...\n",
              "9995  7.494563  -5.074564  -4.711338  ... -1.256688 -10.149128  -4.283439\n",
              "9996  4.880187  -0.106195   6.322375  ... -0.598492  -0.212391  -0.992460\n",
              "9997  0.232640  -3.743657  -2.696358  ...  2.756798  -7.487315  15.783988\n",
              "9998  8.295326   6.859333   2.417073  ... -3.643433  13.718667 -16.217167\n",
              "9999 -1.901190   8.776796  -3.670040  ...  2.715356  17.553593  15.576779\n",
              "\n",
              "[10000 rows x 24 columns]"
            ]
          },
          "metadata": {
            "tags": []
          },
          "execution_count": 11
        }
      ]
    },
    {
      "cell_type": "markdown",
      "metadata": {
        "id": "_szjEbkw69pF"
      },
      "source": [
        "2. ทำการ clustering data แล้วทำ visualize ให้ข้อมูลออกมาในรูปแบบ 2 มิติ"
      ]
    },
    {
      "cell_type": "code",
      "metadata": {
        "id": "2xAUx5Ar6yKe"
      },
      "source": [
        "#Import ทำการ import function ที่ต้องการใช้ในการทำ K-mean จาก sklearn.cluster\n",
        "from sklearn.cluster import KMeans"
      ],
      "execution_count": 12,
      "outputs": []
    },
    {
      "cell_type": "code",
      "metadata": {
        "id": "vZTMbXA17DXb"
      },
      "source": [
        "#Defind ทำการกำหนดค่า k ที่เราต้อวงการ \n",
        "kmeans = KMeans(n_clusters=3,random_state=2021)\n",
        "#กำหนดค่า k ที่ต้องการ (ไม่จำเป็นต้องกำหนดก็ได้ เพราะkmeanมีdefult)\n",
        "#random_state=2021 ให้ทุกคนเริ่มสุ่มที่จุดเดียวกัน จะได้มีการจัดกลุ่มเหมือนกัน"
      ],
      "execution_count": 13,
      "outputs": []
    },
    {
      "cell_type": "code",
      "metadata": {
        "colab": {
          "base_uri": "https://localhost:8080/"
        },
        "id": "a9CT47rE7EuE",
        "outputId": "eb587c1e-c8bc-41e8-fcf5-77f42bdecf2e"
      },
      "source": [
        "kmeans.fit(Data)"
      ],
      "execution_count": 14,
      "outputs": [
        {
          "output_type": "execute_result",
          "data": {
            "text/plain": [
              "KMeans(algorithm='auto', copy_x=True, init='k-means++', max_iter=300,\n",
              "       n_clusters=3, n_init=10, n_jobs=None, precompute_distances='auto',\n",
              "       random_state=2021, tol=0.0001, verbose=0)"
            ]
          },
          "metadata": {
            "tags": []
          },
          "execution_count": 14
        }
      ]
    },
    {
      "cell_type": "code",
      "metadata": {
        "colab": {
          "base_uri": "https://localhost:8080/"
        },
        "id": "PCCN-Oei7HUU",
        "outputId": "bce51d4c-de65-4204-f311-a865418424d4"
      },
      "source": [
        "#แสดงจุดที่คำนวณได้\n",
        "kmeans.cluster_centers_"
      ],
      "execution_count": 15,
      "outputs": [
        {
          "output_type": "execute_result",
          "data": {
            "text/plain": [
              "array([[-2.28347594e-01, -2.77390234e-01, -1.26673332e+00,\n",
              "        -2.13528192e+00, -7.14718455e-01, -1.80680218e+00,\n",
              "         4.94748395e-01, -2.52487394e+00,  5.26860463e-01,\n",
              "         1.79441547e+00, -7.46262642e-01,  1.08456039e+00,\n",
              "        -1.13363595e+00, -9.14034860e-01, -9.25545673e-01,\n",
              "         3.88151770e+00, -1.31725053e+00, -9.00502960e-01,\n",
              "        -3.10939777e+00, -4.20280230e+00, -1.82443480e+00,\n",
              "         5.01490695e+00, -5.54780469e-01,  2.70745348e+01],\n",
              "       [-1.01713748e+00, -4.16822385e+00, -1.22574991e+00,\n",
              "         2.34683834e+00,  1.07324954e+00,  2.91203090e+00,\n",
              "         5.82264079e+00, -6.83186668e+00,  1.43120939e+00,\n",
              "        -7.76257709e-01,  5.14298573e+00,  5.00034193e+00,\n",
              "         7.90775269e+00,  2.82993310e-01,  4.40931528e+00,\n",
              "        -1.30989122e+00,  8.66174014e+00, -1.58053047e+00,\n",
              "         3.34420350e+00,  4.11962726e-01,  8.54911856e+00,\n",
              "        -9.21650843e+00, -8.33644771e+00, -4.40825422e+01],\n",
              "       [ 1.66750390e+00,  2.84332164e+00,  7.13970294e-01,\n",
              "         2.19145292e+00,  2.61488257e+00,  2.17568154e+00,\n",
              "         2.07835600e+00,  6.02802253e-01, -2.28646030e+00,\n",
              "        -2.47658856e+00, -2.97569745e+00, -5.62544811e-01,\n",
              "         2.05654728e+00,  5.58464699e-01,  1.63965100e+00,\n",
              "        -3.57190912e+00,  3.40736770e+00,  2.08135133e+00,\n",
              "         6.48349245e-01,  4.94984313e-01,  9.21395190e-01,\n",
              "         1.54169895e-02,  5.68664329e+00,  2.07708495e+00]])"
            ]
          },
          "metadata": {
            "tags": []
          },
          "execution_count": 15
        }
      ]
    },
    {
      "cell_type": "code",
      "metadata": {
        "colab": {
          "base_uri": "https://localhost:8080/"
        },
        "id": "Jb91aHAV7JLJ",
        "outputId": "fb15f1c9-96ca-4bc5-8897-5bdf47bf295b"
      },
      "source": [
        "#ทดสอบการจัดกลุ่มของ Data\n",
        "y = kmeans.predict(Data)\n",
        "y"
      ],
      "execution_count": 16,
      "outputs": [
        {
          "output_type": "execute_result",
          "data": {
            "text/plain": [
              "array([0, 0, 0, ..., 0, 2, 2], dtype=int32)"
            ]
          },
          "metadata": {
            "tags": []
          },
          "execution_count": 16
        }
      ]
    },
    {
      "cell_type": "markdown",
      "metadata": {
        "id": "4TbXJGaa7pYP"
      },
      "source": [
        "ทำ PCA ลด Dimention"
      ]
    },
    {
      "cell_type": "code",
      "metadata": {
        "id": "US2cWN1v7bnT"
      },
      "source": [
        "from sklearn.decomposition import PCA"
      ],
      "execution_count": 17,
      "outputs": []
    },
    {
      "cell_type": "code",
      "metadata": {
        "id": "f2r5EggR7r4d"
      },
      "source": [
        "pca = PCA(n_components=2)"
      ],
      "execution_count": 18,
      "outputs": []
    },
    {
      "cell_type": "code",
      "metadata": {
        "id": "Kt3yJKUN71Te"
      },
      "source": [
        "new_pca = pca.fit_transform(Data)"
      ],
      "execution_count": 19,
      "outputs": []
    },
    {
      "cell_type": "code",
      "metadata": {
        "colab": {
          "base_uri": "https://localhost:8080/",
          "height": 282
        },
        "id": "gzh6ZSIj791X",
        "outputId": "faf026d7-3ea8-4fc2-e647-bc763609d066"
      },
      "source": [
        "kmeans = KMeans(random_state=2021)\n",
        "kmeans.fit(Data)\n",
        "y = kmeans.predict(Data)\n",
        "plt.scatter(new_pca[:,0],new_pca[:,1],c=y)"
      ],
      "execution_count": 21,
      "outputs": [
        {
          "output_type": "execute_result",
          "data": {
            "text/plain": [
              "<matplotlib.collections.PathCollection at 0x7ff27fbe1d50>"
            ]
          },
          "metadata": {
            "tags": []
          },
          "execution_count": 21
        },
        {
          "output_type": "display_data",
          "data": {
            "image/png": "[encoded data removed]",
            "text/plain": [
              "<Figure size 432x288 with 1 Axes>"
            ]
          },
          "metadata": {
            "tags": [],
            "needs_background": "light"
          }
        }
      ]
    },
    {
      "cell_type": "markdown",
      "metadata": {
        "id": "oYcteQfQ6Gqy"
      },
      "source": [
        "ทำการหาจำนวนกลุ่มที่เหมาะสมต่อการแบ่งกลุ่ม หรือทำการหาค่า k ที่เหมาะสมของ data "
      ]
    },
    {
      "cell_type": "markdown",
      "metadata": {
        "id": "N8TkyS4j6GjV"
      },
      "source": [
        "ใช้วิธีการหาค่า k ด้วยวิธี  _\" The elbow method \"_"
      ]
    },
    {
      "cell_type": "code",
      "metadata": {
        "id": "jUARadkFEuyJ"
      },
      "source": [
        "#เริ่มแรกทำการคำนวนค่า SSE ของ data\n",
        "kmeans.inertia_ ##ค่าของ SSE Sum of Squared error"
      ],
      "execution_count": null,
      "outputs": []
    },
    {
      "cell_type": "code",
      "metadata": {
        "id": "ZFq1t1o46Uq3"
      },
      "source": [
        "SSE = list()\n",
        "for k in [1,2,3,4,5,6,7,8]:\n",
        "    kmeans = KMeans(n_clusters = k , random_state = 2021)\n",
        "    XX = kmeans.fit(Data)\n",
        "    SSE.append(kmeans.inertia_)"
      ],
      "execution_count": null,
      "outputs": []
    },
    {
      "cell_type": "code",
      "metadata": {
        "id": "v6CzryLo6WcW"
      },
      "source": [
        "SSE"
      ],
      "execution_count": null,
      "outputs": []
    },
    {
      "cell_type": "code",
      "metadata": {
        "id": "Rf7JF6pz6X8r"
      },
      "source": [
        "#ทำการนำค่า SSE ที่ได้มา plot กราฟเพื่อดูว่ามีกี่ k กลุ่ม\n",
        "plt.plot([1,2,3,4,5,6,7,8],SSE,'o-b')\n",
        "plt.xlabel('k')\n",
        "plt.ylabel('SSE');"
      ],
      "execution_count": null,
      "outputs": []
    },
    {
      "cell_type": "code",
      "metadata": {
        "id": "6WusgIjs6aeP"
      },
      "source": [
        "จากกราฟจะบอกได้ว่า k มีทั้งหมด 3 กลุ่ม ดูจากจุดที่ k ที่"
      ],
      "execution_count": null,
      "outputs": []
    },
    {
      "cell_type": "markdown",
      "metadata": {
        "id": "8wX4uOtj6caL"
      },
      "source": [
        "ใช้วิธีการหาค่า k ด้วยวิธี  _\" The silhouette coefficient \"_"
      ]
    },
    {
      "cell_type": "code",
      "metadata": {
        "id": "GsXUbr4A6c2I"
      },
      "source": [
        "#import function metrics มาใช้\n",
        "from sklearn import metrics"
      ],
      "execution_count": null,
      "outputs": []
    },
    {
      "cell_type": "code",
      "metadata": {
        "id": "Z0kxWMh76qyu"
      },
      "source": [
        "SilH = list()\n",
        "for k in [2,3,4,5,6,7,8]:\n",
        "    kmeans = KMeans(n_clusters = k , random_state = 2021)\n",
        "    kmeans.fit(Data)\n",
        "    score = metrics.silhouette_score(Data,kmeans.labels_)\n",
        "    SilH.append(score)"
      ],
      "execution_count": null,
      "outputs": []
    },
    {
      "cell_type": "code",
      "metadata": {
        "id": "r4hz6fgr6vXn"
      },
      "source": [
        "plt.plot([2,3,4,5,6,7,8],SilH,'o-g')\n",
        "plt.xlabel('k')\n",
        "plt.ylabel('SilH');"
      ],
      "execution_count": null,
      "outputs": []
    },
    {
      "cell_type": "markdown",
      "metadata": {
        "id": "bcgI8ONi6xpJ"
      },
      "source": [
        "จากกราฟจะบอกได้ว่า k มีทั้งหมด 3 กลุ่ม"
      ]
    }
  ]
}