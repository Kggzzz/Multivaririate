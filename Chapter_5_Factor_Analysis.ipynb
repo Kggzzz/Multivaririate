{
  "nbformat": 4,
  "nbformat_minor": 0,
  "metadata": {
    "colab": {
      "name": "Chapter 5 Factor Analysis.ipynb",
      "provenance": [],
      "authorship_tag": "ABX9TyNMxlW2BR2H9TIf5lGV2rsb",
      "include_colab_link": true
    },
    "kernelspec": {
      "name": "python3",
      "display_name": "Python 3"
    },
    "language_info": {
      "name": "python"
    }
  },
  "cells": [
    {
      "cell_type": "markdown",
      "metadata": {
        "id": "view-in-github",
        "colab_type": "text"
      },
      "source": [
        "<a href=\"https://colab.research.google.com/github/Kggzzz/Multivaririate/blob/main/Chapter_5_Factor_Analysis.ipynb\" target=\"_parent\"><img src=\"https://colab.research.google.com/assets/colab-badge.svg\" alt=\"Open In Colab\"/></a>"
      ]
    },
    {
      "cell_type": "markdown",
      "metadata": {
        "id": "paGuFRdZEbiq"
      },
      "source": [
        "https://www.datacamp.com/community/tutorials/introduction-factor-analysis\n",
        "\n"
      ]
    },
    {
      "cell_type": "markdown",
      "metadata": {
        "id": "otCvvrE4E7Sq"
      },
      "source": [
        "#Factor Analysis\n",
        "\n"
      ]
    },
    {
      "cell_type": "code",
      "metadata": {
        "id": "xeDpKxtCEygF"
      },
      "source": [
        "import pandas as pd "
      ],
      "execution_count": 1,
      "outputs": []
    },
    {
      "cell_type": "markdown",
      "metadata": {
        "id": "Paja_YkhHQyL"
      },
      "source": [
        "https://vincentarelbundock.github.io/Rdatasets/datasets.html\n",
        "\n",
        "ข้อมูล psych 25 Personality items representing 5 factors (ลักษณะ บุคลิกภาพ )"
      ]
    },
    {
      "cell_type": "code",
      "metadata": {
        "colab": {
          "base_uri": "https://localhost:8080/",
          "height": 236
        },
        "id": "_fKJGWVZGoV1",
        "outputId": "01a133a3-badf-40fb-8035-80383ddbc6be"
      },
      "source": [
        "BFI_data = pd.read_csv('bfi.csv')\n",
        "BFI_data.head()"
      ],
      "execution_count": 2,
      "outputs": [
        {
          "output_type": "execute_result",
          "data": {
            "text/html": [
              "<div>\n",
              "<style scoped>\n",
              "    .dataframe tbody tr th:only-of-type {\n",
              "        vertical-align: middle;\n",
              "    }\n",
              "\n",
              "    .dataframe tbody tr th {\n",
              "        vertical-align: top;\n",
              "    }\n",
              "\n",
              "    .dataframe thead th {\n",
              "        text-align: right;\n",
              "    }\n",
              "</style>\n",
              "<table border=\"1\" class=\"dataframe\">\n",
              "  <thead>\n",
              "    <tr style=\"text-align: right;\">\n",
              "      <th></th>\n",
              "      <th>Unnamed: 0</th>\n",
              "      <th>A1</th>\n",
              "      <th>A2</th>\n",
              "      <th>A3</th>\n",
              "      <th>A4</th>\n",
              "      <th>A5</th>\n",
              "      <th>C1</th>\n",
              "      <th>C2</th>\n",
              "      <th>C3</th>\n",
              "      <th>C4</th>\n",
              "      <th>C5</th>\n",
              "      <th>E1</th>\n",
              "      <th>E2</th>\n",
              "      <th>E3</th>\n",
              "      <th>E4</th>\n",
              "      <th>E5</th>\n",
              "      <th>N1</th>\n",
              "      <th>N2</th>\n",
              "      <th>N3</th>\n",
              "      <th>N4</th>\n",
              "      <th>N5</th>\n",
              "      <th>O1</th>\n",
              "      <th>O2</th>\n",
              "      <th>O3</th>\n",
              "      <th>O4</th>\n",
              "      <th>O5</th>\n",
              "      <th>gender</th>\n",
              "      <th>education</th>\n",
              "      <th>age</th>\n",
              "    </tr>\n",
              "  </thead>\n",
              "  <tbody>\n",
              "    <tr>\n",
              "      <th>0</th>\n",
              "      <td>61617</td>\n",
              "      <td>2.0</td>\n",
              "      <td>4.0</td>\n",
              "      <td>3.0</td>\n",
              "      <td>4.0</td>\n",
              "      <td>4.0</td>\n",
              "      <td>2.0</td>\n",
              "      <td>3.0</td>\n",
              "      <td>3.0</td>\n",
              "      <td>4.0</td>\n",
              "      <td>4.0</td>\n",
              "      <td>3.0</td>\n",
              "      <td>3.0</td>\n",
              "      <td>3.0</td>\n",
              "      <td>4.0</td>\n",
              "      <td>4.0</td>\n",
              "      <td>3.0</td>\n",
              "      <td>4.0</td>\n",
              "      <td>2.0</td>\n",
              "      <td>2.0</td>\n",
              "      <td>3.0</td>\n",
              "      <td>3.0</td>\n",
              "      <td>6</td>\n",
              "      <td>3.0</td>\n",
              "      <td>4.0</td>\n",
              "      <td>3.0</td>\n",
              "      <td>1</td>\n",
              "      <td>NaN</td>\n",
              "      <td>16</td>\n",
              "    </tr>\n",
              "    <tr>\n",
              "      <th>1</th>\n",
              "      <td>61618</td>\n",
              "      <td>2.0</td>\n",
              "      <td>4.0</td>\n",
              "      <td>5.0</td>\n",
              "      <td>2.0</td>\n",
              "      <td>5.0</td>\n",
              "      <td>5.0</td>\n",
              "      <td>4.0</td>\n",
              "      <td>4.0</td>\n",
              "      <td>3.0</td>\n",
              "      <td>4.0</td>\n",
              "      <td>1.0</td>\n",
              "      <td>1.0</td>\n",
              "      <td>6.0</td>\n",
              "      <td>4.0</td>\n",
              "      <td>3.0</td>\n",
              "      <td>3.0</td>\n",
              "      <td>3.0</td>\n",
              "      <td>3.0</td>\n",
              "      <td>5.0</td>\n",
              "      <td>5.0</td>\n",
              "      <td>4.0</td>\n",
              "      <td>2</td>\n",
              "      <td>4.0</td>\n",
              "      <td>3.0</td>\n",
              "      <td>3.0</td>\n",
              "      <td>2</td>\n",
              "      <td>NaN</td>\n",
              "      <td>18</td>\n",
              "    </tr>\n",
              "    <tr>\n",
              "      <th>2</th>\n",
              "      <td>61620</td>\n",
              "      <td>5.0</td>\n",
              "      <td>4.0</td>\n",
              "      <td>5.0</td>\n",
              "      <td>4.0</td>\n",
              "      <td>4.0</td>\n",
              "      <td>4.0</td>\n",
              "      <td>5.0</td>\n",
              "      <td>4.0</td>\n",
              "      <td>2.0</td>\n",
              "      <td>5.0</td>\n",
              "      <td>2.0</td>\n",
              "      <td>4.0</td>\n",
              "      <td>4.0</td>\n",
              "      <td>4.0</td>\n",
              "      <td>5.0</td>\n",
              "      <td>4.0</td>\n",
              "      <td>5.0</td>\n",
              "      <td>4.0</td>\n",
              "      <td>2.0</td>\n",
              "      <td>3.0</td>\n",
              "      <td>4.0</td>\n",
              "      <td>2</td>\n",
              "      <td>5.0</td>\n",
              "      <td>5.0</td>\n",
              "      <td>2.0</td>\n",
              "      <td>2</td>\n",
              "      <td>NaN</td>\n",
              "      <td>17</td>\n",
              "    </tr>\n",
              "    <tr>\n",
              "      <th>3</th>\n",
              "      <td>61621</td>\n",
              "      <td>4.0</td>\n",
              "      <td>4.0</td>\n",
              "      <td>6.0</td>\n",
              "      <td>5.0</td>\n",
              "      <td>5.0</td>\n",
              "      <td>4.0</td>\n",
              "      <td>4.0</td>\n",
              "      <td>3.0</td>\n",
              "      <td>5.0</td>\n",
              "      <td>5.0</td>\n",
              "      <td>5.0</td>\n",
              "      <td>3.0</td>\n",
              "      <td>4.0</td>\n",
              "      <td>4.0</td>\n",
              "      <td>4.0</td>\n",
              "      <td>2.0</td>\n",
              "      <td>5.0</td>\n",
              "      <td>2.0</td>\n",
              "      <td>4.0</td>\n",
              "      <td>1.0</td>\n",
              "      <td>3.0</td>\n",
              "      <td>3</td>\n",
              "      <td>4.0</td>\n",
              "      <td>3.0</td>\n",
              "      <td>5.0</td>\n",
              "      <td>2</td>\n",
              "      <td>NaN</td>\n",
              "      <td>17</td>\n",
              "    </tr>\n",
              "    <tr>\n",
              "      <th>4</th>\n",
              "      <td>61622</td>\n",
              "      <td>2.0</td>\n",
              "      <td>3.0</td>\n",
              "      <td>3.0</td>\n",
              "      <td>4.0</td>\n",
              "      <td>5.0</td>\n",
              "      <td>4.0</td>\n",
              "      <td>4.0</td>\n",
              "      <td>5.0</td>\n",
              "      <td>3.0</td>\n",
              "      <td>2.0</td>\n",
              "      <td>2.0</td>\n",
              "      <td>2.0</td>\n",
              "      <td>5.0</td>\n",
              "      <td>4.0</td>\n",
              "      <td>5.0</td>\n",
              "      <td>2.0</td>\n",
              "      <td>3.0</td>\n",
              "      <td>4.0</td>\n",
              "      <td>4.0</td>\n",
              "      <td>3.0</td>\n",
              "      <td>3.0</td>\n",
              "      <td>3</td>\n",
              "      <td>4.0</td>\n",
              "      <td>3.0</td>\n",
              "      <td>3.0</td>\n",
              "      <td>1</td>\n",
              "      <td>NaN</td>\n",
              "      <td>17</td>\n",
              "    </tr>\n",
              "  </tbody>\n",
              "</table>\n",
              "</div>"
            ],
            "text/plain": [
              "   Unnamed: 0   A1   A2   A3   A4   A5  ...   O3   O4   O5  gender  education  age\n",
              "0       61617  2.0  4.0  3.0  4.0  4.0  ...  3.0  4.0  3.0       1        NaN   16\n",
              "1       61618  2.0  4.0  5.0  2.0  5.0  ...  4.0  3.0  3.0       2        NaN   18\n",
              "2       61620  5.0  4.0  5.0  4.0  4.0  ...  5.0  5.0  2.0       2        NaN   17\n",
              "3       61621  4.0  4.0  6.0  5.0  5.0  ...  4.0  3.0  5.0       2        NaN   17\n",
              "4       61622  2.0  3.0  3.0  4.0  5.0  ...  4.0  3.0  3.0       1        NaN   17\n",
              "\n",
              "[5 rows x 29 columns]"
            ]
          },
          "metadata": {
            "tags": []
          },
          "execution_count": 2
        }
      ]
    },
    {
      "cell_type": "markdown",
      "metadata": {
        "id": "QT43TTDYH4Ed"
      },
      "source": [
        "note : \n",
        "Factor Analysis Assumption : สิ่งที่เก็บข้อมูลมาแบบ Observe Variable เพื่อไปเป็น Factor Analysis ที่มีตัวแปรอยู่เบื้องหลังของผลนั้น โดยจุดประสงค์คือเราต้องการหาตัวแปรเบื้องหลังที่มีอิทธิพลต่อ factor analysis "
      ]
    },
    {
      "cell_type": "markdown",
      "metadata": {
        "id": "6_QllhoJHoCp"
      },
      "source": [
        "## Factor Analysis'\n",
        "\n",
        "## Assumptions: \n",
        "\n",
        "ในข้อมูล multivariate ที่มีตัวแปร Observe Variables จำนวน n ตัว\n",
        "\n",
        "มีตัวแปร Factors (Latent Variables) จำนวน k ตัว ที่สามารถอธิบายข้อมูลทั้งหมดได้\n",
        "\n",
        "โดย k < n\n",
        "\n",
        "; k ที่น้อยกว่า n เพื่อทำให้เราสามารถลดตัวแปรที่ไม่จำเป็นออกได้\n",
        "\n",
        "![1.png](data:image/png;base64,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)\n",
        "\n"
      ]
    },
    {
      "cell_type": "markdown",
      "metadata": {
        "id": "QiD08mJQLLMU"
      },
      "source": [
        "##Assumption ในการทำ Factor Analysis : \n",
        "\n",
        "\n",
        "1.   there are no outliers in data : ต้องไม่มี outliers เพื่อจะให้ค่าไม่ผิดเพี้ยนไป \n",
        "2.   Sample size should be greater than the factor : จำนวน data ต้องน้อยว่า จำนวน Factor Analysis\n",
        "3.   There should not be prefact multicollonearity : เช่น การหา correlation จะได้เท่ากับ 1 หรือ plot กราฟจะได้เป็นเส้นตรง ต้องไม่มีค่าแบบนี้ \n",
        "4.   There should not be homoscedasticity : เช่น ตัวข้อมูลที่มีการกระจายคล้ายๆกัน เป็นกลุ่มที่อยู่ใกล้ๆกัน ความ error ของข้อมูลอยู่ในกรอบเดียวกัน ต้องไม่มีค่าแบบนี้ \n",
        "\n",
        "ซึ่งจาก Assumption เราสามารถใช้เครื่องมือในการทำได้เลย \n"
      ]
    },
    {
      "cell_type": "markdown",
      "metadata": {
        "id": "Wl5Ialx7fcFp"
      },
      "source": [
        "Factor Analysis มีประโยชน์หลักอยู่ 2 อันคือ \n",
        "\n",
        "1. Confirmatory : เช่น เราจัดกรุ๊ปข้อมูลไว้ แล้วเมื่อทำ fa แล้วกรุ๊ปยังอยู่แบบเดิม แสดงว่าสามารถยืนยันได้ว่า group ที่เราจัดนั้นเป็นจริง \n",
        "2. Exploratory : เป็นการหาตัวแปรที่ซ่อนอยู่ในชุดข้อมูล สามารถอธิบายอะไรได้บ้าง \n",
        "\n",
        "ที่ช่วยในการอธิบายทฤษฎี หรือสมมติฐานที่เราต้องการู้ได้ โดยดูจากความสัมพันธ์ของแต่ละตัวแปร ว่ามี factor ไหนอธิบายได้บ้าง \n",
        "\n"
      ]
    },
    {
      "cell_type": "markdown",
      "metadata": {
        "id": "BGUXudnCPnBl"
      },
      "source": [
        "แก้ error ```ModuleNotFoundError: No module named 'factor_analyzer'``` โดย https://stackoverflow.com/questions/61830329/modulenotfounderror-no-module-named-factor-analyzer-python-notebook"
      ]
    },
    {
      "cell_type": "code",
      "metadata": {
        "colab": {
          "base_uri": "https://localhost:8080/"
        },
        "id": "HPOGg0xxG8OM",
        "outputId": "e1204a2c-df4d-4e04-819c-ffd53f0f7e69"
      },
      "source": [
        "!pip install factor_analyzer #ถ้าเกิดเราใช้ libary ที่ไม่ได้มีคนใช้บ่อย เราจะต้องทำการติดตั้งเอง\n",
        "import matplotlib.pyplot as plt  "
      ],
      "execution_count": 3,
      "outputs": [
        {
          "output_type": "stream",
          "text": [
            "Collecting factor_analyzer\n",
            "\u001b[?25l  Downloading https://files.pythonhosted.org/packages/44/b5/cbd83484ca6dd4c6562c6d66a6a3a0ecf526e79b2b575b9fb4bf5ad172dd/factor_analyzer-0.3.2.tar.gz (40kB)\n",
            "\r\u001b[K     |████████▏                       | 10kB 13.2MB/s eta 0:00:01\r\u001b[K     |████████████████▍               | 20kB 13.8MB/s eta 0:00:01\r\u001b[K     |████████████████████████▌       | 30kB 9.0MB/s eta 0:00:01\r\u001b[K     |████████████████████████████████| 40kB 2.8MB/s \n",
            "\u001b[?25hRequirement already satisfied: pandas in /usr/local/lib/python3.7/dist-packages (from factor_analyzer) (1.1.5)\n",
            "Requirement already satisfied: scipy in /usr/local/lib/python3.7/dist-packages (from factor_analyzer) (1.4.1)\n",
            "Requirement already satisfied: numpy in /usr/local/lib/python3.7/dist-packages (from factor_analyzer) (1.19.5)\n",
            "Requirement already satisfied: scikit-learn in /usr/local/lib/python3.7/dist-packages (from factor_analyzer) (0.22.2.post1)\n",
            "Requirement already satisfied: pytz>=2017.2 in /usr/local/lib/python3.7/dist-packages (from pandas->factor_analyzer) (2018.9)\n",
            "Requirement already satisfied: python-dateutil>=2.7.3 in /usr/local/lib/python3.7/dist-packages (from pandas->factor_analyzer) (2.8.1)\n",
            "Requirement already satisfied: joblib>=0.11 in /usr/local/lib/python3.7/dist-packages (from scikit-learn->factor_analyzer) (1.0.1)\n",
            "Requirement already satisfied: six>=1.5 in /usr/local/lib/python3.7/dist-packages (from python-dateutil>=2.7.3->pandas->factor_analyzer) (1.15.0)\n",
            "Building wheels for collected packages: factor-analyzer\n",
            "  Building wheel for factor-analyzer (setup.py) ... \u001b[?25l\u001b[?25hdone\n",
            "  Created wheel for factor-analyzer: filename=factor_analyzer-0.3.2-cp37-none-any.whl size=40383 sha256=12499d4b986e5f5a748106ff6fa3e860e86b23d749a4cf184c90ce9dd656707c\n",
            "  Stored in directory: /root/.cache/pip/wheels/4a/d0/57/f1330cb9c80e82d8d05391c74c94ed61ce3f03bf6157f3d6db\n",
            "Successfully built factor-analyzer\n",
            "Installing collected packages: factor-analyzer\n",
            "Successfully installed factor-analyzer-0.3.2\n"
          ],
          "name": "stdout"
        }
      ]
    },
    {
      "cell_type": "code",
      "metadata": {
        "id": "TEDukR1mQUxu"
      },
      "source": [
        "from factor_analyzer import FactorAnalyzer #เมื่อติดตั้งแล้วก็จะดึง มาใช้ได้ตามปกติ "
      ],
      "execution_count": 4,
      "outputs": []
    },
    {
      "cell_type": "markdown",
      "metadata": {
        "id": "GGyEWoreyaeL"
      },
      "source": [
        "การ .drop เช่น ```df.drop(['gender', 'education', 'age'],axis=1,inplace=True)``` โดย inplace คือการอัพเดตข้อมูลลงไปเลย  "
      ]
    },
    {
      "cell_type": "markdown",
      "metadata": {
        "id": "WtGBCj4lToKC"
      },
      "source": [
        "#Quiz 5 ตัดตารางโดยใช้ .iloc "
      ]
    },
    {
      "cell_type": "code",
      "metadata": {
        "colab": {
          "base_uri": "https://localhost:8080/",
          "height": 417
        },
        "id": "Mh3kehxZQ7xY",
        "outputId": "86bcaba0-e53f-4175-e72f-948265e53016"
      },
      "source": [
        "BFI_data_dropped = BFI_data.iloc[:,1:-3] #.iloc[:,1:26] \n",
        "BFI_data_dropped"
      ],
      "execution_count": 5,
      "outputs": [
        {
          "output_type": "execute_result",
          "data": {
            "text/html": [
              "<div>\n",
              "<style scoped>\n",
              "    .dataframe tbody tr th:only-of-type {\n",
              "        vertical-align: middle;\n",
              "    }\n",
              "\n",
              "    .dataframe tbody tr th {\n",
              "        vertical-align: top;\n",
              "    }\n",
              "\n",
              "    .dataframe thead th {\n",
              "        text-align: right;\n",
              "    }\n",
              "</style>\n",
              "<table border=\"1\" class=\"dataframe\">\n",
              "  <thead>\n",
              "    <tr style=\"text-align: right;\">\n",
              "      <th></th>\n",
              "      <th>A1</th>\n",
              "      <th>A2</th>\n",
              "      <th>A3</th>\n",
              "      <th>A4</th>\n",
              "      <th>A5</th>\n",
              "      <th>C1</th>\n",
              "      <th>C2</th>\n",
              "      <th>C3</th>\n",
              "      <th>C4</th>\n",
              "      <th>C5</th>\n",
              "      <th>E1</th>\n",
              "      <th>E2</th>\n",
              "      <th>E3</th>\n",
              "      <th>E4</th>\n",
              "      <th>E5</th>\n",
              "      <th>N1</th>\n",
              "      <th>N2</th>\n",
              "      <th>N3</th>\n",
              "      <th>N4</th>\n",
              "      <th>N5</th>\n",
              "      <th>O1</th>\n",
              "      <th>O2</th>\n",
              "      <th>O3</th>\n",
              "      <th>O4</th>\n",
              "      <th>O5</th>\n",
              "    </tr>\n",
              "  </thead>\n",
              "  <tbody>\n",
              "    <tr>\n",
              "      <th>0</th>\n",
              "      <td>2.0</td>\n",
              "      <td>4.0</td>\n",
              "      <td>3.0</td>\n",
              "      <td>4.0</td>\n",
              "      <td>4.0</td>\n",
              "      <td>2.0</td>\n",
              "      <td>3.0</td>\n",
              "      <td>3.0</td>\n",
              "      <td>4.0</td>\n",
              "      <td>4.0</td>\n",
              "      <td>3.0</td>\n",
              "      <td>3.0</td>\n",
              "      <td>3.0</td>\n",
              "      <td>4.0</td>\n",
              "      <td>4.0</td>\n",
              "      <td>3.0</td>\n",
              "      <td>4.0</td>\n",
              "      <td>2.0</td>\n",
              "      <td>2.0</td>\n",
              "      <td>3.0</td>\n",
              "      <td>3.0</td>\n",
              "      <td>6</td>\n",
              "      <td>3.0</td>\n",
              "      <td>4.0</td>\n",
              "      <td>3.0</td>\n",
              "    </tr>\n",
              "    <tr>\n",
              "      <th>1</th>\n",
              "      <td>2.0</td>\n",
              "      <td>4.0</td>\n",
              "      <td>5.0</td>\n",
              "      <td>2.0</td>\n",
              "      <td>5.0</td>\n",
              "      <td>5.0</td>\n",
              "      <td>4.0</td>\n",
              "      <td>4.0</td>\n",
              "      <td>3.0</td>\n",
              "      <td>4.0</td>\n",
              "      <td>1.0</td>\n",
              "      <td>1.0</td>\n",
              "      <td>6.0</td>\n",
              "      <td>4.0</td>\n",
              "      <td>3.0</td>\n",
              "      <td>3.0</td>\n",
              "      <td>3.0</td>\n",
              "      <td>3.0</td>\n",
              "      <td>5.0</td>\n",
              "      <td>5.0</td>\n",
              "      <td>4.0</td>\n",
              "      <td>2</td>\n",
              "      <td>4.0</td>\n",
              "      <td>3.0</td>\n",
              "      <td>3.0</td>\n",
              "    </tr>\n",
              "    <tr>\n",
              "      <th>2</th>\n",
              "      <td>5.0</td>\n",
              "      <td>4.0</td>\n",
              "      <td>5.0</td>\n",
              "      <td>4.0</td>\n",
              "      <td>4.0</td>\n",
              "      <td>4.0</td>\n",
              "      <td>5.0</td>\n",
              "      <td>4.0</td>\n",
              "      <td>2.0</td>\n",
              "      <td>5.0</td>\n",
              "      <td>2.0</td>\n",
              "      <td>4.0</td>\n",
              "      <td>4.0</td>\n",
              "      <td>4.0</td>\n",
              "      <td>5.0</td>\n",
              "      <td>4.0</td>\n",
              "      <td>5.0</td>\n",
              "      <td>4.0</td>\n",
              "      <td>2.0</td>\n",
              "      <td>3.0</td>\n",
              "      <td>4.0</td>\n",
              "      <td>2</td>\n",
              "      <td>5.0</td>\n",
              "      <td>5.0</td>\n",
              "      <td>2.0</td>\n",
              "    </tr>\n",
              "    <tr>\n",
              "      <th>3</th>\n",
              "      <td>4.0</td>\n",
              "      <td>4.0</td>\n",
              "      <td>6.0</td>\n",
              "      <td>5.0</td>\n",
              "      <td>5.0</td>\n",
              "      <td>4.0</td>\n",
              "      <td>4.0</td>\n",
              "      <td>3.0</td>\n",
              "      <td>5.0</td>\n",
              "      <td>5.0</td>\n",
              "      <td>5.0</td>\n",
              "      <td>3.0</td>\n",
              "      <td>4.0</td>\n",
              "      <td>4.0</td>\n",
              "      <td>4.0</td>\n",
              "      <td>2.0</td>\n",
              "      <td>5.0</td>\n",
              "      <td>2.0</td>\n",
              "      <td>4.0</td>\n",
              "      <td>1.0</td>\n",
              "      <td>3.0</td>\n",
              "      <td>3</td>\n",
              "      <td>4.0</td>\n",
              "      <td>3.0</td>\n",
              "      <td>5.0</td>\n",
              "    </tr>\n",
              "    <tr>\n",
              "      <th>4</th>\n",
              "      <td>2.0</td>\n",
              "      <td>3.0</td>\n",
              "      <td>3.0</td>\n",
              "      <td>4.0</td>\n",
              "      <td>5.0</td>\n",
              "      <td>4.0</td>\n",
              "      <td>4.0</td>\n",
              "      <td>5.0</td>\n",
              "      <td>3.0</td>\n",
              "      <td>2.0</td>\n",
              "      <td>2.0</td>\n",
              "      <td>2.0</td>\n",
              "      <td>5.0</td>\n",
              "      <td>4.0</td>\n",
              "      <td>5.0</td>\n",
              "      <td>2.0</td>\n",
              "      <td>3.0</td>\n",
              "      <td>4.0</td>\n",
              "      <td>4.0</td>\n",
              "      <td>3.0</td>\n",
              "      <td>3.0</td>\n",
              "      <td>3</td>\n",
              "      <td>4.0</td>\n",
              "      <td>3.0</td>\n",
              "      <td>3.0</td>\n",
              "    </tr>\n",
              "    <tr>\n",
              "      <th>...</th>\n",
              "      <td>...</td>\n",
              "      <td>...</td>\n",
              "      <td>...</td>\n",
              "      <td>...</td>\n",
              "      <td>...</td>\n",
              "      <td>...</td>\n",
              "      <td>...</td>\n",
              "      <td>...</td>\n",
              "      <td>...</td>\n",
              "      <td>...</td>\n",
              "      <td>...</td>\n",
              "      <td>...</td>\n",
              "      <td>...</td>\n",
              "      <td>...</td>\n",
              "      <td>...</td>\n",
              "      <td>...</td>\n",
              "      <td>...</td>\n",
              "      <td>...</td>\n",
              "      <td>...</td>\n",
              "      <td>...</td>\n",
              "      <td>...</td>\n",
              "      <td>...</td>\n",
              "      <td>...</td>\n",
              "      <td>...</td>\n",
              "      <td>...</td>\n",
              "    </tr>\n",
              "    <tr>\n",
              "      <th>2795</th>\n",
              "      <td>6.0</td>\n",
              "      <td>1.0</td>\n",
              "      <td>3.0</td>\n",
              "      <td>3.0</td>\n",
              "      <td>3.0</td>\n",
              "      <td>6.0</td>\n",
              "      <td>6.0</td>\n",
              "      <td>6.0</td>\n",
              "      <td>1.0</td>\n",
              "      <td>1.0</td>\n",
              "      <td>1.0</td>\n",
              "      <td>4.0</td>\n",
              "      <td>5.0</td>\n",
              "      <td>5.0</td>\n",
              "      <td>6.0</td>\n",
              "      <td>1.0</td>\n",
              "      <td>1.0</td>\n",
              "      <td>1.0</td>\n",
              "      <td>NaN</td>\n",
              "      <td>1.0</td>\n",
              "      <td>6.0</td>\n",
              "      <td>1</td>\n",
              "      <td>6.0</td>\n",
              "      <td>6.0</td>\n",
              "      <td>1.0</td>\n",
              "    </tr>\n",
              "    <tr>\n",
              "      <th>2796</th>\n",
              "      <td>2.0</td>\n",
              "      <td>4.0</td>\n",
              "      <td>4.0</td>\n",
              "      <td>3.0</td>\n",
              "      <td>5.0</td>\n",
              "      <td>2.0</td>\n",
              "      <td>3.0</td>\n",
              "      <td>4.0</td>\n",
              "      <td>4.0</td>\n",
              "      <td>3.0</td>\n",
              "      <td>2.0</td>\n",
              "      <td>2.0</td>\n",
              "      <td>4.0</td>\n",
              "      <td>4.0</td>\n",
              "      <td>3.0</td>\n",
              "      <td>NaN</td>\n",
              "      <td>3.0</td>\n",
              "      <td>2.0</td>\n",
              "      <td>3.0</td>\n",
              "      <td>3.0</td>\n",
              "      <td>6.0</td>\n",
              "      <td>3</td>\n",
              "      <td>5.0</td>\n",
              "      <td>4.0</td>\n",
              "      <td>2.0</td>\n",
              "    </tr>\n",
              "    <tr>\n",
              "      <th>2797</th>\n",
              "      <td>2.0</td>\n",
              "      <td>3.0</td>\n",
              "      <td>5.0</td>\n",
              "      <td>2.0</td>\n",
              "      <td>5.0</td>\n",
              "      <td>5.0</td>\n",
              "      <td>5.0</td>\n",
              "      <td>5.0</td>\n",
              "      <td>1.0</td>\n",
              "      <td>1.0</td>\n",
              "      <td>2.0</td>\n",
              "      <td>2.0</td>\n",
              "      <td>6.0</td>\n",
              "      <td>3.0</td>\n",
              "      <td>6.0</td>\n",
              "      <td>3.0</td>\n",
              "      <td>4.0</td>\n",
              "      <td>3.0</td>\n",
              "      <td>3.0</td>\n",
              "      <td>1.0</td>\n",
              "      <td>5.0</td>\n",
              "      <td>1</td>\n",
              "      <td>6.0</td>\n",
              "      <td>4.0</td>\n",
              "      <td>3.0</td>\n",
              "    </tr>\n",
              "    <tr>\n",
              "      <th>2798</th>\n",
              "      <td>5.0</td>\n",
              "      <td>2.0</td>\n",
              "      <td>2.0</td>\n",
              "      <td>4.0</td>\n",
              "      <td>4.0</td>\n",
              "      <td>5.0</td>\n",
              "      <td>5.0</td>\n",
              "      <td>5.0</td>\n",
              "      <td>2.0</td>\n",
              "      <td>6.0</td>\n",
              "      <td>2.0</td>\n",
              "      <td>2.0</td>\n",
              "      <td>4.0</td>\n",
              "      <td>5.0</td>\n",
              "      <td>4.0</td>\n",
              "      <td>5.0</td>\n",
              "      <td>5.0</td>\n",
              "      <td>6.0</td>\n",
              "      <td>4.0</td>\n",
              "      <td>1.0</td>\n",
              "      <td>5.0</td>\n",
              "      <td>2</td>\n",
              "      <td>5.0</td>\n",
              "      <td>5.0</td>\n",
              "      <td>1.0</td>\n",
              "    </tr>\n",
              "    <tr>\n",
              "      <th>2799</th>\n",
              "      <td>2.0</td>\n",
              "      <td>3.0</td>\n",
              "      <td>1.0</td>\n",
              "      <td>4.0</td>\n",
              "      <td>2.0</td>\n",
              "      <td>5.0</td>\n",
              "      <td>5.0</td>\n",
              "      <td>3.0</td>\n",
              "      <td>3.0</td>\n",
              "      <td>3.0</td>\n",
              "      <td>3.0</td>\n",
              "      <td>3.0</td>\n",
              "      <td>1.0</td>\n",
              "      <td>2.0</td>\n",
              "      <td>2.0</td>\n",
              "      <td>1.0</td>\n",
              "      <td>2.0</td>\n",
              "      <td>2.0</td>\n",
              "      <td>1.0</td>\n",
              "      <td>1.0</td>\n",
              "      <td>3.0</td>\n",
              "      <td>1</td>\n",
              "      <td>3.0</td>\n",
              "      <td>5.0</td>\n",
              "      <td>1.0</td>\n",
              "    </tr>\n",
              "  </tbody>\n",
              "</table>\n",
              "<p>2800 rows × 25 columns</p>\n",
              "</div>"
            ],
            "text/plain": [
              "       A1   A2   A3   A4   A5   C1   C2  ...   N4   N5   O1  O2   O3   O4   O5\n",
              "0     2.0  4.0  3.0  4.0  4.0  2.0  3.0  ...  2.0  3.0  3.0   6  3.0  4.0  3.0\n",
              "1     2.0  4.0  5.0  2.0  5.0  5.0  4.0  ...  5.0  5.0  4.0   2  4.0  3.0  3.0\n",
              "2     5.0  4.0  5.0  4.0  4.0  4.0  5.0  ...  2.0  3.0  4.0   2  5.0  5.0  2.0\n",
              "3     4.0  4.0  6.0  5.0  5.0  4.0  4.0  ...  4.0  1.0  3.0   3  4.0  3.0  5.0\n",
              "4     2.0  3.0  3.0  4.0  5.0  4.0  4.0  ...  4.0  3.0  3.0   3  4.0  3.0  3.0\n",
              "...   ...  ...  ...  ...  ...  ...  ...  ...  ...  ...  ...  ..  ...  ...  ...\n",
              "2795  6.0  1.0  3.0  3.0  3.0  6.0  6.0  ...  NaN  1.0  6.0   1  6.0  6.0  1.0\n",
              "2796  2.0  4.0  4.0  3.0  5.0  2.0  3.0  ...  3.0  3.0  6.0   3  5.0  4.0  2.0\n",
              "2797  2.0  3.0  5.0  2.0  5.0  5.0  5.0  ...  3.0  1.0  5.0   1  6.0  4.0  3.0\n",
              "2798  5.0  2.0  2.0  4.0  4.0  5.0  5.0  ...  4.0  1.0  5.0   2  5.0  5.0  1.0\n",
              "2799  2.0  3.0  1.0  4.0  2.0  5.0  5.0  ...  1.0  1.0  3.0   1  3.0  5.0  1.0\n",
              "\n",
              "[2800 rows x 25 columns]"
            ]
          },
          "metadata": {
            "tags": []
          },
          "execution_count": 5
        }
      ]
    },
    {
      "cell_type": "markdown",
      "metadata": {
        "id": "aqBWN99szSmd"
      },
      "source": [
        "1.   there are no outliers in data : ต้องไม่มี outliers เพื่อจะให้ค่าไม่ผิดเพี้ยนไป\n",
        "\n",
        "เราจึงต้องเอาค่าว่างออกไป โดยการใช้ .dropna()"
      ]
    },
    {
      "cell_type": "code",
      "metadata": {
        "id": "yc0F6dD4zTp3"
      },
      "source": [
        "BFI_data_dropped2 = BFI_data_dropped.dropna()"
      ],
      "execution_count": 6,
      "outputs": []
    },
    {
      "cell_type": "code",
      "metadata": {
        "id": "ahQ5uD8Z0S5_",
        "colab": {
          "base_uri": "https://localhost:8080/"
        },
        "outputId": "a08f0a6e-1468-40cc-a480-f239c636aedb"
      },
      "source": [
        "BFI_data_dropped.shape"
      ],
      "execution_count": 7,
      "outputs": [
        {
          "output_type": "execute_result",
          "data": {
            "text/plain": [
              "(2800, 25)"
            ]
          },
          "metadata": {
            "tags": []
          },
          "execution_count": 7
        }
      ]
    },
    {
      "cell_type": "code",
      "metadata": {
        "id": "WYfCIHvl0hiz",
        "colab": {
          "base_uri": "https://localhost:8080/"
        },
        "outputId": "9f4e78ff-0a41-45d1-d65d-5d21ab1ae4f1"
      },
      "source": [
        "BFI_data_dropped2.shape"
      ],
      "execution_count": 8,
      "outputs": [
        {
          "output_type": "execute_result",
          "data": {
            "text/plain": [
              "(2436, 25)"
            ]
          },
          "metadata": {
            "tags": []
          },
          "execution_count": 8
        }
      ]
    },
    {
      "cell_type": "markdown",
      "metadata": {
        "id": "HFtAOTwk2kXH"
      },
      "source": [
        "3.   There should not be prefact multicollonearity : เช่น การหา correlation จะได้เท่ากับ 1 หรือ plot กราฟจะได้เป็นเส้นตรง ต้องไม่มีค่าแบบนี้"
      ]
    },
    {
      "cell_type": "markdown",
      "metadata": {
        "id": "-FkNeQ7E1Ox1"
      },
      "source": [
        "##Bartlett’s test\n",
        "\n",
        "pacget ที่เกี่ยวกับตัวสถิติ เพื่อให้ง่ายต่อการคำนวณ"
      ]
    },
    {
      "cell_type": "code",
      "metadata": {
        "id": "LEy3bHnH0WWb"
      },
      "source": [
        "from factor_analyzer.factor_analyzer import calculate_bartlett_sphericity #import fuction calculate_bartlett_sphericity เพื่อนำมาใช้ "
      ],
      "execution_count": 9,
      "outputs": []
    },
    {
      "cell_type": "markdown",
      "metadata": {
        "id": "rokudecm176V"
      },
      "source": [
        "เราสามารถดูได้ว่า ถ้า p-value เท่ากับ 0 แสดงว่า data ที่เรามีไม่มี prefact multicollonearity"
      ]
    },
    {
      "cell_type": "code",
      "metadata": {
        "id": "6wtc5Suw1rAD",
        "colab": {
          "base_uri": "https://localhost:8080/"
        },
        "outputId": "b75570a4-734d-42a6-f15e-3ee6b7386099"
      },
      "source": [
        "chi_square_value,p_value=calculate_bartlett_sphericity(BFI_data_dropped2)\n",
        "chi_square_value, p_value #จะบอกค่าว่ามี chi_square เท่าไหร่ p_value"
      ],
      "execution_count": 10,
      "outputs": [
        {
          "output_type": "execute_result",
          "data": {
            "text/plain": [
              "(18170.966350869243, 0.0)"
            ]
          },
          "metadata": {
            "tags": []
          },
          "execution_count": 10
        }
      ]
    },
    {
      "cell_type": "markdown",
      "metadata": {
        "id": "o0bnqQB026fi"
      },
      "source": [
        "4.   There should not be homoscedasticity : เช่น ตัวข้อมูลที่มีการกระจายคล้ายๆกัน เป็นกลุ่มที่อยู่ใกล้ๆกัน ความ error ของข้อมูลอยู่ในกรอบเดียวกัน ต้องไม่มีค่าแบบนี้"
      ]
    },
    {
      "cell_type": "markdown",
      "metadata": {
        "id": "2nOdvHmv2w6S"
      },
      "source": [
        "##Kaiser-Meyer-Olkin (KMO) Test\n",
        "\n"
      ]
    },
    {
      "cell_type": "code",
      "metadata": {
        "id": "f4krk8cp28Wq"
      },
      "source": [
        "from factor_analyzer.factor_analyzer import calculate_kmo"
      ],
      "execution_count": 11,
      "outputs": []
    },
    {
      "cell_type": "markdown",
      "metadata": {
        "id": "eF3O-qWq3Ezq"
      },
      "source": [
        "โดยเมื่อเรารันค่า KMO แล้วมีค่าน้อยกว่า 6 แสดงว่าเราไม่สามารถใช้ข้อมูลนี้ได้  และมีค่าสูง ยิ่งดี "
      ]
    },
    {
      "cell_type": "code",
      "metadata": {
        "id": "iW_88o3j2-eK"
      },
      "source": [
        "kmo_all,kmo_model=calculate_kmo(BFI_data_dropped2)"
      ],
      "execution_count": 12,
      "outputs": []
    },
    {
      "cell_type": "code",
      "metadata": {
        "id": "cV63IIW83CqD",
        "colab": {
          "base_uri": "https://localhost:8080/"
        },
        "outputId": "32f7c653-ba98-4b63-dbfd-b54c3350598f"
      },
      "source": [
        "kmo_model"
      ],
      "execution_count": 13,
      "outputs": [
        {
          "output_type": "execute_result",
          "data": {
            "text/plain": [
              "0.8485397221949221"
            ]
          },
          "metadata": {
            "tags": []
          },
          "execution_count": 13
        }
      ]
    },
    {
      "cell_type": "markdown",
      "metadata": {
        "id": "HbPUxM-w3h3R"
      },
      "source": [
        "#Start Factors analysis\n",
        "\n",
        "Choosing the Number of Factors "
      ]
    },
    {
      "cell_type": "markdown",
      "metadata": {
        "id": "972q_qmb6m8o"
      },
      "source": [
        "Import"
      ]
    },
    {
      "cell_type": "code",
      "metadata": {
        "id": "qPXHksfm6fuq"
      },
      "source": [
        "from factor_analyzer import FactorAnalyzer"
      ],
      "execution_count": 14,
      "outputs": []
    },
    {
      "cell_type": "markdown",
      "metadata": {
        "id": "OrmC_XRu6oqu"
      },
      "source": [
        "Define "
      ]
    },
    {
      "cell_type": "code",
      "metadata": {
        "id": "NMbLqKOJ3P__"
      },
      "source": [
        "fa = FactorAnalyzer(n_factors=20)"
      ],
      "execution_count": 15,
      "outputs": []
    },
    {
      "cell_type": "code",
      "metadata": {
        "id": "yqJ7SpU48nwe"
      },
      "source": [
        "data_fa = fa.fit_transform(BFI_data_dropped2)\n",
        "#fit คำนวนพารามิเตอร์ \n",
        "#tranfrom เป็นการนำ data ที่คำนวณมาแล้วเข้าไปใส่ในแกนที่ถูกเปลี่ยน"
      ],
      "execution_count": 16,
      "outputs": []
    },
    {
      "cell_type": "code",
      "metadata": {
        "id": "gE4sP__v9Jx_",
        "colab": {
          "base_uri": "https://localhost:8080/"
        },
        "outputId": "9b714dd6-748a-4d6e-9a1f-3959b7a7f9ba"
      },
      "source": [
        "data_fa.shape"
      ],
      "execution_count": 17,
      "outputs": [
        {
          "output_type": "execute_result",
          "data": {
            "text/plain": [
              "(2436, 20)"
            ]
          },
          "metadata": {
            "tags": []
          },
          "execution_count": 17
        }
      ]
    },
    {
      "cell_type": "code",
      "metadata": {
        "id": "ZLFbXu-H9M_H"
      },
      "source": [
        "ev,v = fa.get_eigenvalues() #คำนวณหา eigenvalues เพื่อนำไป plot ในกราฟ Scree plot "
      ],
      "execution_count": 18,
      "outputs": []
    },
    {
      "cell_type": "markdown",
      "metadata": {
        "id": "abv3Z7jV-wEE"
      },
      "source": [
        "วิธีตัดสินว่าเราจะลดเหลือกี่ Dimention (มี factors ทั้งหมดกี่ตัว)"
      ]
    },
    {
      "cell_type": "code",
      "metadata": {
        "id": "9ewAjTVU-PNL",
        "colab": {
          "base_uri": "https://localhost:8080/"
        },
        "outputId": "a6ce7ca5-8287-4688-f722-e337981394aa"
      },
      "source": [
        "ev "
      ],
      "execution_count": 19,
      "outputs": [
        {
          "output_type": "execute_result",
          "data": {
            "text/plain": [
              "array([5.13431118, 2.75188667, 2.14270195, 1.85232761, 1.54816285,\n",
              "       1.07358247, 0.83953893, 0.79920618, 0.71898919, 0.68808879,\n",
              "       0.67637336, 0.65179984, 0.62325295, 0.59656284, 0.56309083,\n",
              "       0.54330533, 0.51451752, 0.49450315, 0.48263952, 0.448921  ,\n",
              "       0.42336611, 0.40067145, 0.38780448, 0.38185679, 0.26253902])"
            ]
          },
          "metadata": {
            "tags": []
          },
          "execution_count": 19
        }
      ]
    },
    {
      "cell_type": "markdown",
      "metadata": {
        "id": "hFjG1sWP_hT1"
      },
      "source": [
        "Scree plot เป็นกราฟที่บอกว่า factor แต่ละตัวมี eigenvalues อยู่เท่าไหร่ \n",
        "\n",
        "โดยการทำ Scree plot เพื่อมาดู factor ที่มากว่า 1 แล้วจะนำ factor นั้นมาใช้ "
      ]
    },
    {
      "cell_type": "code",
      "metadata": {
        "id": "B2vl-boeAGUE",
        "colab": {
          "base_uri": "https://localhost:8080/",
          "height": 295
        },
        "outputId": "5ec0acfb-ef42-4c3d-c806-98a7a3144f8d"
      },
      "source": [
        "# Create scree plot using matplotlib\n",
        "plt.plot(range(1,BFI_data_dropped2.shape[1]+1),ev,'bo-')\n",
        "plt.plot([0,BFI_data_dropped2.shape[1]+1],[1,1],'r--')\n",
        "plt.title('Scree Plot')\n",
        "plt.xlabel('Factors')\n",
        "plt.ylabel('Eigenvalue')\n",
        "plt.grid()\n",
        "plt.show()"
      ],
      "execution_count": 20,
      "outputs": [
        {
          "output_type": "display_data",
          "data": {
            "image/png": "[encoded data removed]",
            "text/plain": [
              "<Figure size 432x288 with 1 Axes>"
            ]
          },
          "metadata": {
            "tags": [],
            "needs_background": "light"
          }
        }
      ]
    },
    {
      "cell_type": "code",
      "metadata": {
        "id": "VBB3Ft2LAvLE",
        "colab": {
          "base_uri": "https://localhost:8080/"
        },
        "outputId": "f98254ca-21a6-40af-d08f-eb616a50800d"
      },
      "source": [
        "data_fa[:,:6] #ที่เป็น 6 ตัวเพราะ ตัวที่ 1-6 มีค่ามากกว่า 1 "
      ],
      "execution_count": 21,
      "outputs": [
        {
          "output_type": "execute_result",
          "data": {
            "text/plain": [
              "array([[-0.89749661, -0.12809666, -1.22649076,  1.08665889,  0.42476701,\n",
              "         0.03981611],\n",
              "       [ 0.33679356, -0.15018138, -0.04332274, -0.10339328,  0.29665648,\n",
              "        -1.11019718],\n",
              "       [-0.24521029,  0.80409961,  0.39343377, -0.30106518,  0.82703928,\n",
              "        -0.2982022 ],\n",
              "       ...,\n",
              "       [ 0.38724631, -0.02183587,  1.19616826, -1.19357208,  0.79669501,\n",
              "        -0.95295109],\n",
              "       [-0.75695976,  0.94984758,  1.24363484, -1.15230215,  2.2534133 ,\n",
              "        -1.0218667 ],\n",
              "       [-2.35583952, -1.49829856,  0.49436981, -1.64734311,  0.94742323,\n",
              "         0.43462495]])"
            ]
          },
          "metadata": {
            "tags": []
          },
          "execution_count": 21
        }
      ]
    },
    {
      "cell_type": "markdown",
      "metadata": {
        "id": "k4Chnj5uCo4w"
      },
      "source": [
        "##Factor Loading "
      ]
    },
    {
      "cell_type": "code",
      "metadata": {
        "id": "xnmp54EMCX1N",
        "colab": {
          "base_uri": "https://localhost:8080/"
        },
        "outputId": "d4b0e330-de08-450a-88e5-3e5bc5518b04"
      },
      "source": [
        "fa.loadings_.shape\n",
        "\n",
        "#เป็นการบอกว่ามีกี่ตัวแปร แล้วดูตัวแปรไหนมีอิทธิพลบ้าง"
      ],
      "execution_count": 22,
      "outputs": [
        {
          "output_type": "execute_result",
          "data": {
            "text/plain": [
              "(25, 20)"
            ]
          },
          "metadata": {
            "tags": []
          },
          "execution_count": 22
        }
      ]
    },
    {
      "cell_type": "markdown",
      "metadata": {
        "id": "dLbR1y6HZvke"
      },
      "source": [
        "รัน Factor Analysis อีกรอบด้วย paremeters เท่ากับ 6 (โดยไม่เอาจำนวน paremeters เยอะเหมือนตอนแรกแล้ว)"
      ]
    },
    {
      "cell_type": "code",
      "metadata": {
        "id": "ggE5Mr8EaBuH"
      },
      "source": [
        "from factor_analyzer import FactorAnalyzer\n",
        "fa2 = FactorAnalyzer(n_factors=6)\n",
        "data_fa2 = fa2.fit_transform(BFI_data_dropped2) "
      ],
      "execution_count": 26,
      "outputs": []
    },
    {
      "cell_type": "markdown",
      "metadata": {
        "id": "98OCiLPnePkj"
      },
      "source": [
        "จากรูป คือการหา factor analysis เป็นการหาตัวแปรที่ซ่อนอยู่ในชุดข้อมูลที่สามารถอธิบายค่าผิดปกติของข้อมูลได้ (ที่เราสังเกต)\n",
        "\n",
        "เช่น ค่าติดลบในชุดข้อมูลนี้ ในแถว E1 เป็นค่าที่เราสังเกตได้ เราจึงหาตัวแปร \n",
        "\n",
        "![image.png](data:image/png;base64,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)"
      ]
    },
    {
      "cell_type": "markdown",
      "metadata": {
        "id": "HR8xxOTAcI37"
      },
      "source": [
        "ทำการ Plot factor loadings"
      ]
    },
    {
      "cell_type": "code",
      "metadata": {
        "id": "9rB_KqKxcGKL"
      },
      "source": [
        "from matplotlib import pyplot as plt\n",
        "import numpy as np\n",
        "import matplotlib"
      ],
      "execution_count": 27,
      "outputs": []
    },
    {
      "cell_type": "markdown",
      "metadata": {
        "id": "6fHlIKZCcNMh"
      },
      "source": [
        "###matrix plot\n",
        "confirmatory สามารถทำได้ดีเมื่อเรารู้ว่าตัวแปรไหนอยู่ในกลุ่มเดียวกันบ้าง "
      ]
    },
    {
      "cell_type": "code",
      "metadata": {
        "id": "KY7pR4KjcL1X",
        "outputId": "9ce8781a-262e-4f3e-dffa-8ad68ed2aefb",
        "colab": {
          "base_uri": "https://localhost:8080/",
          "height": 880
        }
      },
      "source": [
        "matplotlib.rcParams['figure.figsize']=[15,15]\n",
        "plt.imshow(np.absolute(fa2.loadings_))\n",
        "\n",
        "#กราฟนี้จะบอกว่า ค่าที่มีค่ามาก สีในกราฟก็จะสว่าง \n",
        "#โดยแกน y คือ factor ที่อธิบายค่าตัวที่ 1 ,2 ,3 ,... ไปเรื่อยๆ\n",
        "#โดนแกน x คือ ข้อมูลตัวที่ 1 ,2 ,3 ,... ไปเรื่อยๆ\n",
        "#ส่วนค่าในช่วงที่เป้นสีคือค่าของ factor loading "
      ],
      "execution_count": 28,
      "outputs": [
        {
          "output_type": "execute_result",
          "data": {
            "text/plain": [
              "<matplotlib.image.AxesImage at 0x7ff78a9da8d0>"
            ]
          },
          "metadata": {
            "tags": []
          },
          "execution_count": 28
        },
        {
          "output_type": "display_data",
          "data": {
            "image/png": "[encoded data removed]",
            "text/plain": [
              "<Figure size 1080x1080 with 1 Axes>"
            ]
          },
          "metadata": {
            "tags": [],
            "needs_background": "light"
          }
        }
      ]
    },
    {
      "cell_type": "markdown",
      "metadata": {
        "id": "33_7jph3cTUl"
      },
      "source": [
        "###Bar plot กราฟแท่ง\n",
        "Exploratory สามารถทำได้ดีในตอนที่เราไม่รู้ว่าตัวแปรใดอยู่ในกลุ่มเดียวกันบ้าง "
      ]
    },
    {
      "cell_type": "code",
      "metadata": {
        "id": "Q-3kVjXdcR7R",
        "outputId": "7988d2b4-10fd-4db4-96eb-b9126cbcdfee",
        "colab": {
          "base_uri": "https://localhost:8080/"
        }
      },
      "source": [
        "BFI_data_dropped2.columns #เรียกดู columns ก่อน "
      ],
      "execution_count": 29,
      "outputs": [
        {
          "output_type": "execute_result",
          "data": {
            "text/plain": [
              "Index(['A1', 'A2', 'A3', 'A4', 'A5', 'C1', 'C2', 'C3', 'C4', 'C5', 'E1', 'E2',\n",
              "       'E3', 'E4', 'E5', 'N1', 'N2', 'N3', 'N4', 'N5', 'O1', 'O2', 'O3', 'O4',\n",
              "       'O5'],\n",
              "      dtype='object')"
            ]
          },
          "metadata": {
            "tags": []
          },
          "execution_count": 29
        }
      ]
    },
    {
      "cell_type": "markdown",
      "metadata": {
        "id": "FFCy8XTnkjK1"
      },
      "source": [
        "เราเลือกมา 1 factor เพื่อนำค่าในกราฟข้างบนมา plot เป็น Bar เพื่อให้ดูค่าง่ายขึ้น "
      ]
    },
    {
      "cell_type": "code",
      "metadata": {
        "id": "Gk-nVfuRcc2w",
        "outputId": "40853fe1-3c3f-4c3d-dfdf-71df5b75bc41",
        "colab": {
          "base_uri": "https://localhost:8080/",
          "height": 880
        }
      },
      "source": [
        "matplotlib.rcParams['figure.figsize']=[15,15]\n",
        "plt.bar(range(25),np.absolute(fa2.loadings_[:,0]),tick_label=BFI_data_dropped2.columns) \n",
        "#range(25) ค่าของข้อมูลทั้งหมด 25 ตัว \n",
        "#เป็นการเอา columns แรกในทุกๆแถว นั้นก็คือ .loadings_[:,0] นั้นคือ factor 1 "
      ],
      "execution_count": 66,
      "outputs": [
        {
          "output_type": "execute_result",
          "data": {
            "text/plain": [
              "<BarContainer object of 25 artists>"
            ]
          },
          "metadata": {
            "tags": []
          },
          "execution_count": 66
        },
        {
          "output_type": "display_data",
          "data": {
            "image/png": "[encoded data removed]",
            "text/plain": [
              "<Figure size 1080x1080 with 1 Axes>"
            ]
          },
          "metadata": {
            "tags": [],
            "needs_background": "light"
          }
        }
      ]
    },
    {
      "cell_type": "markdown",
      "metadata": {
        "id": "aUz8k5oJcf6a"
      },
      "source": [
        "#Exam 3\n",
        "\n",
        "ทำ Factor Analysis ข้อมูล Fifa 2018 \n",
        "https://drive.google.com/file/d/1UORRKWMb8GCN455eJE_n9MvBHupnSVwv/view?usp=sharing"
      ]
    },
    {
      "cell_type": "markdown",
      "metadata": {
        "id": "0ctRz3OdmTeE"
      },
      "source": [
        "อันดับแรกเมื่อเรียกข้อมูลมาแล้ว ทำการตัดตาราง ให้เหบือเพียงตัวเลขที่ต้องการใช้งาน \n",
        "\n",
        "ตัวเลือก \n",
        "  1. นำค่าไปทำ PCA เพื่อดูว่าเราจะหาความสัมพันธ์ของตัวแปรต่างๆ ว่าจะจับกลุ่มกันตามที่เราคิดหรือเปล่า \n",
        "  2. หรือเราจะเอามาทำ Factor Analysis เพื่อดูว่าตัวแปรในอธิบายค่าใดได้บ้าง \n"
      ]
    },
    {
      "cell_type": "code",
      "metadata": {
        "id": "Z0XOC2XAcmJ4",
        "outputId": "845acecd-abdc-4685-803f-a9f574b747a9",
        "colab": {
          "base_uri": "https://localhost:8080/",
          "height": 445
        }
      },
      "source": [
        "FIFA = pd.read_csv('FIFA_2018.csv')\n",
        "FIFA.head()"
      ],
      "execution_count": 31,
      "outputs": [
        {
          "output_type": "execute_result",
          "data": {
            "text/html": [
              "<div>\n",
              "<style scoped>\n",
              "    .dataframe tbody tr th:only-of-type {\n",
              "        vertical-align: middle;\n",
              "    }\n",
              "\n",
              "    .dataframe tbody tr th {\n",
              "        vertical-align: top;\n",
              "    }\n",
              "\n",
              "    .dataframe thead th {\n",
              "        text-align: right;\n",
              "    }\n",
              "</style>\n",
              "<table border=\"1\" class=\"dataframe\">\n",
              "  <thead>\n",
              "    <tr style=\"text-align: right;\">\n",
              "      <th></th>\n",
              "      <th>Date</th>\n",
              "      <th>Team</th>\n",
              "      <th>Opponent</th>\n",
              "      <th>Goal Scored</th>\n",
              "      <th>Ball Possession %</th>\n",
              "      <th>Attempts</th>\n",
              "      <th>On-Target</th>\n",
              "      <th>Off-Target</th>\n",
              "      <th>Blocked</th>\n",
              "      <th>Corners</th>\n",
              "      <th>Offsides</th>\n",
              "      <th>Free Kicks</th>\n",
              "      <th>Saves</th>\n",
              "      <th>Pass Accuracy %</th>\n",
              "      <th>Passes</th>\n",
              "      <th>Distance Covered (Kms)</th>\n",
              "      <th>Fouls Committed</th>\n",
              "      <th>Yellow Card</th>\n",
              "      <th>Yellow &amp; Red</th>\n",
              "      <th>Red</th>\n",
              "      <th>Man of the Match</th>\n",
              "      <th>1st Goal</th>\n",
              "      <th>Round</th>\n",
              "      <th>PSO</th>\n",
              "      <th>Goals in PSO</th>\n",
              "      <th>Own goals</th>\n",
              "      <th>Own goal Time</th>\n",
              "    </tr>\n",
              "  </thead>\n",
              "  <tbody>\n",
              "    <tr>\n",
              "      <th>0</th>\n",
              "      <td>14-06-2018</td>\n",
              "      <td>Russia</td>\n",
              "      <td>Saudi Arabia</td>\n",
              "      <td>5</td>\n",
              "      <td>40</td>\n",
              "      <td>13</td>\n",
              "      <td>7</td>\n",
              "      <td>3</td>\n",
              "      <td>3</td>\n",
              "      <td>6</td>\n",
              "      <td>3</td>\n",
              "      <td>11</td>\n",
              "      <td>0</td>\n",
              "      <td>78</td>\n",
              "      <td>306</td>\n",
              "      <td>118</td>\n",
              "      <td>22</td>\n",
              "      <td>0</td>\n",
              "      <td>0</td>\n",
              "      <td>0</td>\n",
              "      <td>Yes</td>\n",
              "      <td>12.0</td>\n",
              "      <td>Group Stage</td>\n",
              "      <td>No</td>\n",
              "      <td>0</td>\n",
              "      <td>NaN</td>\n",
              "      <td>NaN</td>\n",
              "    </tr>\n",
              "    <tr>\n",
              "      <th>1</th>\n",
              "      <td>14-06-2018</td>\n",
              "      <td>Saudi Arabia</td>\n",
              "      <td>Russia</td>\n",
              "      <td>0</td>\n",
              "      <td>60</td>\n",
              "      <td>6</td>\n",
              "      <td>0</td>\n",
              "      <td>3</td>\n",
              "      <td>3</td>\n",
              "      <td>2</td>\n",
              "      <td>1</td>\n",
              "      <td>25</td>\n",
              "      <td>2</td>\n",
              "      <td>86</td>\n",
              "      <td>511</td>\n",
              "      <td>105</td>\n",
              "      <td>10</td>\n",
              "      <td>0</td>\n",
              "      <td>0</td>\n",
              "      <td>0</td>\n",
              "      <td>No</td>\n",
              "      <td>NaN</td>\n",
              "      <td>Group Stage</td>\n",
              "      <td>No</td>\n",
              "      <td>0</td>\n",
              "      <td>NaN</td>\n",
              "      <td>NaN</td>\n",
              "    </tr>\n",
              "    <tr>\n",
              "      <th>2</th>\n",
              "      <td>15-06-2018</td>\n",
              "      <td>Egypt</td>\n",
              "      <td>Uruguay</td>\n",
              "      <td>0</td>\n",
              "      <td>43</td>\n",
              "      <td>8</td>\n",
              "      <td>3</td>\n",
              "      <td>3</td>\n",
              "      <td>2</td>\n",
              "      <td>0</td>\n",
              "      <td>1</td>\n",
              "      <td>7</td>\n",
              "      <td>3</td>\n",
              "      <td>78</td>\n",
              "      <td>395</td>\n",
              "      <td>112</td>\n",
              "      <td>12</td>\n",
              "      <td>2</td>\n",
              "      <td>0</td>\n",
              "      <td>0</td>\n",
              "      <td>No</td>\n",
              "      <td>NaN</td>\n",
              "      <td>Group Stage</td>\n",
              "      <td>No</td>\n",
              "      <td>0</td>\n",
              "      <td>NaN</td>\n",
              "      <td>NaN</td>\n",
              "    </tr>\n",
              "    <tr>\n",
              "      <th>3</th>\n",
              "      <td>15-06-2018</td>\n",
              "      <td>Uruguay</td>\n",
              "      <td>Egypt</td>\n",
              "      <td>1</td>\n",
              "      <td>57</td>\n",
              "      <td>14</td>\n",
              "      <td>4</td>\n",
              "      <td>6</td>\n",
              "      <td>4</td>\n",
              "      <td>5</td>\n",
              "      <td>1</td>\n",
              "      <td>13</td>\n",
              "      <td>3</td>\n",
              "      <td>86</td>\n",
              "      <td>589</td>\n",
              "      <td>111</td>\n",
              "      <td>6</td>\n",
              "      <td>0</td>\n",
              "      <td>0</td>\n",
              "      <td>0</td>\n",
              "      <td>Yes</td>\n",
              "      <td>89.0</td>\n",
              "      <td>Group Stage</td>\n",
              "      <td>No</td>\n",
              "      <td>0</td>\n",
              "      <td>NaN</td>\n",
              "      <td>NaN</td>\n",
              "    </tr>\n",
              "    <tr>\n",
              "      <th>4</th>\n",
              "      <td>15-06-2018</td>\n",
              "      <td>Morocco</td>\n",
              "      <td>Iran</td>\n",
              "      <td>0</td>\n",
              "      <td>64</td>\n",
              "      <td>13</td>\n",
              "      <td>3</td>\n",
              "      <td>6</td>\n",
              "      <td>4</td>\n",
              "      <td>5</td>\n",
              "      <td>0</td>\n",
              "      <td>14</td>\n",
              "      <td>2</td>\n",
              "      <td>86</td>\n",
              "      <td>433</td>\n",
              "      <td>101</td>\n",
              "      <td>22</td>\n",
              "      <td>1</td>\n",
              "      <td>0</td>\n",
              "      <td>0</td>\n",
              "      <td>No</td>\n",
              "      <td>NaN</td>\n",
              "      <td>Group Stage</td>\n",
              "      <td>No</td>\n",
              "      <td>0</td>\n",
              "      <td>1.0</td>\n",
              "      <td>90.0</td>\n",
              "    </tr>\n",
              "  </tbody>\n",
              "</table>\n",
              "</div>"
            ],
            "text/plain": [
              "         Date          Team  ... Own goals  Own goal Time\n",
              "0  14-06-2018        Russia  ...       NaN            NaN\n",
              "1  14-06-2018  Saudi Arabia  ...       NaN            NaN\n",
              "2  15-06-2018         Egypt  ...       NaN            NaN\n",
              "3  15-06-2018       Uruguay  ...       NaN            NaN\n",
              "4  15-06-2018       Morocco  ...       1.0           90.0\n",
              "\n",
              "[5 rows x 27 columns]"
            ]
          },
          "metadata": {
            "tags": []
          },
          "execution_count": 31
        }
      ]
    },
    {
      "cell_type": "code",
      "metadata": {
        "id": "U4A9UHa7nYS4",
        "outputId": "9bab8852-c0a4-40cb-abe8-aa5244f664f6",
        "colab": {
          "base_uri": "https://localhost:8080/",
          "height": 257
        }
      },
      "source": [
        "#ตัดตารางเอาเฉพาะ ตัวเลขค่า score ต่างๆที่ต้องการใช้งาน \n",
        "FIFA_data = FIFA.iloc[:,3:-7]\n",
        "FIFA_data.head()"
      ],
      "execution_count": 33,
      "outputs": [
        {
          "output_type": "execute_result",
          "data": {
            "text/html": [
              "<div>\n",
              "<style scoped>\n",
              "    .dataframe tbody tr th:only-of-type {\n",
              "        vertical-align: middle;\n",
              "    }\n",
              "\n",
              "    .dataframe tbody tr th {\n",
              "        vertical-align: top;\n",
              "    }\n",
              "\n",
              "    .dataframe thead th {\n",
              "        text-align: right;\n",
              "    }\n",
              "</style>\n",
              "<table border=\"1\" class=\"dataframe\">\n",
              "  <thead>\n",
              "    <tr style=\"text-align: right;\">\n",
              "      <th></th>\n",
              "      <th>Goal Scored</th>\n",
              "      <th>Ball Possession %</th>\n",
              "      <th>Attempts</th>\n",
              "      <th>On-Target</th>\n",
              "      <th>Off-Target</th>\n",
              "      <th>Blocked</th>\n",
              "      <th>Corners</th>\n",
              "      <th>Offsides</th>\n",
              "      <th>Free Kicks</th>\n",
              "      <th>Saves</th>\n",
              "      <th>Pass Accuracy %</th>\n",
              "      <th>Passes</th>\n",
              "      <th>Distance Covered (Kms)</th>\n",
              "      <th>Fouls Committed</th>\n",
              "      <th>Yellow Card</th>\n",
              "      <th>Yellow &amp; Red</th>\n",
              "      <th>Red</th>\n",
              "    </tr>\n",
              "  </thead>\n",
              "  <tbody>\n",
              "    <tr>\n",
              "      <th>0</th>\n",
              "      <td>5</td>\n",
              "      <td>40</td>\n",
              "      <td>13</td>\n",
              "      <td>7</td>\n",
              "      <td>3</td>\n",
              "      <td>3</td>\n",
              "      <td>6</td>\n",
              "      <td>3</td>\n",
              "      <td>11</td>\n",
              "      <td>0</td>\n",
              "      <td>78</td>\n",
              "      <td>306</td>\n",
              "      <td>118</td>\n",
              "      <td>22</td>\n",
              "      <td>0</td>\n",
              "      <td>0</td>\n",
              "      <td>0</td>\n",
              "    </tr>\n",
              "    <tr>\n",
              "      <th>1</th>\n",
              "      <td>0</td>\n",
              "      <td>60</td>\n",
              "      <td>6</td>\n",
              "      <td>0</td>\n",
              "      <td>3</td>\n",
              "      <td>3</td>\n",
              "      <td>2</td>\n",
              "      <td>1</td>\n",
              "      <td>25</td>\n",
              "      <td>2</td>\n",
              "      <td>86</td>\n",
              "      <td>511</td>\n",
              "      <td>105</td>\n",
              "      <td>10</td>\n",
              "      <td>0</td>\n",
              "      <td>0</td>\n",
              "      <td>0</td>\n",
              "    </tr>\n",
              "    <tr>\n",
              "      <th>2</th>\n",
              "      <td>0</td>\n",
              "      <td>43</td>\n",
              "      <td>8</td>\n",
              "      <td>3</td>\n",
              "      <td>3</td>\n",
              "      <td>2</td>\n",
              "      <td>0</td>\n",
              "      <td>1</td>\n",
              "      <td>7</td>\n",
              "      <td>3</td>\n",
              "      <td>78</td>\n",
              "      <td>395</td>\n",
              "      <td>112</td>\n",
              "      <td>12</td>\n",
              "      <td>2</td>\n",
              "      <td>0</td>\n",
              "      <td>0</td>\n",
              "    </tr>\n",
              "    <tr>\n",
              "      <th>3</th>\n",
              "      <td>1</td>\n",
              "      <td>57</td>\n",
              "      <td>14</td>\n",
              "      <td>4</td>\n",
              "      <td>6</td>\n",
              "      <td>4</td>\n",
              "      <td>5</td>\n",
              "      <td>1</td>\n",
              "      <td>13</td>\n",
              "      <td>3</td>\n",
              "      <td>86</td>\n",
              "      <td>589</td>\n",
              "      <td>111</td>\n",
              "      <td>6</td>\n",
              "      <td>0</td>\n",
              "      <td>0</td>\n",
              "      <td>0</td>\n",
              "    </tr>\n",
              "    <tr>\n",
              "      <th>4</th>\n",
              "      <td>0</td>\n",
              "      <td>64</td>\n",
              "      <td>13</td>\n",
              "      <td>3</td>\n",
              "      <td>6</td>\n",
              "      <td>4</td>\n",
              "      <td>5</td>\n",
              "      <td>0</td>\n",
              "      <td>14</td>\n",
              "      <td>2</td>\n",
              "      <td>86</td>\n",
              "      <td>433</td>\n",
              "      <td>101</td>\n",
              "      <td>22</td>\n",
              "      <td>1</td>\n",
              "      <td>0</td>\n",
              "      <td>0</td>\n",
              "    </tr>\n",
              "  </tbody>\n",
              "</table>\n",
              "</div>"
            ],
            "text/plain": [
              "   Goal Scored  Ball Possession %  Attempts  ...  Yellow Card  Yellow & Red  Red\n",
              "0            5                 40        13  ...            0             0    0\n",
              "1            0                 60         6  ...            0             0    0\n",
              "2            0                 43         8  ...            2             0    0\n",
              "3            1                 57        14  ...            0             0    0\n",
              "4            0                 64        13  ...            1             0    0\n",
              "\n",
              "[5 rows x 17 columns]"
            ]
          },
          "metadata": {
            "tags": []
          },
          "execution_count": 33
        }
      ]
    },
    {
      "cell_type": "markdown",
      "metadata": {
        "id": "r9PddteKqBLR"
      },
      "source": [
        "ตรวจสอบ Assumption ในการทำ Factor Analysis :"
      ]
    },
    {
      "cell_type": "markdown",
      "metadata": {
        "id": "GyoVo1GEs8jv"
      },
      "source": [
        "1. there are no outliers in data : ต้องไม่มี outliers เพื่อจะให้ค่าไม่ผิดเพี้ยนไป เราจึงต้องเอาค่าว่างออกไป โดยการใช้ .dropna()"
      ]
    },
    {
      "cell_type": "code",
      "metadata": {
        "id": "FcRLsEy4n0hB"
      },
      "source": [
        "FIFA_data_dropped = FIFA_data.dropna()"
      ],
      "execution_count": 34,
      "outputs": []
    },
    {
      "cell_type": "markdown",
      "metadata": {
        "id": "OtHNOHXks5FN"
      },
      "source": [
        "2. Sample size should be greater than the factor : จำนวน data ต้องน้อยว่า จำนวน Factor Analysis ใช้ .shape ดูขนาดข้อมูล"
      ]
    },
    {
      "cell_type": "code",
      "metadata": {
        "id": "DV90GaAbskQY",
        "outputId": "06526d2a-c0a2-4481-8bb9-4e793fb43ba4",
        "colab": {
          "base_uri": "https://localhost:8080/"
        }
      },
      "source": [
        "FIFA_data.shape"
      ],
      "execution_count": 35,
      "outputs": [
        {
          "output_type": "execute_result",
          "data": {
            "text/plain": [
              "(128, 17)"
            ]
          },
          "metadata": {
            "tags": []
          },
          "execution_count": 35
        }
      ]
    },
    {
      "cell_type": "code",
      "metadata": {
        "id": "Z-iJo2tzslIR",
        "outputId": "b56b357b-12eb-4d4f-a92f-a2569d29d7d4",
        "colab": {
          "base_uri": "https://localhost:8080/"
        }
      },
      "source": [
        "FIFA_data_dropped.shape"
      ],
      "execution_count": 36,
      "outputs": [
        {
          "output_type": "execute_result",
          "data": {
            "text/plain": [
              "(128, 17)"
            ]
          },
          "metadata": {
            "tags": []
          },
          "execution_count": 36
        }
      ]
    },
    {
      "cell_type": "markdown",
      "metadata": {
        "id": "dWnOL4v8tL9z"
      },
      "source": [
        "3. There should not be prefact multicollonearity :เราสามารถดูได้ว่า ถ้า p-value เท่ากับ 0 แสดงว่า data ที่เรามีไม่มี prefact multicollonearity "
      ]
    },
    {
      "cell_type": "code",
      "metadata": {
        "id": "q4Ml8rQPtMkZ",
        "outputId": "2b3f2b6b-0959-4418-f29f-2cb400774166",
        "colab": {
          "base_uri": "https://localhost:8080/"
        }
      },
      "source": [
        "chi_square_value,p_value=calculate_bartlett_sphericity(FIFA_data_dropped)\n",
        "chi_square_value, p_value \n",
        "#ดูค่า chi_square และ ค่า p_value"
      ],
      "execution_count": 37,
      "outputs": [
        {
          "output_type": "execute_result",
          "data": {
            "text/plain": [
              "(1299.3697851171412, 2.713580160466225e-189)"
            ]
          },
          "metadata": {
            "tags": []
          },
          "execution_count": 37
        }
      ]
    },
    {
      "cell_type": "markdown",
      "metadata": {
        "id": "gfJJlIISrS8O"
      },
      "source": [
        "4. There should not be homoscedasticity : ทำKaiser-Meyer-Olkin (KMO) Test โดยเมื่อเรารันค่า KMO แล้วมีค่าน้อยกว่า 6 แสดงว่าเราไม่สามารถใช้ข้อมูลนี้ได้ และมีค่าสูง ยิ่งดี "
      ]
    },
    {
      "cell_type": "code",
      "metadata": {
        "id": "eFIurXHftZaG"
      },
      "source": [
        "kmo_all,kmo_model2=calculate_kmo(FIFA_data_dropped)"
      ],
      "execution_count": 38,
      "outputs": []
    },
    {
      "cell_type": "code",
      "metadata": {
        "id": "OG9HYXihtf3u",
        "outputId": "dee0b426-d5cf-47b5-a2aa-a054f724bf55",
        "colab": {
          "base_uri": "https://localhost:8080/"
        }
      },
      "source": [
        "kmo_model2"
      ],
      "execution_count": 39,
      "outputs": [
        {
          "output_type": "execute_result",
          "data": {
            "text/plain": [
              "0.5594556344508279"
            ]
          },
          "metadata": {
            "tags": []
          },
          "execution_count": 39
        }
      ]
    },
    {
      "cell_type": "markdown",
      "metadata": {
        "id": "BKOno6S-tpnf"
      },
      "source": [
        "จากการทำ Assumption ในการทำ Factor Analysis เราพบว่า เราไม่ควรทำ Factor Analysis ในชุดข้อมูลนี้ เราจึงต้องเตรียมข้อมูลใหม่ โดยกลับไปลดค่าที่มี correlation กันสูงๆออกก่อนจึงนำกลับมาทำใหม่ได้ "
      ]
    },
    {
      "cell_type": "code",
      "metadata": {
        "id": "cWSkotN8vZt2"
      },
      "source": [
        "import numpy as np"
      ],
      "execution_count": 40,
      "outputs": []
    },
    {
      "cell_type": "code",
      "metadata": {
        "id": "ZhJhWRH8vb5X"
      },
      "source": [
        "corr = np.corrcoef(FIFA_data_dropped.to_numpy().T)"
      ],
      "execution_count": 41,
      "outputs": []
    },
    {
      "cell_type": "code",
      "metadata": {
        "id": "kcBihjihvits",
        "outputId": "cc76c9c8-5813-4ef3-b608-54f1f01ac9c1",
        "colab": {
          "base_uri": "https://localhost:8080/"
        }
      },
      "source": [
        "corr.shape"
      ],
      "execution_count": 42,
      "outputs": [
        {
          "output_type": "execute_result",
          "data": {
            "text/plain": [
              "(17, 17)"
            ]
          },
          "metadata": {
            "tags": []
          },
          "execution_count": 42
        }
      ]
    },
    {
      "cell_type": "code",
      "metadata": {
        "id": "bwhFmPNivkdz",
        "outputId": "948b831e-aebb-432f-9e92-8e069c2bcd3c",
        "colab": {
          "base_uri": "https://localhost:8080/"
        }
      },
      "source": [
        "#เรียก corr ที่ทำมาดู\n",
        "corr"
      ],
      "execution_count": 43,
      "outputs": [
        {
          "output_type": "execute_result",
          "data": {
            "text/plain": [
              "array([[ 1.        ,  0.03475891,  0.14491471,  0.46170195, -0.02037402,\n",
              "        -0.08707206,  0.04044615,  0.04510519,  0.04681488, -0.11889319,\n",
              "         0.13568842,  0.04397086,  0.01435519,  0.03033115, -0.04883817,\n",
              "        -0.03503111, -0.08971381],\n",
              "       [ 0.03475891,  1.        ,  0.54118512,  0.29723393,  0.36176658,\n",
              "         0.52150961,  0.54299234,  0.05770557,  0.2738306 , -0.29365763,\n",
              "         0.71387227,  0.88061086, -0.05905436, -0.29647651, -0.2055111 ,\n",
              "         0.09092354,  0.02431566],\n",
              "       [ 0.14491471,  0.54118512,  1.        ,  0.731243  ,  0.71897203,\n",
              "         0.75430666,  0.68689238, -0.01650799,  0.14085048, -0.26821691,\n",
              "         0.39761361,  0.58283129,  0.17138088, -0.2487727 , -0.18554427,\n",
              "        -0.07459404,  0.00979518],\n",
              "       [ 0.46170195,  0.29723393,  0.731243  ,  1.        ,  0.32467182,\n",
              "         0.33133261,  0.40757553,  0.07317632,  0.09309032, -0.32155688,\n",
              "         0.29165918,  0.34809863,  0.06547524, -0.19224194, -0.11525901,\n",
              "        -0.05174248, -0.0234389 ],\n",
              "       [-0.02037402,  0.36176658,  0.71897203,  0.32467182,  1.        ,\n",
              "         0.29971162,  0.44063285, -0.09591931,  0.14236675, -0.12664381,\n",
              "         0.18976011,  0.39894881,  0.22992987, -0.18685847, -0.12409416,\n",
              "        -0.14557701, -0.11933214],\n",
              "       [-0.08707206,  0.52150961,  0.75430666,  0.33133261,  0.29971162,\n",
              "         1.        ,  0.63617204, -0.00223071,  0.086021  , -0.14295995,\n",
              "         0.40169882,  0.53291314,  0.08211127, -0.17460551, -0.1631112 ,\n",
              "         0.03371691,  0.1652951 ],\n",
              "       [ 0.04044615,  0.54299234,  0.68689238,  0.40757553,  0.44063285,\n",
              "         0.63617204,  1.        , -0.03405423,  0.08521581, -0.23378731,\n",
              "         0.33036317,  0.52466124,  0.09970016, -0.16538169, -0.16992862,\n",
              "         0.01454307,  0.11796048],\n",
              "       [ 0.04510519,  0.05770557, -0.01650799,  0.07317632, -0.09591931,\n",
              "        -0.00223071, -0.03405423,  1.        ,  0.08912112,  0.00653936,\n",
              "         0.12742051,  0.03471519,  0.03132394, -0.04008436, -0.04775651,\n",
              "         0.2285307 , -0.03643243],\n",
              "       [ 0.04681488,  0.2738306 ,  0.14085048,  0.09309032,  0.14236675,\n",
              "         0.086021  ,  0.08521581,  0.08912112,  1.        , -0.23163727,\n",
              "         0.13195112,  0.17569465,  0.07692698,  0.08034095, -0.02674089,\n",
              "         0.02970142, -0.10416414],\n",
              "       [-0.11889319, -0.29365763, -0.26821691, -0.32155688, -0.12664381,\n",
              "        -0.14295995, -0.23378731,  0.00653936, -0.23163727,  1.        ,\n",
              "        -0.19073971, -0.26442461,  0.12564461,  0.07497559,  0.0096697 ,\n",
              "         0.14030694,  0.0168754 ],\n",
              "       [ 0.13568842,  0.71387227,  0.39761361,  0.29165918,  0.18976011,\n",
              "         0.40169882,  0.33036317,  0.12742051,  0.13195112, -0.19073971,\n",
              "         1.        ,  0.69311338, -0.21087444, -0.32773725, -0.11349809,\n",
              "         0.09475556,  0.00949221],\n",
              "       [ 0.04397086,  0.88061086,  0.58283129,  0.34809863,  0.39894881,\n",
              "         0.53291314,  0.52466124,  0.03471519,  0.17569465, -0.26442461,\n",
              "         0.69311338,  1.        ,  0.18460146, -0.3527823 , -0.2238822 ,\n",
              "         0.05383683,  0.01075168],\n",
              "       [ 0.01435519, -0.05905436,  0.17138088,  0.06547524,  0.22992987,\n",
              "         0.08211127,  0.09970016,  0.03132394,  0.07692698,  0.12564461,\n",
              "        -0.21087444,  0.18460146,  1.        ,  0.14980004,  0.00197107,\n",
              "        -0.02329603, -0.09326822],\n",
              "       [ 0.03033115, -0.29647651, -0.2487727 , -0.19224194, -0.18685847,\n",
              "        -0.17460551, -0.16538169, -0.04008436,  0.08034095,  0.07497559,\n",
              "        -0.32773725, -0.3527823 ,  0.14980004,  1.        ,  0.43383435,\n",
              "         0.03979015,  0.01240768],\n",
              "       [-0.04883817, -0.2055111 , -0.18554427, -0.11525901, -0.12409416,\n",
              "        -0.1631112 , -0.16992862, -0.04775651, -0.02674089,  0.0096697 ,\n",
              "        -0.11349809, -0.2238822 ,  0.00197107,  0.43383435,  1.        ,\n",
              "        -0.11406428,  0.02907521],\n",
              "       [-0.03503111,  0.09092354, -0.07459404, -0.05174248, -0.14557701,\n",
              "         0.03371691,  0.01454307,  0.2285307 ,  0.02970142,  0.14030694,\n",
              "         0.09475556,  0.05383683, -0.02329603,  0.03979015, -0.11406428,\n",
              "         1.        , -0.01587302],\n",
              "       [-0.08971381,  0.02431566,  0.00979518, -0.0234389 , -0.11933214,\n",
              "         0.1652951 ,  0.11796048, -0.03643243, -0.10416414,  0.0168754 ,\n",
              "         0.00949221,  0.01075168, -0.09326822,  0.01240768,  0.02907521,\n",
              "        -0.01587302,  1.        ]])"
            ]
          },
          "metadata": {
            "tags": []
          },
          "execution_count": 43
        }
      ]
    },
    {
      "cell_type": "code",
      "metadata": {
        "id": "wIQ7vil4vr8t"
      },
      "source": [
        "#วนลูปหาค่า correlation ที่ซ้ำกัน\n",
        "\n",
        "for i in range(corr.shape[0]):\n",
        "    for j in range(corr.shape[1]):\n",
        "        if (i !=j) and (corr[i,j] == 1.):\n",
        "            print(f'row = {i} column = {j} corrcoef = {corr[i,j]}')\n",
        "\n",
        "#เราไม่สามรถดูค่า corr เพื่อหาค่าที่เป็น 1. ได้เนื่องจากมันเลขตรงแนวทแยงมุม มันต้อง 1. อยู่แล้วเพราะมันค่าเดียวกัน ในลูปเลยเขียนว่าไม่ต้องพิจารณา ถ้าเป็นเลขในแนวทแยงมุม \n",
        "#ดังนั้นค่าใน loop จึงไม่มีค่าที่ corr = 1. จริงๆ ทำให้ไม่มีการปริ้นค่าออกมา "
      ],
      "execution_count": 47,
      "outputs": []
    },
    {
      "cell_type": "markdown",
      "metadata": {
        "id": "gr5mm1Vm0TOX"
      },
      "source": [
        "จากการพยายามหาค่า correlation ที่สูง เพื่อตัด columns ออก แล้วจะนำไปใช้ใน Factor Analysis พบว่าในชุดข้อมูล ไม่มี columns ไหนที่เป็น correlation เราจึงใช้ข้อมูลทำ Factor Analysis ต่อ โดยที่มีค่า KMO = 0.59\n",
        "\n",
        "(เนื่องจากค่ามีน้อยกว่า0.6 จึงเป็นค่าที่ไม่เหมาะสมในการทำเท่าไหร่ ยังสามารถทำได้อยู่ แต่  ถ้าต่ำกว่า 0.5 ถึงทำไม่ได้เลย)"
      ]
    },
    {
      "cell_type": "markdown",
      "metadata": {
        "id": "EnvwIpvE1Zv5"
      },
      "source": [
        "##Start Factors analysis\n",
        "Choosing the Number of Factors"
      ]
    },
    {
      "cell_type": "markdown",
      "metadata": {
        "id": "jAw628ot1jEE"
      },
      "source": [
        "Import \n",
        "```from factor_analyzer import FactorAnalyzer```"
      ]
    },
    {
      "cell_type": "code",
      "metadata": {
        "id": "oEbl--5G1n9_"
      },
      "source": [
        "#Defind\n",
        "fa3 = FactorAnalyzer(n_factors=15) #ครอบคลุมค่าทั้งหมดไม่ได้เนื่องจากข้อมูลเยอะไป จึงลดเหลือ factors=15"
      ],
      "execution_count": 51,
      "outputs": []
    },
    {
      "cell_type": "code",
      "metadata": {
        "id": "KKLrkeqe148A"
      },
      "source": [
        "data_fa3 = fa3.fit_transform(FIFA_data_dropped)\n",
        "#fit คำนวนพารามิเตอร์ \n",
        "#tranfrom เป็นการนำ data ที่คำนวณมาแล้วเข้าไปใส่ในแกนที่ถูกเปลี่ยน"
      ],
      "execution_count": 69,
      "outputs": []
    },
    {
      "cell_type": "code",
      "metadata": {
        "id": "t21zLDMx2Crg",
        "outputId": "c231c87b-dda0-4269-a5e1-95cf7acf772f",
        "colab": {
          "base_uri": "https://localhost:8080/"
        }
      },
      "source": [
        "data_fa3.shape"
      ],
      "execution_count": 70,
      "outputs": [
        {
          "output_type": "execute_result",
          "data": {
            "text/plain": [
              "(128, 15)"
            ]
          },
          "metadata": {
            "tags": []
          },
          "execution_count": 70
        }
      ]
    },
    {
      "cell_type": "code",
      "metadata": {
        "id": "RlzqZeyq2HS1"
      },
      "source": [
        "ev,v = fa3.get_eigenvalues()"
      ],
      "execution_count": 54,
      "outputs": []
    },
    {
      "cell_type": "code",
      "metadata": {
        "id": "d28_CxfE2Kiw",
        "outputId": "29fdcab3-17a2-4ab4-fe46-7380d81300a6",
        "colab": {
          "base_uri": "https://localhost:8080/"
        }
      },
      "source": [
        "ev "
      ],
      "execution_count": 55,
      "outputs": [
        {
          "output_type": "execute_result",
          "data": {
            "text/plain": [
              "array([4.93533676, 1.66110682, 1.45898601, 1.31857945, 1.27991548,\n",
              "       1.1607222 , 0.89822418, 0.80740568, 0.78874612, 0.65948826,\n",
              "       0.56563441, 0.48116939, 0.38549929, 0.29659929, 0.22859409,\n",
              "       0.06848785, 0.00550471])"
            ]
          },
          "metadata": {
            "tags": []
          },
          "execution_count": 55
        }
      ]
    },
    {
      "cell_type": "markdown",
      "metadata": {
        "id": "8Q7KutvK2c6-"
      },
      "source": [
        "ตัดสินว่าเราจะลดเหลือกี่ Dimention (มี factors ทั้งหมดกี่ตัว)\n",
        "\n",
        "Scree plot เป็นกราฟที่บอกว่า factor แต่ละตัวมี eigenvalues อยู่เท่าไหร่\n",
        "\n",
        "โดยการทำ Scree plot เพื่อมาดู factor ที่มากว่า 1 แล้วจะนำ factor นั้นมาใช้"
      ]
    },
    {
      "cell_type": "code",
      "metadata": {
        "id": "LG4jDJfa5L8n"
      },
      "source": [
        "matplotlib.rcParams['figure.figsize']=[6,6] #ปรับขนาดกราฟ "
      ],
      "execution_count": 64,
      "outputs": []
    },
    {
      "cell_type": "code",
      "metadata": {
        "id": "K-sS0DKZ2P2a",
        "outputId": "0d17926e-863e-47fa-829c-2a0bb3556eb4",
        "colab": {
          "base_uri": "https://localhost:8080/",
          "height": 404
        }
      },
      "source": [
        "# Create scree plot using matplotlib\n",
        "plt.plot(range(1,FIFA_data_dropped.shape[1]+1),ev,'bo-')\n",
        "plt.plot([0,FIFA_data_dropped.shape[1]+1],[1,1],'r--')\n",
        "plt.title('Scree Plot')\n",
        "plt.xlabel('Factors')\n",
        "plt.ylabel('Eigenvalue')\n",
        "plt.grid()\n",
        "plt.show()"
      ],
      "execution_count": 65,
      "outputs": [
        {
          "output_type": "display_data",
          "data": {
            "image/png": "[encoded data removed]",
            "text/plain": [
              "<Figure size 432x432 with 1 Axes>"
            ]
          },
          "metadata": {
            "tags": [],
            "needs_background": "light"
          }
        }
      ]
    },
    {
      "cell_type": "code",
      "metadata": {
        "id": "dgva56WF3Mmf",
        "outputId": "51bae28e-32fa-426d-b24d-2f36a1b96f98",
        "colab": {
          "base_uri": "https://localhost:8080/"
        }
      },
      "source": [
        "data_fa3[:,:6] #ที่เป็น 6 ตัวเพราะ ตัวที่ 1-6 มีค่ามากกว่า 1"
      ],
      "execution_count": 71,
      "outputs": [
        {
          "output_type": "execute_result",
          "data": {
            "text/plain": [
              "array([[-9.87264718e-01,  5.85214391e-01,  2.88554202e+00,\n",
              "         1.56007911e+00, -1.32889516e-01,  2.02526239e-01],\n",
              "       [ 7.69539758e-01, -6.57955412e-01, -1.09700784e+00,\n",
              "        -6.02790220e-01, -1.97303773e-01,  1.77345748e-01],\n",
              "       [-5.93367136e-01,  2.04640836e-01, -8.70822110e-01,\n",
              "        -2.99370826e-01, -4.02323792e-01, -1.44137697e-01],\n",
              "       [ 7.81571398e-01,  1.83295212e-01, -2.40837404e-01,\n",
              "        -1.53932622e+00,  5.72105772e-02, -3.18712453e-02],\n",
              "       [ 8.46713358e-01, -1.32218775e+00, -7.07269735e-01,\n",
              "         1.55378817e+00, -5.96329009e-01,  7.97477572e-02],\n",
              "       [-1.41234443e+00, -1.10664565e+00, -1.98143005e-01,\n",
              "         3.54321582e-01,  2.00428448e+00, -5.94095836e-01],\n",
              "       [-8.41889574e-01, -4.38529476e-01,  1.14439194e+00,\n",
              "        -3.08956436e-01,  2.00398356e+00, -6.20291468e-02],\n",
              "       [ 1.36049369e+00,  6.14514377e-02,  1.26777973e+00,\n",
              "        -9.59015616e-01,  1.33582270e+00,  1.41153516e-01],\n",
              "       [ 1.48479148e-01, -3.50683453e-01,  7.46616693e-01,\n",
              "         3.63670337e-01,  8.47563339e-01, -1.09119376e-01],\n",
              "       [-1.79950238e-01, -2.44361437e-01, -1.67512185e-01,\n",
              "         1.18256546e+00,  5.72199720e-01,  6.93379032e-03],\n",
              "       [ 2.02884365e+00, -5.28320579e-01, -1.67303241e-01,\n",
              "        -8.85122953e-01,  6.79504516e-02, -7.79074132e-02],\n",
              "       [-2.14448777e+00,  3.81704739e-01, -2.70565783e-01,\n",
              "         1.91278734e-01, -1.40505286e+00, -1.18702658e-01],\n",
              "       [ 5.87971548e-03, -5.60594503e-01, -7.28434158e-01,\n",
              "        -6.71402053e-01,  4.26313299e-01,  2.19040574e-01],\n",
              "       [-3.97089163e-01, -5.73874993e-02, -8.88090084e-02,\n",
              "         9.21894438e-01,  4.14480240e-02,  4.94665731e-01],\n",
              "       [ 2.34249720e-01, -1.92234791e-01,  3.23375150e-01,\n",
              "         1.21356794e+00, -5.06395810e-02,  4.86614707e-03],\n",
              "       [-4.14756664e-01, -4.40961211e-01, -1.12418048e+00,\n",
              "         4.50925957e-01,  6.67307058e-01, -7.92881664e-02],\n",
              "       [-7.35616904e-02, -1.95871192e-01, -7.79001844e-01,\n",
              "         8.58112479e-01,  4.31919430e-02,  1.51136157e-01],\n",
              "       [-1.47430895e-01, -1.48515218e-01, -1.75873515e-01,\n",
              "         3.81229990e-01,  9.43885721e-02,  1.73843620e-01],\n",
              "       [ 9.90291359e-01,  1.57398443e-01, -5.03452459e-01,\n",
              "        -7.56475335e-01,  2.41941078e-01, -1.90952320e-01],\n",
              "       [-1.02507302e+00, -1.53753217e-01, -8.61449865e-02,\n",
              "         2.55302372e-01,  8.60993417e-01,  1.81290950e-01],\n",
              "       [ 3.01030257e-01, -9.33795030e-02, -4.34962489e-01,\n",
              "        -3.97984370e-01,  9.91637478e-01, -3.53873335e-01],\n",
              "       [-1.77792958e-01, -2.74172591e-02, -1.37803885e-01,\n",
              "         1.03977446e+00,  2.22181639e-01, -1.75542371e-01],\n",
              "       [ 1.81741119e-02, -5.20112417e-01, -1.55414230e-01,\n",
              "         1.20106400e+00,  1.12151365e-01, -1.49899444e-02],\n",
              "       [-4.38746567e-01, -4.27434020e-01, -9.97230380e-01,\n",
              "         1.88343096e+00, -6.46504479e-01,  2.18173892e-01],\n",
              "       [ 9.04634196e-01, -4.73924469e-01,  1.42344292e+00,\n",
              "         7.46127554e-01,  4.36118832e-01, -1.35687541e-01],\n",
              "       [-1.04123661e+00, -3.72908136e-01, -8.87962723e-01,\n",
              "         1.00449402e+00,  9.36322183e-01, -9.46920642e-02],\n",
              "       [-8.65336432e-01, -3.88968046e-01, -3.03531300e-01,\n",
              "        -3.79650303e-02,  7.06600408e-01,  3.45772746e-01],\n",
              "       [ 7.48390056e-01, -8.43972885e-01,  8.27951075e-01,\n",
              "        -1.02547279e+00,  1.01501462e+00, -7.75785866e-02],\n",
              "       [-8.33622994e-01, -1.03963754e+00, -4.07415958e-01,\n",
              "         2.53000038e-01,  7.74574344e-01, -5.20329159e-02],\n",
              "       [ 8.29919685e-01, -5.36623819e-01,  7.08628794e-01,\n",
              "        -9.02254789e-01,  1.89902701e-01, -4.62510257e-02],\n",
              "       [ 7.14046961e-01, -1.08876910e-01, -5.14001779e-02,\n",
              "        -1.08564414e+00,  5.15747987e-01,  8.47220458e-02],\n",
              "       [-7.38758386e-01, -2.10969030e-01,  3.16383494e-01,\n",
              "         3.72214543e-01,  3.38353500e-01,  8.29250764e-02],\n",
              "       [-3.85842981e-01,  1.71339317e-01,  9.19502048e-01,\n",
              "        -2.43433526e-01, -1.26151703e+00, -5.16908181e-01],\n",
              "       [ 1.58275227e-01, -2.38997888e-01, -6.77714263e-01,\n",
              "        -5.49923395e-01, -7.02076326e-01, -6.06189815e-01],\n",
              "       [-4.63920465e-01,  1.72049269e-01, -3.73320651e-01,\n",
              "         1.08000796e+00, -1.14552408e+00,  2.01363466e-01],\n",
              "       [ 9.94740026e-02,  3.70693660e-01, -8.04419105e-01,\n",
              "         1.59194888e+00, -1.61781137e+00, -1.65693393e-01],\n",
              "       [-1.07167522e-02, -7.75583210e-02, -1.44753296e-01,\n",
              "        -9.81706761e-01,  1.45866154e+00, -5.62818655e-02],\n",
              "       [ 4.78987187e-01, -1.08154992e-01, -7.23369129e-01,\n",
              "        -5.07676621e-01,  4.70327439e-01,  5.05161190e-01],\n",
              "       [-1.93148069e+00,  2.98987877e-01, -1.28537930e+00,\n",
              "         2.12167547e-01, -1.17403995e+00, -3.24696515e-01],\n",
              "       [ 2.03862431e+00,  2.87314504e-01, -5.00532318e-01,\n",
              "        -2.39068965e-01, -4.13796110e-01,  1.37243208e-01],\n",
              "       [ 4.95504689e-02, -1.99409681e-01,  1.33554847e-01,\n",
              "        -1.26507927e+00,  1.20264405e+00, -1.69706369e-01],\n",
              "       [ 2.70555509e-01,  2.74107273e-01, -7.35611232e-02,\n",
              "        -1.72154883e+00,  3.56826930e-01, -4.20264973e-02],\n",
              "       [-5.63609799e-01, -3.52097209e-02, -2.61607587e-01,\n",
              "        -4.11590375e-01, -6.80612844e-01, -4.90162220e-01],\n",
              "       [ 4.92525223e-01, -2.04388268e-01, -1.03282977e+00,\n",
              "         1.67703640e-01, -8.80971085e-01, -6.43829758e-02],\n",
              "       [ 5.30795989e-01, -3.48022968e-01, -9.47760149e-01,\n",
              "         4.48126180e-01, -9.69373282e-01,  3.13553512e-01],\n",
              "       [-7.73486660e-01,  3.25714644e-01,  1.07247558e+00,\n",
              "         1.85331181e+00,  3.37578860e-01, -1.40499824e-01],\n",
              "       [ 1.65348722e+00,  2.03227412e-01,  7.94854320e-01,\n",
              "        -6.93547081e-01,  2.03158732e-01, -4.09245201e-02],\n",
              "       [-1.52226957e+00,  4.60102265e-01, -1.18277152e+00,\n",
              "        -4.51169754e-01, -6.18257449e-01,  2.86297026e-01],\n",
              "       [ 5.49364843e-01, -8.81920542e-01,  2.67198076e-01,\n",
              "        -7.75503708e-01, -3.30410923e-01, -1.51593550e-01],\n",
              "       [-9.16559770e-01, -4.34776340e-01, -8.52540718e-01,\n",
              "        -6.60844243e-01, -1.05694277e+00, -3.47673484e-01],\n",
              "       [-8.51538770e-01,  3.46834634e-01, -3.16163517e-01,\n",
              "         9.46382106e-01, -3.49365211e-01, -6.49225172e-01],\n",
              "       [ 7.42287344e-01,  2.61881246e-01,  3.29915623e-01,\n",
              "        -2.99670112e-01,  2.55087876e-01,  3.70659126e-02],\n",
              "       [ 1.44808835e-01, -5.50843605e-02,  3.16608680e+00,\n",
              "        -4.59641915e-01,  2.70671061e-01, -4.87916587e-02],\n",
              "       [-1.33786018e-01,  2.03496870e-01,  4.40791826e-01,\n",
              "        -2.75525665e-01,  2.15951191e-01,  2.48446128e-01],\n",
              "       [-8.43062110e-01, -4.25354547e-01, -4.38217943e-02,\n",
              "         1.97134254e+00,  7.86205528e-01, -9.46947513e-04],\n",
              "       [ 6.68992270e-01, -1.09483928e+00,  7.01234140e-01,\n",
              "        -1.21004420e+00,  6.36258140e-01, -4.04692907e-02],\n",
              "       [ 1.91247184e+00,  1.23023926e-01,  3.47170010e-01,\n",
              "        -1.79214176e-01,  5.83719857e-02,  5.83591536e+00],\n",
              "       [-1.89522305e+00,  1.90852398e-01,  2.71550654e-01,\n",
              "        -8.86352133e-03,  6.84797747e-01,  1.23346395e-01],\n",
              "       [ 8.86666194e-01, -6.00470246e-01,  3.51847530e+00,\n",
              "        -7.46802058e-02,  1.95767819e+00,  1.84646459e-01],\n",
              "       [-6.16417276e-01, -1.11427914e+00, -2.99509774e-01,\n",
              "        -1.31132471e-01,  1.98888951e+00, -5.55104275e-01],\n",
              "       [ 2.42268238e-01, -5.19758936e-01,  4.45220025e-01,\n",
              "        -8.23766182e-01,  6.29979920e-02,  1.87488582e-01],\n",
              "       [-5.56341619e-01, -5.40070700e-01,  7.55830915e-01,\n",
              "         1.96729830e-01, -3.08941839e-01, -4.16054723e-02],\n",
              "       [-4.23954268e-01,  2.04193751e-02, -1.01453285e+00,\n",
              "         2.90857838e-01, -4.06824357e-01, -6.32500302e-02],\n",
              "       [ 4.26906561e-01,  1.88210366e-02,  8.55631056e-01,\n",
              "        -6.23022721e-01, -5.49931699e-01, -1.07770109e-01],\n",
              "       [ 4.84303031e-01, -6.18433231e-01,  1.49251756e+00,\n",
              "         5.72034629e-01,  6.75713239e-01, -2.80966920e-01],\n",
              "       [-6.35607467e-01, -6.69341361e-01, -9.72132365e-01,\n",
              "         9.84932131e-01,  7.10523254e-01,  5.34401071e+00],\n",
              "       [ 1.17988044e+00, -1.98231301e-01,  5.52583625e-01,\n",
              "        -1.46225640e+00,  6.26848812e-01, -4.31071789e-01],\n",
              "       [-9.30346501e-01,  1.80859890e-01, -4.30294763e-01,\n",
              "         3.43744889e-01,  9.01010704e-01,  1.13707600e-01],\n",
              "       [ 1.85682104e+00,  9.34511298e-03,  3.59132236e-01,\n",
              "        -1.85398144e+00,  1.60733987e-01, -3.73358256e-01],\n",
              "       [-1.53224629e+00, -1.85348580e-01,  5.05980512e-01,\n",
              "         9.80024882e-01,  1.95682229e+00, -6.15369471e-01],\n",
              "       [-1.82740332e+00, -3.98519136e-01, -4.96981353e-01,\n",
              "         4.85160445e-01, -1.21171899e+00, -4.06811698e-01],\n",
              "       [ 1.49314613e+00, -1.40220354e+00, -3.07590427e-01,\n",
              "        -3.64838151e-01, -7.45632512e-02, -3.98277024e-01],\n",
              "       [-1.19330692e+00,  5.93705486e-03, -1.11177480e+00,\n",
              "        -5.71444002e-01, -1.23890118e+00,  5.29212810e-02],\n",
              "       [ 1.25453753e+00, -1.70106967e-01, -6.98964974e-01,\n",
              "        -1.03226581e+00, -1.89218318e-01, -1.72680462e-02],\n",
              "       [ 4.11838808e-01,  1.40866885e-01, -1.25281587e+00,\n",
              "        -5.11466130e-02,  4.98080683e-01, -1.09453992e-01],\n",
              "       [-3.11378576e-01, -5.54569537e-01,  5.77122301e-01,\n",
              "        -1.96461481e-01, -1.21114099e-02, -4.07809109e-03],\n",
              "       [-1.57600611e+00, -3.71845436e-01, -1.64350977e-01,\n",
              "         1.20626262e+00,  1.43148602e-02, -3.81647442e-01],\n",
              "       [ 1.20968201e+00, -7.14867588e-01,  6.20976882e-01,\n",
              "         4.57174227e-01, -1.04603315e+00,  1.93485043e-01],\n",
              "       [-9.56055146e-01, -1.36957183e-01, -2.28740772e-01,\n",
              "        -4.51664348e-01, -1.29421247e+00, -7.08713079e-01],\n",
              "       [ 7.37124701e-01, -5.85960970e-01,  1.79405500e-01,\n",
              "        -2.56929857e-01,  1.96686352e-01, -2.81642369e-01],\n",
              "       [-1.79835880e+00,  9.19942246e-01,  5.95775984e-01,\n",
              "         6.79355688e-01, -7.79345538e-02, -4.13121843e-01],\n",
              "       [ 1.89562304e+00,  5.00074860e-01, -1.00497288e+00,\n",
              "        -1.38295854e+00, -7.20202991e-01, -1.12869776e-01],\n",
              "       [ 9.74768855e-01, -1.22343326e+00, -1.28391576e+00,\n",
              "         2.47504098e-01, -1.13382270e+00, -9.16803226e-02],\n",
              "       [-1.65438966e+00, -9.81776797e-02,  9.76089875e-01,\n",
              "        -1.83916955e-01, -1.94921731e+00, -8.44361786e-01],\n",
              "       [-4.07430895e-01,  9.12158417e-01, -1.29758687e+00,\n",
              "        -4.04382511e-02, -4.76880320e-01, -7.60618824e-03],\n",
              "       [ 7.95288535e-01,  1.33869147e-01,  7.06680782e-01,\n",
              "        -1.44596178e+00,  6.76785963e-01,  5.65583423e-01],\n",
              "       [ 9.45224155e-01, -2.23681632e-01,  2.43502049e-01,\n",
              "        -7.17161085e-01,  1.68809407e-01, -2.77974427e-02],\n",
              "       [-8.68567955e-01, -2.88975509e-01,  6.71590803e-01,\n",
              "         1.25125744e-01,  7.97485722e-01, -5.16865878e-01],\n",
              "       [ 4.41957037e-01, -1.28923794e+00, -8.99433079e-01,\n",
              "        -8.10348866e-01,  5.02804938e-01,  9.95539271e-02],\n",
              "       [-3.06990820e-01, -1.28335827e+00, -5.03883897e-01,\n",
              "        -1.28147450e+00,  5.92925289e-01, -1.21100100e-01],\n",
              "       [-8.97937536e-01, -9.11405456e-01, -7.91775514e-01,\n",
              "         2.60888167e-01, -3.18205691e-01,  6.04953316e-02],\n",
              "       [ 3.54569625e-01, -9.58410270e-01, -8.65014007e-02,\n",
              "         3.24242083e-01, -4.75748927e-01,  6.04174626e-01],\n",
              "       [-1.36742464e+00,  1.12298096e-01, -1.20682294e-01,\n",
              "         8.70127559e-01,  2.06511079e-01,  2.27752405e-01],\n",
              "       [ 1.24383491e+00,  1.14455419e-01,  8.89603845e-01,\n",
              "         1.02980752e+00, -2.38795544e-01,  2.71101449e-01],\n",
              "       [-1.32573326e-02,  2.28350126e-01, -1.18108311e+00,\n",
              "        -6.69174997e-01,  1.28903231e+00,  2.80508385e-01],\n",
              "       [ 3.90721003e-01,  1.90901480e-02, -3.11592994e-01,\n",
              "        -2.30231839e-02,  1.04657556e+00, -1.49829986e-01],\n",
              "       [-8.21885944e-01, -5.82988678e-01,  1.88116217e+00,\n",
              "         1.44021706e+00,  1.24635904e+00, -5.44096873e-01],\n",
              "       [ 7.44290548e-01, -8.44446638e-01,  1.06787227e+00,\n",
              "         6.13053699e-01,  1.35046157e-01, -2.43598140e-01],\n",
              "       [-1.24805331e+00, -5.24279126e-02,  4.45786944e-01,\n",
              "         1.17051357e-03, -1.95429593e+00, -8.32481321e-02],\n",
              "       [ 9.47539466e-01, -2.08719016e-02, -3.32901131e-01,\n",
              "        -9.34883018e-02, -7.84844634e-01, -2.01615545e-01],\n",
              "       [ 3.16600167e+00,  3.13740859e+00, -8.73181840e-02,\n",
              "        -1.97884854e+00, -5.67437346e-01,  1.62496985e-02],\n",
              "       [-1.98024574e+00,  3.02032117e+00, -3.15300212e-01,\n",
              "         1.11057706e+00, -3.20576108e-01,  3.33612898e-01],\n",
              "       [ 6.59086212e-01,  1.93126670e+00, -2.09694859e-01,\n",
              "        -1.65304820e+00, -8.50534630e-01, -1.90751004e-01],\n",
              "       [-7.26810641e-02,  2.43651419e+00, -2.80690408e-01,\n",
              "         7.78663916e-01, -6.72847354e-01, -1.21766327e-01],\n",
              "       [-3.32506752e-01, -1.03251148e+00,  9.33349835e-01,\n",
              "        -1.33259673e+00,  4.63828952e-01, -6.64607307e-01],\n",
              "       [ 7.17304829e-02, -1.13043456e+00, -1.31769600e+00,\n",
              "         8.92808027e-01,  4.91383225e-01,  4.67330726e-01],\n",
              "       [ 7.64395830e-01,  5.58978243e-01,  1.32267950e+00,\n",
              "        -4.30845859e-01,  4.01569633e-01, -1.20121964e-01],\n",
              "       [-3.80874059e-01,  3.55240371e-01,  4.90790985e-01,\n",
              "        -8.78135763e-01,  6.40086573e-01,  7.05947828e-02],\n",
              "       [-1.32412302e+00, -3.69681364e-03, -4.35441017e-01,\n",
              "        -3.96134710e-01, -8.87563465e-01, -3.22123119e-01],\n",
              "       [ 1.12717872e+00, -5.72667888e-01, -1.25096239e+00,\n",
              "        -2.64791277e-02, -9.46857280e-01, -3.12121692e-01],\n",
              "       [-1.03548771e-02,  2.17114384e+00, -2.94049896e-01,\n",
              "         2.04111917e+00, -9.76822783e-01, -6.11787810e-01],\n",
              "       [ 3.56911353e-01,  2.63047064e+00, -5.84035768e-01,\n",
              "         8.80371031e-02, -4.79581155e-01, -1.67006352e-01],\n",
              "       [-9.85450597e-01,  1.27081571e-02, -8.94584008e-01,\n",
              "         7.21833115e-01, -2.72504885e+00, -5.65140216e-01],\n",
              "       [ 5.78653319e-01, -3.53270803e-01,  1.77418123e-01,\n",
              "         3.10983594e-01, -9.86547387e-01, -2.91191267e-01],\n",
              "       [ 7.10632785e-01, -1.85227950e-01,  7.70094638e-02,\n",
              "        -1.87564800e-02,  8.21952375e-01, -1.12385926e-01],\n",
              "       [-6.53239473e-01, -4.95719568e-03,  5.68499703e-01,\n",
              "         4.89465922e-01,  7.89195063e-01,  2.72361408e-01],\n",
              "       [-6.80961440e-01, -8.12740912e-02, -9.40963750e-01,\n",
              "        -6.15108112e-01, -1.25010674e+00, -2.64420941e-01],\n",
              "       [ 5.70682189e-01,  2.73161431e-02,  1.56019298e-02,\n",
              "        -1.04787161e+00, -1.16233427e+00, -5.95344370e-02],\n",
              "       [-9.61518782e-01,  3.08071436e+00,  9.87250048e-01,\n",
              "         2.17355403e+00, -2.22700029e+00,  5.21016478e-02],\n",
              "       [ 1.38750556e+00,  2.93772307e+00,  1.38293411e-01,\n",
              "         1.02538226e+00, -1.40124933e+00, -3.03103959e-01],\n",
              "       [-8.30273728e-01, -4.44885913e-01, -3.54436008e-01,\n",
              "        -1.32039193e+00,  1.71305958e+00, -6.12428037e-01],\n",
              "       [ 1.05323314e+00, -2.91196610e-01, -7.04924977e-01,\n",
              "         2.40110625e-01,  6.98184642e-01,  1.96462429e-01],\n",
              "       [ 6.14002349e-01,  2.86823586e+00,  6.67763123e-01,\n",
              "         1.69399554e+00, -1.46470857e+00, -4.00916704e-01],\n",
              "       [-1.76473095e-01,  2.80924401e+00, -5.19249244e-01,\n",
              "         2.82974038e-01, -6.77662039e-01,  2.78009490e-01],\n",
              "       [-2.58320205e-01,  3.74197244e-01,  4.79468350e-01,\n",
              "        -7.21454320e-01,  1.84964768e+00,  1.67601086e-01],\n",
              "       [ 1.08324778e+00,  3.67322503e-01, -7.54471802e-01,\n",
              "        -1.81352455e+00,  1.33139959e+00, -3.71328151e-01],\n",
              "       [-1.18960426e+00, -6.63352624e-01,  2.04965036e+00,\n",
              "         2.89379126e-01, -5.15317317e-01, -3.02723315e-01],\n",
              "       [ 8.51482820e-01, -4.30826019e-01,  2.00298332e-01,\n",
              "        -1.24565001e-01, -8.46345373e-01, -1.49727050e-01]])"
            ]
          },
          "metadata": {
            "tags": []
          },
          "execution_count": 71
        }
      ]
    },
    {
      "cell_type": "markdown",
      "metadata": {
        "id": "jc-Yr4P05zT6"
      },
      "source": [
        "##Factor Loading"
      ]
    },
    {
      "cell_type": "code",
      "metadata": {
        "id": "0Rh-B8Ke5rQ4",
        "outputId": "950a4134-46cd-4895-9da6-c18ef92fe44c",
        "colab": {
          "base_uri": "https://localhost:8080/"
        }
      },
      "source": [
        "fa3.loadings_.shape\n",
        "\n",
        "#เป็นการบอกว่ามีกี่ตัวแปร แล้วดูตัวแปรไหนมีอิทธิพลบ้าง"
      ],
      "execution_count": 68,
      "outputs": [
        {
          "output_type": "execute_result",
          "data": {
            "text/plain": [
              "(17, 15)"
            ]
          },
          "metadata": {
            "tags": []
          },
          "execution_count": 68
        }
      ]
    },
    {
      "cell_type": "code",
      "metadata": {
        "id": "M7TSGqUL6AeC"
      },
      "source": [
        "from factor_analyzer import FactorAnalyzer\n",
        "fa3 = FactorAnalyzer(n_factors=6)\n",
        "data_fa3 = fa3.fit_transform(FIFA_data_dropped) "
      ],
      "execution_count": 72,
      "outputs": []
    },
    {
      "cell_type": "code",
      "metadata": {
        "id": "0LUby9jx6nZf",
        "outputId": "1311ffd1-5fff-4ce5-a9a2-f9af4f0d304b",
        "colab": {
          "base_uri": "https://localhost:8080/"
        }
      },
      "source": [
        "FIFA_data_dropped.columns"
      ],
      "execution_count": 73,
      "outputs": [
        {
          "output_type": "execute_result",
          "data": {
            "text/plain": [
              "Index(['Goal Scored', 'Ball Possession %', 'Attempts', 'On-Target',\n",
              "       'Off-Target', 'Blocked', 'Corners', 'Offsides', 'Free Kicks', 'Saves',\n",
              "       'Pass Accuracy %', 'Passes', 'Distance Covered (Kms)',\n",
              "       'Fouls Committed', 'Yellow Card', 'Yellow & Red', 'Red'],\n",
              "      dtype='object')"
            ]
          },
          "metadata": {
            "tags": []
          },
          "execution_count": 73
        }
      ]
    },
    {
      "cell_type": "code",
      "metadata": {
        "id": "v9ok7KVx6X_b",
        "outputId": "e5814335-b522-451c-bf7f-c0ab124a4440",
        "colab": {
          "base_uri": "https://localhost:8080/",
          "height": 642
        }
      },
      "source": [
        "matplotlib.rcParams['figure.figsize']=[34,23]\n",
        "plt.bar(range(17),np.absolute(fa3.loadings_[:,0]),tick_label=FIFA_data_dropped.columns)\n",
        "plt.title('FIFA SCORE')\n",
        "plt.xlabel('Type Score')\n",
        "plt.ylabel('Score')"
      ],
      "execution_count": 95,
      "outputs": [
        {
          "output_type": "execute_result",
          "data": {
            "text/plain": [
              "Text(0, 0.5, 'Score')"
            ]
          },
          "metadata": {
            "tags": []
          },
          "execution_count": 95
        },
        {
          "output_type": "display_data",
          "data": {
            "image/png": "[encoded data removed]",
            "text/plain": [
              "<Figure size 2448x1656 with 1 Axes>"
            ]
          },
          "metadata": {
            "tags": [],
            "needs_background": "light"
          }
        }
      ]
    },
    {
      "cell_type": "markdown",
      "metadata": {
        "id": "Thvgai0t8ywr"
      },
      "source": [
        "##จากกราฟแท่ง FIFA SCORE\n",
        "\n",
        "พบว่า \n",
        "1. On-Target และ Corners จัดอยู่ในกลุ่มเดียวกัน\n",
        "2. Off-Target และ Blocked จัดอยู่ในกลุ่มเดียวกัน\n",
        "3. Fouls Committed และ Yellow Card จัดอยู่ในกลุ่มเดียวกัน\n",
        "4. Offsides และ Yellow & Red จัดอยู่ในกลุ่มเดียวกัน\n",
        "\n",
        "ส่วน Type Score อื่นๆ ไม่ได้อยู่ในกลุ่มเดียวกับใครเลย คือ\n",
        "\n",
        "'Goal Scored', 'Ball Possession %', 'Attempts', 'Free Kicks', 'Saves','Pass Accuracy %', 'Passes', 'Distance Covered (Kms)', 'Fouls Committed', 'Red'"
      ]
    }
  ]
}