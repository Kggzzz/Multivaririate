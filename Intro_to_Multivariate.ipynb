{
  "nbformat": 4,
  "nbformat_minor": 0,
  "metadata": {
    "colab": {
      "name": "Untitled0.ipynb",
      "provenance": [],
      "authorship_tag": "ABX9TyNdxtQqrTEdu778bAEETeJa",
      "include_colab_link": true
    },
    "kernelspec": {
      "name": "python3",
      "display_name": "Python 3"
    }
  },
  "cells": [
    {
      "cell_type": "markdown",
      "metadata": {
        "id": "view-in-github",
        "colab_type": "text"
      },
      "source": [
        "<a href=\"https://colab.research.google.com/github/Kggzzz/Multivaririate/blob/main/Intro_to_Multivariate.ipynb\" target=\"_parent\"><img src=\"https://colab.research.google.com/assets/colab-badge.svg\" alt=\"Open In Colab\"/></a>"
      ]
    },
    {
      "cell_type": "markdown",
      "metadata": {
        "id": "fdgJAvM5iPOf"
      },
      "source": [
        "นางสาว รัฐพร ลีนาราชรุ่งเรือง ID:613021020-4"
      ]
    },
    {
      "cell_type": "code",
      "metadata": {
        "colab": {
          "base_uri": "https://localhost:8080/"
        },
        "id": "wX9FaWxOhlbo",
        "outputId": "057b0a34-b0f1-4050-8295-78d90ce8c37c"
      },
      "source": [
        "print('รัฐพร')\r\n",
        "#' ' single quote ใส่ข้อความ\r\n",
        "#เป็นการแสดงผลให้ปรากฎขึ้นบนหน้าจอ"
      ],
      "execution_count": 1,
      "outputs": [
        {
          "output_type": "stream",
          "text": [
            "รัฐพร\n"
          ],
          "name": "stdout"
        }
      ]
    }
  ]
}